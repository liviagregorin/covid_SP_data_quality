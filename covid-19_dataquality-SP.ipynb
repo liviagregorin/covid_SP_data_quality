{
 "cells": [
  {
   "cell_type": "markdown",
   "metadata": {
    "_uuid": "df39ae7ca8450cb2ced8f78104ce562074891ecf"
   },
   "source": [
    "<div align=\"center\">\n",
    " <img src=\"https://raw.githubusercontent.com/matheusmota/dataviz2018/master/resources/images/logo_facens_pos.png\" width=\"150px\">\n",
    " <h1> Especialização em Ciência de Dados - Centro Universitário Facens</h1>\n",
    " <h2> Trabalho de Conclusão de Curso em Ciência de Dados</h2>\n",
    "</div>\n",
    "<br><br>\n"
   ]
  },
  {
   "cell_type": "markdown",
   "metadata": {},
   "source": [
    "## Análise da qualidade dos dados públicos referentes à notificação de síndrome gripal suspeitos de COVID-19 para o estado de São Paulo\n",
    "\n",
    "Freitas, Lucas S.  Gregorin, Livia V. Mendonça, Beatriz C. M. Lochter, Johannes V.\n",
    "\n",
    "\n",
    "lucas-souzad@hotmail.com, liviagregorin@gmail.com, beacristinamm@gmail.com, johannes.lochter@facens.br"
   ]
  },
  {
   "cell_type": "markdown",
   "metadata": {},
   "source": [
    "# Instalando pacotes e importando bibliotecas"
   ]
  },
  {
   "cell_type": "code",
   "execution_count": 2,
   "metadata": {},
   "outputs": [
    {
     "name": "stdout",
     "output_type": "stream",
     "text": [
      "Requirement already satisfied: pyspark in c:\\programdata\\anaconda3\\lib\\site-packages (3.3.1)\n",
      "Requirement already satisfied: py4j==0.10.9.5 in c:\\programdata\\anaconda3\\lib\\site-packages (from pyspark) (0.10.9.5)\n"
     ]
    }
   ],
   "source": [
    "#instalando pyspark\n",
    "\n",
    "!pip install pyspark "
   ]
  },
  {
   "cell_type": "code",
   "execution_count": 3,
   "metadata": {},
   "outputs": [
    {
     "name": "stdout",
     "output_type": "stream",
     "text": [
      "Requirement already satisfied: pyarrow in c:\\programdata\\anaconda3\\lib\\site-packages (11.0.0)\n",
      "Requirement already satisfied: numpy>=1.16.6 in c:\\programdata\\anaconda3\\lib\\site-packages (from pyarrow) (1.19.2)\n"
     ]
    }
   ],
   "source": [
    "!pip install pyarrow"
   ]
  },
  {
   "cell_type": "code",
   "execution_count": 4,
   "metadata": {},
   "outputs": [
    {
     "name": "stderr",
     "output_type": "stream",
     "text": [
      "WARNING:root:'PYARROW_IGNORE_TIMEZONE' environment variable was not set. It is required to set this environment variable to '1' in both driver and executor sides if you use pyarrow>=2.0.0. pandas-on-Spark will set it for you but it does not work if there is a Spark context already launched.\n"
     ]
    }
   ],
   "source": [
    "#análises parciais com Pandas\n",
    "import pyspark.pandas as ps\n",
    "import numpy as np\n",
    "import pandas as pd\n",
    "import os\n",
    "from sklearn.feature_extraction.text import CountVectorizer\n",
    "\n",
    "\n",
    "#bibliotecas complementares pySpark\n",
    "import pyspark.sql.functions as F\n",
    "from pyspark.sql.types import StructField, ArrayType, StringType, StructType\n",
    "from pyspark.ml.feature import CountVectorizer\n",
    "from pyspark.sql import SparkSession\n",
    "from pyspark.sql.functions import col, asc, desc, count, isnan, when, lit, round, to_date, avg, split, to_date\n",
    "from pyspark.sql import DataFrame\n",
    "import pyspark.sql.types\n",
    "from pyspark.sql.types import DoubleType\n",
    "import pyspark.sql.functions as sql_fun\n",
    "\n",
    "\n",
    "import findspark\n",
    "findspark.init()\n",
    "findspark.find()\n",
    "\n",
    "\n",
    "import seaborn as sns\n",
    "import plotly\n",
    "from plotly.subplots import make_subplots\n",
    "import plotly.offline as py\n",
    "import plotly.graph_objects as go\n",
    "import plotly.express as px\n",
    "import seaborn as sns\n",
    "import matplotlib.pyplot as plt"
   ]
  },
  {
   "cell_type": "code",
   "execution_count": 5,
   "metadata": {},
   "outputs": [],
   "source": [
    "# Enable Arrow-based columnar data transfers\n",
    "spark.conf.set(\"spark.sql.execution.arrow.pyspark.enabled\", \"true\")"
   ]
  },
  {
   "cell_type": "code",
   "execution_count": 7,
   "metadata": {},
   "outputs": [
    {
     "data": {
      "text/html": [
       "<style>pre { white-space: pre !important; }</style>"
      ],
      "text/plain": [
       "<IPython.core.display.HTML object>"
      ]
     },
     "metadata": {},
     "output_type": "display_data"
    }
   ],
   "source": [
    "#bibliteca para mostras melhor as informações\n",
    "\n",
    "from IPython.core.display import HTML\n",
    "display(HTML(\"<style>pre { white-space: pre !important; }</style>\"))\n",
    "\n",
    "from pyspark.sql.functions import lit,col,round, max, when"
   ]
  },
  {
   "cell_type": "markdown",
   "metadata": {},
   "source": [
    "# Importando CSVs"
   ]
  },
  {
   "cell_type": "code",
   "execution_count": 5,
   "metadata": {},
   "outputs": [],
   "source": [
    "spark = SparkSession.builder.appName('DataFrame').config('spark.master','local').getOrCreate()\n",
    "\n",
    "path = ['/Users/souza.lucas/Desktop/TCC/2022/2022lote1.csv',\n",
    "        '/Users/souza.lucas/Desktop/TCC/2022/2022lote2.csv',\n",
    "        '/Users/souza.lucas/Desktop/TCC/2022/2022lote3.csv',\n",
    "        '/Users/souza.lucas/Desktop/TCC/2022/2022lote4.csv',\n",
    "        '/Users/souza.lucas/Desktop/TCC/2022/2022lote5.csv',\n",
    "        '/Users/souza.lucas/Desktop/TCC/2022/2022lote6.csv',\n",
    "        '/Users/souza.lucas/Desktop/TCC/2022/2022lote7.csv',\n",
    "        '/Users/souza.lucas/Desktop/TCC/2022/2022lote8.csv',\n",
    "        '/Users/souza.lucas/Desktop/TCC/2022/2022lote9.csv',\n",
    "        '/Users/souza.lucas/Desktop/TCC/2022/2022lote10.csv',\n",
    "        '/Users/souza.lucas/Desktop/TCC/2022/2022lote11.csv',\n",
    "        '/Users/souza.lucas/Desktop/TCC/2022/2022lote12.csv',\n",
    "        '/Users/souza.lucas/Desktop/TCC/2022/2022lote13.csv',\n",
    "        '/Users/souza.lucas/Desktop/TCC/2022/2022lote14.csv',\n",
    "        '/Users/souza.lucas/Desktop/TCC/2022/2022lote15.csv',\n",
    "        '/Users/souza.lucas/Desktop/TCC/2022/2022lote16.csv',\n",
    "        '/Users/souza.lucas/Desktop/TCC/2022/2022lote17.csv',\n",
    "        '/Users/souza.lucas/Desktop/TCC/2022/2022lote18.csv',\n",
    "        '/Users/souza.lucas/Desktop/TCC/2022/2022lote19.csv',\n",
    "        '/Users/souza.lucas/Desktop/TCC/2022/2022lote20.csv',\n",
    "        '/Users/souza.lucas/Desktop/TCC/2022/2022lote21.csv',\n",
    "        '/Users/souza.lucas/Desktop/TCC/2022/2022lote22.csv',\n",
    "        '/Users/souza.lucas/Desktop/TCC/2022/2022lote23.csv',\n",
    "        '/Users/souza.lucas/Desktop/TCC/2022/2022lote24.csv',\n",
    "        '/Users/souza.lucas/Desktop/TCC/2022/2022lote25.csv',\n",
    "        '/Users/souza.lucas/Desktop/TCC/2022/2022lote26.csv',\n",
    "        '/Users/souza.lucas/Desktop/TCC/2022/2022lote27.csv',\n",
    "        '/Users/souza.lucas/Desktop/TCC/2022/2022lote28.csv',\n",
    "        '/Users/souza.lucas/Desktop/TCC/2022/2022lote29.csv',\n",
    "        '/Users/souza.lucas/Desktop/TCC/2022/2022lote30.csv',\n",
    "        '/Users/souza.lucas/Desktop/TCC/2022/2022lote31.csv',\n",
    "        '/Users/souza.lucas/Desktop/TCC/2022/2022lote32.csv',\n",
    "        '/Users/souza.lucas/Desktop/TCC/2022/2022lote33.csv'\n",
    "       ]\n",
    "  \n",
    "df = spark.read.csv(path, sep=';', inferSchema=True, header=True)"
   ]
  },
  {
   "cell_type": "markdown",
   "metadata": {},
   "source": [
    "## Verificação dos dados de identificação do paciente"
   ]
  },
  {
   "cell_type": "code",
   "execution_count": 6,
   "metadata": {},
   "outputs": [
    {
     "name": "stdout",
     "output_type": "stream",
     "text": [
      "15573511\n"
     ]
    }
   ],
   "source": [
    "Total = df.count()\n",
    "print(Total)"
   ]
  },
  {
   "cell_type": "code",
   "execution_count": 8,
   "metadata": {},
   "outputs": [],
   "source": [
    "#seleção dos colunas referente à identificacao do paciente\n",
    "df_identificacao = df.select('estadoNotificacao',                 \n",
    "                             'estadoNotificacaoIBGE',             \n",
    "                             'municipioNotificacao',              \n",
    "                             'municipioNotificacaoIBGE',          \n",
    "                             'profissionalSaude',                 \n",
    "                             'profissionalSeguranca',             \n",
    "                             'cbo',                               \n",
    "                             'idade',                             \n",
    "                             'sexo',                              \n",
    "                             'racaCor',                           \n",
    "                             'codigoContemComunidadeTradicional', \n",
    "                             'estado',\n",
    "                             'estadoIBGE',\n",
    "                             'municipio',\n",
    "                             'municipioIBGE')"
   ]
  },
  {
   "cell_type": "code",
   "execution_count": 9,
   "metadata": {},
   "outputs": [
    {
     "name": "stdout",
     "output_type": "stream",
     "text": [
      "+-----------------+--------+--------+\n",
      "|estadoNotificacao|Qtd     |%       |\n",
      "+-----------------+--------+--------+\n",
      "|Bahia            |26      |2.0E-6  |\n",
      "|São Paulo        |15573482|0.999998|\n",
      "|None             |3       |0.0     |\n",
      "+-----------------+--------+--------+\n",
      "\n"
     ]
    }
   ],
   "source": [
    "#estadoNotificacao (Obrigatório)\n",
    "df_identificacao.groupBy('estadoNotificacao').count()\\\n",
    "                .select('estadoNotificacao',\n",
    "                        col('count').alias('Qtd'),\n",
    "                        round((col('count')/Total), 6).alias('%')).show(10,False)\n",
    "\n",
    "#Possui preenchimento errado"
   ]
  },
  {
   "cell_type": "code",
   "execution_count": 10,
   "metadata": {},
   "outputs": [
    {
     "name": "stdout",
     "output_type": "stream",
     "text": [
      "+---------------------+--------+--------+\n",
      "|estadoNotificacaoIBGE|Qtd     |%       |\n",
      "+---------------------+--------+--------+\n",
      "|null                 |839452  |0.053903|\n",
      "|SP                   |14734057|0.946097|\n",
      "|29                   |2       |0.0     |\n",
      "+---------------------+--------+--------+\n",
      "\n"
     ]
    }
   ],
   "source": [
    "#estadoNotificacaoIBGE\n",
    "df_identificacao.groupBy('estadoNotificacaoIBGE').count()\\\n",
    "                .select('estadoNotificacaoIBGE',\n",
    "                        col('count').alias('Qtd'),\n",
    "                        round((col('count')/Total), 6).alias('%')).show(10,False)\n",
    "\n",
    "#Possui preenchimento errado"
   ]
  },
  {
   "cell_type": "code",
   "execution_count": 11,
   "metadata": {},
   "outputs": [
    {
     "name": "stdout",
     "output_type": "stream",
     "text": [
      "+--------------------+-----+--------+\n",
      "|municipioNotificacao|Qtd  |%       |\n",
      "+--------------------+-----+--------+\n",
      "|null                |3584 |2.3E-4  |\n",
      "|Adamantina          |17189|0.001104|\n",
      "|Adolfo              |2746 |1.76E-4 |\n",
      "|Aguaí               |16406|0.001053|\n",
      "|Agudos              |6243 |4.01E-4 |\n",
      "+--------------------+-----+--------+\n",
      "only showing top 5 rows\n",
      "\n",
      "Qtd de Municipios:  646\n"
     ]
    }
   ],
   "source": [
    "#municipioNotificacao (Obrigatório)\n",
    "df_identificacao.groupBy('municipioNotificacao').count()\\\n",
    "                .select('municipioNotificacao',\n",
    "                        col('count').alias('Qtd'),\n",
    "                        round((col('count')/Total), 6).alias('%')).orderBy('municipioNotificacao').show(5,False)\n",
    "\n",
    "print('Qtd de Municipios: ',df_identificacao.groupBy('municipioNotificacao').count().count())\n",
    "#645\n",
    "\n",
    "#Possui linhas vazias, as preenchidas estão de acordo com o dicionário"
   ]
  },
  {
   "cell_type": "code",
   "execution_count": 12,
   "metadata": {},
   "outputs": [
    {
     "name": "stdout",
     "output_type": "stream",
     "text": [
      "+------------------------+------+--------+\n",
      "|municipioNotificacaoIBGE|Qtd   |%       |\n",
      "+------------------------+------+--------+\n",
      "|null                    |843032|0.054132|\n",
      "|3                       |3     |0.0     |\n",
      "|1304062                 |128   |8.0E-6  |\n",
      "|1400050                 |944   |6.1E-5  |\n",
      "|2103109                 |5446  |3.5E-4  |\n",
      "+------------------------+------+--------+\n",
      "only showing top 5 rows\n",
      "\n",
      "Qtd de Municipios:  686\n"
     ]
    }
   ],
   "source": [
    "#municipioNotificacaoIBGE\n",
    "df_identificacao.groupBy('municipioNotificacaoIBGE').count()\\\n",
    "                .select('municipioNotificacaoIBGE',\n",
    "                        col('count').alias('Qtd'),\n",
    "                        round((col('count')/Total), 6).alias('%')).orderBy('municipioNotificacaoIBGE').show(5,False)\n",
    "\n",
    "print('Qtd de Municipios: ',df_identificacao.groupBy('municipioNotificacaoIBGE').count().count())\n",
    "\n",
    "#Possui preenchimento errado e possui mais de um codigo para o mesmo município"
   ]
  },
  {
   "cell_type": "code",
   "execution_count": 13,
   "metadata": {},
   "outputs": [
    {
     "name": "stdout",
     "output_type": "stream",
     "text": [
      "+-----------------+--------+--------+\n",
      "|profissionalSaude|Qtd     |%       |\n",
      "+-----------------+--------+--------+\n",
      "|Não              |15326248|0.984123|\n",
      "|Sim              |246786  |0.015847|\n",
      "|null             |477     |3.1E-5  |\n",
      "+-----------------+--------+--------+\n",
      "\n"
     ]
    }
   ],
   "source": [
    "#profissionalSaude (obrigatório)\n",
    "df_identificacao.groupBy('profissionalSaude').count()\\\n",
    "                .select('profissionalSaude',\n",
    "                        col('count').alias('Qtd'),\n",
    "                        round((col('count')/Total), 6).alias('%')).show(5,False)\n",
    "\n",
    "#Possui linhas vazias, as preenchidas estão de acordo com o dicionário"
   ]
  },
  {
   "cell_type": "code",
   "execution_count": 14,
   "metadata": {},
   "outputs": [
    {
     "name": "stdout",
     "output_type": "stream",
     "text": [
      "+---------------------+--------+--------+\n",
      "|profissionalSeguranca|Qtd     |%       |\n",
      "+---------------------+--------+--------+\n",
      "|Não                  |15541904|0.99797 |\n",
      "|null                 |11069   |7.11E-4 |\n",
      "|Sim                  |20535   |0.001319|\n",
      "|GBGbpPj25b           |1       |0.0     |\n",
      "|fVLfiTbwqA           |1       |0.0     |\n",
      "+---------------------+--------+--------+\n",
      "only showing top 5 rows\n",
      "\n"
     ]
    }
   ],
   "source": [
    "#profissionalSeguranca\n",
    "df_identificacao.groupBy('profissionalSeguranca').count()\\\n",
    "                .select('profissionalSeguranca',\n",
    "                        col('count').alias('Qtd'),\n",
    "                        round((col('count')/Total), 6).alias('%')).show(5,False)\n",
    "\n",
    "#Possui preenchimento errado"
   ]
  },
  {
   "cell_type": "code",
   "execution_count": 15,
   "metadata": {},
   "outputs": [
    {
     "name": "stdout",
     "output_type": "stream",
     "text": [
      "+---------------------------------------------+--------+--------+\n",
      "|cbo                                          |Qtd     |%       |\n",
      "+---------------------------------------------+--------+--------+\n",
      "|null                                         |15080341|0.968333|\n",
      "|0101 - Oficiais generais das forças armadas  |4324    |2.78E-4 |\n",
      "|0102 - Oficiais das forças armadas           |8226    |5.28E-4 |\n",
      "|0103 - Praças das forças armadas             |1088    |7.0E-5  |\n",
      "|0201 - Oficiais superiores da polícia militar|420     |2.7E-5  |\n",
      "+---------------------------------------------+--------+--------+\n",
      "only showing top 5 rows\n",
      "\n",
      "Qtd profissoes:  628\n",
      "Total:  493170\n"
     ]
    }
   ],
   "source": [
    "#cbo (obrigatório se profissionalsaude = sim)\n",
    "df_identificacao.groupBy('cbo').count()\\\n",
    "                .select('cbo',\n",
    "                        col('count').alias('Qtd'),\n",
    "                        round((col('count')/Total), 6).alias('%')).orderBy('cbo').show(5,False)\n",
    "\n",
    "print('Qtd profissoes: ',df_identificacao.groupBy('cbo').count().count())\n",
    "print('Total: ',df_identificacao.select('cbo').filter(col('cbo').isNotNull()).count())\n",
    "\n",
    "#Possui preenchimento errado"
   ]
  },
  {
   "cell_type": "code",
   "execution_count": 16,
   "metadata": {},
   "outputs": [
    {
     "name": "stdout",
     "output_type": "stream",
     "text": [
      "+-----+-------+--------+\n",
      "|idade|Qtd    |%       |\n",
      "+-----+-------+--------+\n",
      "|null |3763687|0.241672|\n",
      "|0    |106927 |0.006866|\n",
      "|1    |154283 |0.009907|\n",
      "|2    |154840 |0.009943|\n",
      "|3    |157013 |0.010082|\n",
      "+-----+-------+--------+\n",
      "only showing top 5 rows\n",
      "\n",
      "+-----+---+---+\n",
      "|idade|Qtd|%  |\n",
      "+-----+---+---+\n",
      "|382  |1  |0.0|\n",
      "|372  |1  |0.0|\n",
      "|337  |1  |0.0|\n",
      "|326  |1  |0.0|\n",
      "|234  |1  |0.0|\n",
      "+-----+---+---+\n",
      "only showing top 5 rows\n",
      "\n"
     ]
    }
   ],
   "source": [
    "#idade  -----------------------\n",
    "df_identificacao.groupBy('idade').count()\\\n",
    "                .select('idade',\n",
    "                        col('count').alias('Qtd'),\n",
    "                        round((col('count')/Total), 6).alias('%')).orderBy('idade').show(5,False)\n",
    "\n",
    "df_identificacao.groupBy('idade').count()\\\n",
    "                .select('idade',\n",
    "                        col('count').alias('Qtd'),\n",
    "                        round((col('count')/Total), 6).alias('%')).orderBy(col('idade').desc()).show(5,False)\n",
    "\n",
    "#Possui preenchimento errado"
   ]
  },
  {
   "cell_type": "code",
   "execution_count": 17,
   "metadata": {},
   "outputs": [
    {
     "name": "stdout",
     "output_type": "stream",
     "text": [
      "+----------+-------+--------+\n",
      "|sexo      |Qtd    |%       |\n",
      "+----------+-------+--------+\n",
      "|Feminino  |9004634|0.578202|\n",
      "|Indefinido|2201   |1.41E-4 |\n",
      "|Masculino |6566655|0.421655|\n",
      "|null      |9      |1.0E-6  |\n",
      "|Outro     |12     |1.0E-6  |\n",
      "+----------+-------+--------+\n",
      "\n"
     ]
    }
   ],
   "source": [
    "#sexo (Obrigatorio)\n",
    "df_identificacao.groupBy('sexo').count()\\\n",
    "                .select('sexo',\n",
    "                        col('count').alias('Qtd'),\n",
    "                        round((col('count')/Total), 6).alias('%')).show(5,False)\n",
    "\n",
    "#Possui preenchimento errado"
   ]
  },
  {
   "cell_type": "code",
   "execution_count": 18,
   "metadata": {},
   "outputs": [
    {
     "name": "stdout",
     "output_type": "stream",
     "text": [
      "+--------+-------+--------+\n",
      "|racaCor |Qtd    |%       |\n",
      "+--------+-------+--------+\n",
      "|Ignorado|4549181|0.29211 |\n",
      "|null    |9424   |6.05E-4 |\n",
      "|Preta   |491785 |0.031578|\n",
      "|Indigena|2564   |1.65E-4 |\n",
      "|Amarela |258595 |0.016605|\n",
      "|Branco  |362    |2.3E-5  |\n",
      "|Branca  |7237726|0.464746|\n",
      "|Parda   |3023871|0.194168|\n",
      "|FD7219  |3      |0.0     |\n",
      "+--------+-------+--------+\n",
      "\n"
     ]
    }
   ],
   "source": [
    "#racaCor (Obrigatorio)\n",
    "df_identificacao.groupBy('racaCor').count()\\\n",
    "                .select('racaCor',\n",
    "                        col('count').alias('Qtd'),\n",
    "                        round((col('count')/Total), 6).alias('%')).show(10,False)\n",
    "\n",
    "#Possui preenchimento errado"
   ]
  },
  {
   "cell_type": "code",
   "execution_count": 19,
   "metadata": {},
   "outputs": [
    {
     "name": "stdout",
     "output_type": "stream",
     "text": [
      "+---------------------------------+--------+--------+\n",
      "|codigoContemComunidadeTradicional|Qtd     |%       |\n",
      "+---------------------------------+--------+--------+\n",
      "|null                             |286459  |0.018394|\n",
      "|1                                |40165   |0.002579|\n",
      "|2                                |15246887|0.979027|\n",
      "+---------------------------------+--------+--------+\n",
      "\n"
     ]
    }
   ],
   "source": [
    "#codigoContemComunidadeTradicional (Obrigatorio)\n",
    "df_identificacao.groupBy('codigoContemComunidadeTradicional').count()\\\n",
    "                .select('codigoContemComunidadeTradicional',\n",
    "                        col('count').alias('Qtd'),\n",
    "                        round((col('count')/Total), 6).alias('%')).show(5,False)\n",
    "\n",
    "#Possui linhas vazias, as preenchidas estão de acordo com o dicionario"
   ]
  },
  {
   "cell_type": "code",
   "execution_count": 20,
   "metadata": {},
   "outputs": [
    {
     "name": "stdout",
     "output_type": "stream",
     "text": [
      "+-------------------+--------+--------+\n",
      "|estado             |Qtd     |%       |\n",
      "+-------------------+--------+--------+\n",
      "|null               |20      |1.0E-6  |\n",
      "|Acre               |703     |4.5E-5  |\n",
      "|Alagoas            |3367    |2.16E-4 |\n",
      "|Amapá              |410     |2.6E-5  |\n",
      "|Amazonas           |2606    |1.67E-4 |\n",
      "|Bahia              |20402   |0.00131 |\n",
      "|Ceará              |8369    |5.37E-4 |\n",
      "|Distrito Federal   |9026    |5.8E-4  |\n",
      "|Espírito Santo     |3590    |2.31E-4 |\n",
      "|Goiás              |6991    |4.49E-4 |\n",
      "|MG                 |1       |0.0     |\n",
      "|MT                 |1       |0.0     |\n",
      "|Maranhão           |3438    |2.21E-4 |\n",
      "|Mato Grosso        |4101    |2.63E-4 |\n",
      "|Mato Grosso do Sul |5478    |3.52E-4 |\n",
      "|Minas Gerais       |39394   |0.00253 |\n",
      "|Paraná             |17569   |0.001128|\n",
      "|Paraíba            |5610    |3.6E-4  |\n",
      "|Pará               |3501    |2.25E-4 |\n",
      "|Pernambuco         |10458   |6.72E-4 |\n",
      "|Piauí              |3592    |2.31E-4 |\n",
      "|RJ                 |1       |0.0     |\n",
      "|Rio Grande do Norte|3880    |2.49E-4 |\n",
      "|Rio Grande do Sul  |7799    |5.01E-4 |\n",
      "|Rio de Janeiro     |25089   |0.001611|\n",
      "|Rondônia           |1537    |9.9E-5  |\n",
      "|Roraima            |557     |3.6E-5  |\n",
      "|SAO PAULO          |1       |0.0     |\n",
      "|SP                 |110     |7.0E-6  |\n",
      "|Santa Catarina     |10744   |6.9E-4  |\n",
      "|Sergipe            |1876    |1.2E-4  |\n",
      "|SÃO PAULO          |1       |0.0     |\n",
      "|São Paulo          |15372285|0.987079|\n",
      "|Tocantins          |1004    |6.4E-5  |\n",
      "+-------------------+--------+--------+\n",
      "\n",
      "Qtd estado:  34\n"
     ]
    }
   ],
   "source": [
    "#estado (Obrigatorio)\n",
    "df_identificacao.groupBy('estado').count()\\\n",
    "                .select('estado',\n",
    "                        col('count').alias('Qtd'),\n",
    "                        round((col('count')/Total), 6).alias('%')).orderBy('estado').show(35,False)\n",
    "\n",
    "print('Qtd estado: ',df_identificacao.groupBy('estado').count().count())\n",
    "#27 (sem null)\n",
    "\n",
    "#Possui preenchimento errado"
   ]
  },
  {
   "cell_type": "code",
   "execution_count": 21,
   "metadata": {},
   "outputs": [
    {
     "name": "stdout",
     "output_type": "stream",
     "text": [
      "+----------+--------+--------+\n",
      "|estadoIBGE|Qtd     |%       |\n",
      "+----------+--------+--------+\n",
      "|null      |361110  |0.023187|\n",
      "|1         |3       |0.0     |\n",
      "|AC        |492     |3.2E-5  |\n",
      "|AL        |3346    |2.15E-4 |\n",
      "|AM        |2593    |1.67E-4 |\n",
      "|AP        |401     |2.6E-5  |\n",
      "|BA        |19877   |0.001276|\n",
      "|CE        |8305    |5.33E-4 |\n",
      "|DF        |8851    |5.68E-4 |\n",
      "|ES        |3564    |2.29E-4 |\n",
      "|GO        |6627    |4.26E-4 |\n",
      "|MA        |3419    |2.2E-4  |\n",
      "|MG        |38015   |0.002441|\n",
      "|MS        |5269    |3.38E-4 |\n",
      "|MT        |4018    |2.58E-4 |\n",
      "|PA        |3452    |2.22E-4 |\n",
      "|PB        |5585    |3.59E-4 |\n",
      "|PE        |10316   |6.62E-4 |\n",
      "|PI        |3530    |2.27E-4 |\n",
      "|PR        |17351   |0.001114|\n",
      "|RJ        |24791   |0.001592|\n",
      "|RN        |3868    |2.48E-4 |\n",
      "|RO        |1510    |9.7E-5  |\n",
      "|RR        |556     |3.6E-5  |\n",
      "|RS        |7733    |4.97E-4 |\n",
      "|SC        |10667   |6.85E-4 |\n",
      "|SE        |1851    |1.19E-4 |\n",
      "|SP        |15015416|0.964164|\n",
      "|TO        |995     |6.4E-5  |\n",
      "+----------+--------+--------+\n",
      "\n",
      "Qtd estado:  29\n"
     ]
    }
   ],
   "source": [
    "#estadoIBGE\n",
    "df_identificacao.groupBy('estadoIBGE').count()\\\n",
    "                .select('estadoIBGE',\n",
    "                        col('count').alias('Qtd'),\n",
    "                        round((col('count')/Total), 6).alias('%')).orderBy('estadoIBGE').show(30,False)\n",
    "\n",
    "print('Qtd estado: ',df_identificacao.groupBy('estadoIBGE').count().count())\n",
    "\n",
    "#Possui preenchimento errado"
   ]
  },
  {
   "cell_type": "code",
   "execution_count": 22,
   "metadata": {},
   "outputs": [
    {
     "name": "stdout",
     "output_type": "stream",
     "text": [
      "+---------------+---+------+\n",
      "|municipio      |Qtd|%     |\n",
      "+---------------+---+------+\n",
      "|null           |24 |2.0E-6|\n",
      "|2021-09-09     |1  |0.0   |\n",
      "|2021-09-26     |1  |0.0   |\n",
      "|2021-10-11     |1  |0.0   |\n",
      "|Abadia de Goiás|8  |1.0E-6|\n",
      "+---------------+---+------+\n",
      "only showing top 5 rows\n",
      "\n",
      "Qtd municipio:  4760\n"
     ]
    }
   ],
   "source": [
    "#municipio (Obrigatorio)\n",
    "df_identificacao.groupBy('municipio').count()\\\n",
    "                .select('municipio',\n",
    "                        col('count').alias('Qtd'),\n",
    "                        round((col('count')/Total), 6).alias('%')).orderBy('municipio').show(5,False)\n",
    "\n",
    "print('Qtd municipio: ',df_identificacao.groupBy('municipio').count().count())\n",
    "#5568\n",
    "\n",
    "#Possui preenchimento errado"
   ]
  },
  {
   "cell_type": "code",
   "execution_count": 23,
   "metadata": {},
   "outputs": [
    {
     "name": "stdout",
     "output_type": "stream",
     "text": [
      "+-------------+------+--------+\n",
      "|municipioIBGE|Qtd   |%       |\n",
      "+-------------+------+--------+\n",
      "|null         |368762|0.023679|\n",
      "|1100015      |33    |2.0E-6  |\n",
      "|1100023      |125   |8.0E-6  |\n",
      "|1100031      |3     |0.0     |\n",
      "|1100049      |116   |7.0E-6  |\n",
      "+-------------+------+--------+\n",
      "only showing top 5 rows\n",
      "\n",
      "Qtd municipio:  4993\n"
     ]
    }
   ],
   "source": [
    "#municipioIBGE\n",
    "df_identificacao.groupBy('municipioIBGE').count()\\\n",
    "                .select('municipioIBGE',\n",
    "                        col('count').alias('Qtd'),\n",
    "                        round((col('count')/Total), 6).alias('%')).orderBy('municipioIBGE').show(5,False)\n",
    "\n",
    "print('Qtd municipio: ',df_identificacao.groupBy('municipioIBGE').count().count())\n",
    "#5568\n",
    "\n",
    "#Possui preenchimento errado e possui mais de um codigo para o mesmo municipio"
   ]
  },
  {
   "cell_type": "code",
   "execution_count": 24,
   "metadata": {},
   "outputs": [
    {
     "name": "stdout",
     "output_type": "stream",
     "text": [
      "Total sem Nulos:  15573511\n",
      "+----------------------+--------+---------+\n",
      "|estadoNotificacao_erro|Qtd     |%        |\n",
      "+----------------------+--------+---------+\n",
      "|Com Erro              |29      |1.86E-4  |\n",
      "|Sem Erro              |15573482|99.999814|\n",
      "+----------------------+--------+---------+\n",
      "\n"
     ]
    }
   ],
   "source": [
    "#estadoNotificacao\n",
    "Total_erro = df.filter(col('estadoNotificacao').isNotNull())\n",
    "print('Total sem Nulos: ',Total_erro.count())\n",
    "\n",
    "df_erro = Total_erro.select(when(col('estadoNotificacao') == 'São Paulo','Sem Erro').otherwise('Com Erro').alias('estadoNotificacao_erro'))\n",
    "\n",
    "df_erro.groupBy('estadoNotificacao_erro').count()\\\n",
    "       .select('estadoNotificacao_erro',\n",
    "               col('count').alias('Qtd'),\n",
    "               round((col('count')/(Total_erro.count()))*100, 6).alias('%')).show(10,False)"
   ]
  },
  {
   "cell_type": "code",
   "execution_count": 25,
   "metadata": {},
   "outputs": [
    {
     "name": "stdout",
     "output_type": "stream",
     "text": [
      "Total sem Nulos:  14734059\n",
      "+--------------------------+--------+---------+\n",
      "|estadoNotificacaoIBGE_erro|Qtd     |%        |\n",
      "+--------------------------+--------+---------+\n",
      "|Sem Erro                  |14734057|99.999986|\n",
      "|Com Erro                  |2       |1.4E-5   |\n",
      "+--------------------------+--------+---------+\n",
      "\n"
     ]
    }
   ],
   "source": [
    "#estadoNotificacaoIBGE\n",
    "Total_erro = df.filter(col('estadoNotificacaoIBGE').isNotNull())\n",
    "print('Total sem Nulos: ',Total_erro.count())\n",
    "\n",
    "df_erro = Total_erro.select(when(col('estadoNotificacaoIBGE') == 'SP','Sem Erro').otherwise('Com Erro').alias('estadoNotificacaoIBGE_erro'))\n",
    "\n",
    "df_erro.groupBy('estadoNotificacaoIBGE_erro').count()\\\n",
    "       .select('estadoNotificacaoIBGE_erro',\n",
    "               col('count').alias('Qtd'),\n",
    "               round((col('count')/(Total_erro.count()))*100, 6).alias('%')).show(10,False)"
   ]
  },
  {
   "cell_type": "code",
   "execution_count": 26,
   "metadata": {},
   "outputs": [
    {
     "name": "stdout",
     "output_type": "stream",
     "text": [
      "Total sem Nulos:  15569927\n",
      "+-------------------------+--------+-----+\n",
      "|municipioNotificacao_erro|Qtd     |%    |\n",
      "+-------------------------+--------+-----+\n",
      "|Sem Erro                 |15569927|100.0|\n",
      "+-------------------------+--------+-----+\n",
      "\n"
     ]
    }
   ],
   "source": [
    "#municipioNotificacao\n",
    "Total_erro = df.filter(col('municipioNotificacao').isNotNull())\n",
    "print('Total sem Nulos: ',Total_erro.count())\n",
    "\n",
    "df_erro = Total_erro.select(when(col('municipioNotificacao') == None,'Com Erro').otherwise('Sem Erro').alias('municipioNotificacao_erro'))\n",
    "\n",
    "df_erro.groupBy('municipioNotificacao_erro').count()\\\n",
    "       .select('municipioNotificacao_erro',\n",
    "               col('count').alias('Qtd'),\n",
    "               round((col('count')/(Total_erro.count()))*100, 6).alias('%')).show(10,False)"
   ]
  },
  {
   "cell_type": "code",
   "execution_count": 27,
   "metadata": {},
   "outputs": [
    {
     "name": "stdout",
     "output_type": "stream",
     "text": [
      "Total sem Nulos:  14730479\n",
      "+-----------------------------+--------+--------+\n",
      "|municipioNotificacaoIBGE_erro|Qtd     |%       |\n",
      "+-----------------------------+--------+--------+\n",
      "|Sem Erro                     |14730476|99.99998|\n",
      "|Com Erro                     |3       |2.0E-5  |\n",
      "+-----------------------------+--------+--------+\n",
      "\n"
     ]
    }
   ],
   "source": [
    "#municipioNotificacaoIBGE\n",
    "Total_erro = df.filter(col('municipioNotificacaoIBGE').isNotNull())\n",
    "print('Total sem Nulos: ',Total_erro.count())\n",
    "\n",
    "df_erro = Total_erro.select(when(col('municipioNotificacaoIBGE') == 3,'Com Erro').otherwise('Sem Erro').alias('municipioNotificacaoIBGE_erro'))\n",
    "\n",
    "df_erro.groupBy('municipioNotificacaoIBGE_erro').count()\\\n",
    "       .select('municipioNotificacaoIBGE_erro',\n",
    "               col('count').alias('Qtd'),\n",
    "               round((col('count')/(Total_erro.count()))*100, 6).alias('%')).show(10,False)"
   ]
  },
  {
   "cell_type": "code",
   "execution_count": 28,
   "metadata": {},
   "outputs": [
    {
     "name": "stdout",
     "output_type": "stream",
     "text": [
      "Total sem Nulos:  15573034\n",
      "+----------------------+--------+-----+\n",
      "|profissionalSaude_erro|Qtd     |%    |\n",
      "+----------------------+--------+-----+\n",
      "|Sem Erro              |15573034|100.0|\n",
      "+----------------------+--------+-----+\n",
      "\n"
     ]
    }
   ],
   "source": [
    "#profissionalSaude\n",
    "Total_erro = df.filter(col('profissionalSaude').isNotNull())\n",
    "print('Total sem Nulos: ',Total_erro.count())\n",
    "\n",
    "df_erro = Total_erro.select(lit('Sem Erro').alias('profissionalSaude_erro'))\n",
    "\n",
    "df_erro.groupBy('profissionalSaude_erro').count()\\\n",
    "       .select('profissionalSaude_erro',\n",
    "               col('count').alias('Qtd'),\n",
    "               round((col('count')/(Total_erro.count()))*100, 6).alias('%')).show(10,False)"
   ]
  },
  {
   "cell_type": "code",
   "execution_count": 29,
   "metadata": {},
   "outputs": [
    {
     "name": "stdout",
     "output_type": "stream",
     "text": [
      "Total sem Nulos:  15562442\n",
      "+--------------------------+--------+---------+\n",
      "|profissionalSeguranca_erro|Qtd     |%        |\n",
      "+--------------------------+--------+---------+\n",
      "|Sem Erro                  |15562440|99.999987|\n",
      "|Com Erro                  |2       |1.3E-5   |\n",
      "+--------------------------+--------+---------+\n",
      "\n"
     ]
    }
   ],
   "source": [
    "#profissionalSeguranca\n",
    "Total_erro = df.filter(col('profissionalSeguranca').isNotNull())\n",
    "print('Total sem Nulos: ',Total_erro.count())\n",
    "\n",
    "df_erro = Total_erro.select(when((col('profissionalSeguranca') == 'mfybIEBpCQ') | (col('profissionalSeguranca') == 'GBGbpPj25b'),'Com Erro').otherwise('Sem Erro').alias('profissionalSeguranca_erro'))\n",
    "\n",
    "df_erro.groupBy('profissionalSeguranca_erro').count()\\\n",
    "       .select('profissionalSeguranca_erro',\n",
    "               col('count').alias('Qtd'),\n",
    "               round((col('count')/(Total_erro.count()))*100, 6).alias('%')).show(10,False)"
   ]
  },
  {
   "cell_type": "code",
   "execution_count": 30,
   "metadata": {},
   "outputs": [
    {
     "name": "stdout",
     "output_type": "stream",
     "text": [
      "Total sem Nulos:  493170\n",
      "+--------+------+---------+\n",
      "|cbo_erro|Qtd   |%        |\n",
      "+--------+------+---------+\n",
      "|Sem Erro|493167|99.999392|\n",
      "|Com Erro|3     |6.08E-4  |\n",
      "+--------+------+---------+\n",
      "\n"
     ]
    }
   ],
   "source": [
    "#cbo\n",
    "Total_erro = df.filter(col('cbo').isNotNull())\n",
    "print('Total sem Nulos: ',Total_erro.count())\n",
    "\n",
    "df_erro = Total_erro.select(when(col('cbo') == 'false','Com Erro').otherwise('Sem Erro').alias('cbo_erro'))\n",
    "\n",
    "df_erro.groupBy('cbo_erro').count()\\\n",
    "       .select('cbo_erro',\n",
    "               col('count').alias('Qtd'),\n",
    "               round((col('count')/(Total_erro.count()))*100, 6).alias('%')).show(10,False)"
   ]
  },
  {
   "cell_type": "code",
   "execution_count": 31,
   "metadata": {},
   "outputs": [
    {
     "name": "stdout",
     "output_type": "stream",
     "text": [
      "Total sem Nulos:  11809824\n",
      "+----------+--------+---------+\n",
      "|idade_erro|Qtd     |%        |\n",
      "+----------+--------+---------+\n",
      "|Sem Erro  |11809813|99.999907|\n",
      "|Com Erro  |11      |9.3E-5   |\n",
      "+----------+--------+---------+\n",
      "\n"
     ]
    }
   ],
   "source": [
    "#idade\n",
    "Total_erro = df.filter(col('idade').isNotNull())\n",
    "print('Total sem Nulos: ',Total_erro.count())\n",
    "\n",
    "df_erro = Total_erro.select(when(col('idade') >= 121,'Com Erro').otherwise('Sem Erro').alias('idade_erro'))\n",
    "\n",
    "df_erro.groupBy('idade_erro').count()\\\n",
    "       .select('idade_erro',\n",
    "               col('count').alias('Qtd'),\n",
    "               round((col('count')/(Total_erro.count()))*100, 6).alias('%')).show(10,False)"
   ]
  },
  {
   "cell_type": "code",
   "execution_count": 32,
   "metadata": {},
   "outputs": [
    {
     "name": "stdout",
     "output_type": "stream",
     "text": [
      "Total sem Nulos:  15573502\n",
      "+---------+--------+--------+\n",
      "|sexo_erro|Qtd     |%       |\n",
      "+---------+--------+--------+\n",
      "|Com Erro |2213    |0.01421 |\n",
      "|Sem Erro |15571289|99.98579|\n",
      "+---------+--------+--------+\n",
      "\n"
     ]
    }
   ],
   "source": [
    "#sexo\n",
    "Total_erro = df.filter(col('sexo').isNotNull())\n",
    "print('Total sem Nulos: ',Total_erro.count())\n",
    "\n",
    "df_erro = Total_erro.select(when((col('sexo') == 'Feminino') | \n",
    "                                 (col('sexo') == 'Masculino' ),'Sem Erro').otherwise('Com Erro').alias('sexo_erro'))\n",
    "\n",
    "df_erro.groupBy('sexo_erro').count()\\\n",
    "       .select('sexo_erro',\n",
    "               col('count').alias('Qtd'),\n",
    "               round((col('count')/(Total_erro.count()))*100, 6).alias('%')).show(10,False)"
   ]
  },
  {
   "cell_type": "code",
   "execution_count": 33,
   "metadata": {},
   "outputs": [
    {
     "name": "stdout",
     "output_type": "stream",
     "text": [
      "Total sem Nulos:  15564087\n",
      "+------------+--------+---------+\n",
      "|racaCor_erro|Qtd     |%        |\n",
      "+------------+--------+---------+\n",
      "|Com Erro    |365     |0.002345 |\n",
      "|Sem Erro    |15563722|99.997655|\n",
      "+------------+--------+---------+\n",
      "\n"
     ]
    }
   ],
   "source": [
    "#racaCor\n",
    "Total_erro = df.filter(col('racaCor').isNotNull())\n",
    "print('Total sem Nulos: ',Total_erro.count())\n",
    "\n",
    "df_erro = Total_erro.select(when((col('racaCor') == 'FD7219') | \n",
    "                                 (col('racaCor') == 'Branco'),'Com Erro').otherwise('Sem Erro').alias('racaCor_erro'))\n",
    "\n",
    "df_erro.groupBy('racaCor_erro').count()\\\n",
    "       .select('racaCor_erro',\n",
    "               col('count').alias('Qtd'),\n",
    "               round((col('count')/(Total_erro.count()))*100, 6).alias('%')).show(10,False)"
   ]
  },
  {
   "cell_type": "code",
   "execution_count": 34,
   "metadata": {},
   "outputs": [
    {
     "name": "stdout",
     "output_type": "stream",
     "text": [
      "Total sem Nulos:  15287052\n",
      "+--------------------------------------+--------+-----+\n",
      "|codigoContemComunidadeTradicional_erro|Qtd     |%    |\n",
      "+--------------------------------------+--------+-----+\n",
      "|Sem Erro                              |15287052|100.0|\n",
      "+--------------------------------------+--------+-----+\n",
      "\n"
     ]
    }
   ],
   "source": [
    "#codigoContemComunidadeTradicional\n",
    "Total_erro = df.filter(col('codigoContemComunidadeTradicional').isNotNull())\n",
    "print('Total sem Nulos: ',Total_erro.count())\n",
    "\n",
    "df_erro = Total_erro.select(lit('Sem Erro').alias('codigoContemComunidadeTradicional_erro'))\n",
    "\n",
    "df_erro.groupBy('codigoContemComunidadeTradicional_erro').count()\\\n",
    "       .select('codigoContemComunidadeTradicional_erro',\n",
    "               col('count').alias('Qtd'),\n",
    "               round((col('count')/(Total_erro.count()))*100, 6).alias('%')).show(10,False)"
   ]
  },
  {
   "cell_type": "code",
   "execution_count": 35,
   "metadata": {},
   "outputs": [
    {
     "name": "stdout",
     "output_type": "stream",
     "text": [
      "Total sem Nulos:  15573491\n",
      "+-----------+--------+---------+\n",
      "|estado_erro|Qtd     |%        |\n",
      "+-----------+--------+---------+\n",
      "|Sem Erro   |15573376|99.999262|\n",
      "|Com Erro   |115     |7.38E-4  |\n",
      "+-----------+--------+---------+\n",
      "\n"
     ]
    }
   ],
   "source": [
    "#estado\n",
    "Total_erro = df.filter(col('estado').isNotNull())\n",
    "print('Total sem Nulos: ',Total_erro.count())\n",
    "\n",
    "df_erro = Total_erro.select(when((col('estado') == 'MG') | \n",
    "                                 (col('estado') == 'MT') | \n",
    "                                 (col('estado') == 'RJ') | \n",
    "                                 (col('estado') == 'SP') | \n",
    "                                 (col('estado') == 'SAO PAULO') | \n",
    "                                 (col('estado') == 'SÃO PAULO'),'Com Erro').otherwise('Sem Erro').alias('estado_erro'))\n",
    "\n",
    "df_erro.groupBy('estado_erro').count()\\\n",
    "       .select('estado_erro',\n",
    "               col('count').alias('Qtd'),\n",
    "               round((col('count')/(Total_erro.count()))*100, 6).alias('%')).show(10,False)"
   ]
  },
  {
   "cell_type": "code",
   "execution_count": 36,
   "metadata": {},
   "outputs": [
    {
     "name": "stdout",
     "output_type": "stream",
     "text": [
      "Total sem Nulos:  15212401\n",
      "+---------------+--------+--------+\n",
      "|estadoIBGE_erro|Qtd     |%       |\n",
      "+---------------+--------+--------+\n",
      "|Sem Erro       |15212398|99.99998|\n",
      "|Com Erro       |3       |2.0E-5  |\n",
      "+---------------+--------+--------+\n",
      "\n"
     ]
    }
   ],
   "source": [
    "#estadoIBGE\n",
    "Total_erro = df.filter(col('estadoIBGE').isNotNull())\n",
    "print('Total sem Nulos: ',Total_erro.count())\n",
    "\n",
    "df_erro = Total_erro.select(when(col('estadoIBGE') == 1,'Com Erro').otherwise('Sem Erro').alias('estadoIBGE_erro'))\n",
    "\n",
    "df_erro.groupBy('estadoIBGE_erro').count()\\\n",
    "       .select('estadoIBGE_erro',\n",
    "               col('count').alias('Qtd'),\n",
    "               round((col('count')/(Total_erro.count()))*100, 6).alias('%')).show(10,False)"
   ]
  },
  {
   "cell_type": "code",
   "execution_count": 37,
   "metadata": {},
   "outputs": [
    {
     "name": "stdout",
     "output_type": "stream",
     "text": [
      "Total sem Nulos:  15573487\n",
      "+--------------+--------+---------+\n",
      "|municipio_erro|Qtd     |%        |\n",
      "+--------------+--------+---------+\n",
      "|Sem Erro      |15573484|99.999981|\n",
      "|Com Erro      |3       |1.9E-5   |\n",
      "+--------------+--------+---------+\n",
      "\n"
     ]
    }
   ],
   "source": [
    "#municipio\n",
    "Total_erro = df.filter(col('municipio').isNotNull())\n",
    "print('Total sem Nulos: ',Total_erro.count())\n",
    "\n",
    "df_erro = Total_erro.select(when((col('municipio') == '2021-09-09') | \n",
    "                                 (col('municipio') == '2021-09-26') | \n",
    "                                 (col('municipio') == '2021-10-11'),'Com Erro').otherwise('Sem Erro').alias('municipio_erro'))\n",
    "\n",
    "df_erro.groupBy('municipio_erro').count()\\\n",
    "       .select('municipio_erro',\n",
    "               col('count').alias('Qtd'),\n",
    "               round((col('count')/(Total_erro.count()))*100, 6).alias('%')).show(10,False)"
   ]
  },
  {
   "cell_type": "code",
   "execution_count": 38,
   "metadata": {},
   "outputs": [
    {
     "name": "stdout",
     "output_type": "stream",
     "text": [
      "Total sem Nulos:  15204749\n",
      "+------------------+--------+---------+\n",
      "|municipioIBGE_erro|Qtd     |%        |\n",
      "+------------------+--------+---------+\n",
      "|Com Erro          |28187   |0.185383 |\n",
      "|Sem Erro          |15176562|99.814617|\n",
      "+------------------+--------+---------+\n",
      "\n"
     ]
    }
   ],
   "source": [
    "#municipioIBGE\n",
    "Total_erro = df.filter(col('municipioIBGE').isNotNull())\n",
    "print('Total sem Nulos: ',Total_erro.count())\n",
    "\n",
    "df_erro = Total_erro.select(when((col('municipioIBGE') == '2021-09-25') | \n",
    "                                 (col(\"municipioIBGE\").cast(\"int\").isNull()),'Com Erro').otherwise('Sem Erro').alias('municipioIBGE_erro'))\n",
    "\n",
    "df_erro.groupBy('municipioIBGE_erro').count()\\\n",
    "       .select('municipioIBGE_erro',\n",
    "               col('count').alias('Qtd'),\n",
    "               round((col('count')/(Total_erro.count()))*100, 6).alias('%')).show(10,False)"
   ]
  },
  {
   "cell_type": "markdown",
   "metadata": {},
   "source": [
    "## Verificação dos dados de Estratégia e Local de Realização da Testagem"
   ]
  },
  {
   "cell_type": "code",
   "execution_count": 39,
   "metadata": {},
   "outputs": [],
   "source": [
    "df_testagem = df.select('codigoEstrategiaCovid',\n",
    "                        'codigoBuscaAtivaAssintomatico',\n",
    "                        'outroBuscaAtivaAssintomatico',\n",
    "                        'codigoTriagemPopulacaoEspecifica',\n",
    "                        'outroTriagemPopulacaoEspecifica',\n",
    "                        'codigoLocalRealizacaoTestagem',\n",
    "                        'outroLocalRealizacaoTestagem')"
   ]
  },
  {
   "cell_type": "code",
   "execution_count": 40,
   "metadata": {},
   "outputs": [
    {
     "name": "stdout",
     "output_type": "stream",
     "text": [
      "+---------------------+--------+--------+\n",
      "|codigoEstrategiaCovid|Qtd     |%       |\n",
      "+---------------------+--------+--------+\n",
      "|null                 |745798  |0.047889|\n",
      "|1                    |13894010|0.892157|\n",
      "|2                    |824933  |0.05297 |\n",
      "|3                    |108770  |0.006984|\n",
      "+---------------------+--------+--------+\n",
      "\n"
     ]
    }
   ],
   "source": [
    "#codigoEstrategiaCovid\n",
    "df_testagem.groupBy('codigoEstrategiaCovid').count()\\\n",
    "           .select('codigoEstrategiaCovid',\n",
    "                   col('count').alias('Qtd'),\n",
    "                   round((col('count')/Total), 6).alias('%')).orderBy('codigoEstrategiaCovid').show(5,False)\n",
    "\n",
    "#Possui linhas vazias, as preenchidas estão de acordo com o dicionario"
   ]
  },
  {
   "cell_type": "code",
   "execution_count": 41,
   "metadata": {},
   "outputs": [
    {
     "name": "stdout",
     "output_type": "stream",
     "text": [
      "+-----------------------------+--------+--------+\n",
      "|codigoBuscaAtivaAssintomatico|Qtd     |%       |\n",
      "+-----------------------------+--------+--------+\n",
      "|null                         |14745943|0.946861|\n",
      "|1                            |391274  |0.025124|\n",
      "|2                            |153058  |0.009828|\n",
      "|3                            |145023  |0.009312|\n",
      "|4                            |138213  |0.008875|\n",
      "+-----------------------------+--------+--------+\n",
      "\n",
      "Total Preenchido:  827568\n"
     ]
    }
   ],
   "source": [
    "#codigoBuscaAtivaAssintomatico (Obrigatorio se codigoEstrategiaCovid = 2)\n",
    "df_testagem.groupBy('codigoBuscaAtivaAssintomatico').count()\\\n",
    "           .select('codigoBuscaAtivaAssintomatico',\n",
    "                   col('count').alias('Qtd'),\n",
    "                   round((col('count')/Total), 6).alias('%')).orderBy('codigoBuscaAtivaAssintomatico').show(5,False)\n",
    "\n",
    "print('Total Preenchido: ',df_testagem.select('codigoBuscaAtivaAssintomatico')\n",
    "                                      .filter(col('codigoBuscaAtivaAssintomatico').isNotNull()).count())\n",
    "\n",
    "#Preenchimento está de acordo com o dicionario e possui mais respostas que codigoEstrategiaCovid=2"
   ]
  },
  {
   "cell_type": "code",
   "execution_count": 42,
   "metadata": {},
   "outputs": [
    {
     "name": "stdout",
     "output_type": "stream",
     "text": [
      "+----------------------------+--------+--------+\n",
      "|outroBuscaAtivaAssintomatico|Qtd     |%       |\n",
      "+----------------------------+--------+--------+\n",
      "|null                        |15436075|0.991175|\n",
      "|(12) 98843-8484             |1       |0.0     |\n",
      "|(16) 2105-5300              |31      |2.0E-6  |\n",
      "|***                         |1       |0.0     |\n",
      "|*****                       |2       |0.0     |\n",
      "+----------------------------+--------+--------+\n",
      "only showing top 5 rows\n",
      "\n",
      "Total Preenchido:  137436\n"
     ]
    }
   ],
   "source": [
    "#outroBuscaAtivaAssintomatico (Obrigatorio se codigoBuscaAtivaAssintomatico = 4)\n",
    "df_testagem.groupBy('outroBuscaAtivaAssintomatico').count()\\\n",
    "           .select('outroBuscaAtivaAssintomatico',\n",
    "                   col('count').alias('Qtd'),\n",
    "                   round((col('count')/Total), 6).alias('%')).orderBy('outroBuscaAtivaAssintomatico').show(5,False)\n",
    "\n",
    "print('Total Preenchido: ',df_testagem.select('outroBuscaAtivaAssintomatico')\n",
    "                                      .filter(col('outroBuscaAtivaAssintomatico').isNotNull()).count())\n",
    "\n",
    "#Não é possivel categorizar se preenchimento está errado, possui menos preenchimento que codigoBuscaAtivaAssintomatico=4"
   ]
  },
  {
   "cell_type": "code",
   "execution_count": 43,
   "metadata": {},
   "outputs": [
    {
     "name": "stdout",
     "output_type": "stream",
     "text": [
      "+--------------------------------+--------+--------+\n",
      "|codigoTriagemPopulacaoEspecifica|Qtd     |%       |\n",
      "+--------------------------------+--------+--------+\n",
      "|null                            |15464155|0.992978|\n",
      "|1                               |19797   |0.001271|\n",
      "|2                               |6428    |4.13E-4 |\n",
      "|3                               |6341    |4.07E-4 |\n",
      "|4                               |41356   |0.002656|\n",
      "|5                               |35434   |0.002275|\n",
      "+--------------------------------+--------+--------+\n",
      "\n",
      "Total Preenchido:  109356\n"
     ]
    }
   ],
   "source": [
    "#codigoTriagemPopulacaoEspecifica (Obrigatorio se codigoEstrategiaCovid = 3)\n",
    "df_testagem.groupBy('codigoTriagemPopulacaoEspecifica').count()\\\n",
    "           .select('codigoTriagemPopulacaoEspecifica',\n",
    "                   col('count').alias('Qtd'),\n",
    "                   round((col('count')/Total), 6).alias('%')).orderBy('codigoTriagemPopulacaoEspecifica').show(6,False)\n",
    "\n",
    "print('Total Preenchido: ',df_testagem.select('codigoTriagemPopulacaoEspecifica')\n",
    "                                      .filter(col('codigoTriagemPopulacaoEspecifica').isNotNull()).count())\n",
    "\n",
    "#Preenchimento está de acordo com o dicionario e possui mais respostas que codigoEstrategiaCovid=3"
   ]
  },
  {
   "cell_type": "code",
   "execution_count": 44,
   "metadata": {},
   "outputs": [
    {
     "name": "stdout",
     "output_type": "stream",
     "text": [
      "+--------------------------------------+--------+--------+\n",
      "|outroTriagemPopulacaoEspecifica       |Qtd     |%       |\n",
      "+--------------------------------------+--------+--------+\n",
      "|null                                  |15538353|0.997742|\n",
      "|---                                   |160     |1.0E-5  |\n",
      "|----                                  |4       |0.0     |\n",
      "|--------                              |1       |0.0     |\n",
      "|-PROTOCOLO DE TRANSFERENCIA HOSPITALAR|1       |0.0     |\n",
      "+--------------------------------------+--------+--------+\n",
      "only showing top 5 rows\n",
      "\n",
      "Total Preenchido:  35158\n"
     ]
    }
   ],
   "source": [
    "#outroTriagemPopulacaoEspecifica (Obrigatorio se codigoTriagemPopulacaoEspecifica = 5)\n",
    "df_testagem.groupBy('outroTriagemPopulacaoEspecifica').count()\\\n",
    "           .select('outroTriagemPopulacaoEspecifica',\n",
    "                   col('count').alias('Qtd'),\n",
    "                   round((col('count')/Total), 6).alias('%')).orderBy('outroTriagemPopulacaoEspecifica').show(5,False)\n",
    "\n",
    "print('Total Preenchido: ',df_testagem.select('outroTriagemPopulacaoEspecifica')\n",
    "                                      .filter(col('outroTriagemPopulacaoEspecifica').isNotNull()).count())\n",
    "\n",
    "#Não é possivel categorizar se preenchimento está errado, possui menos preenchimento que codigoTriagemPopulacaoEspecifica=5"
   ]
  },
  {
   "cell_type": "code",
   "execution_count": 45,
   "metadata": {},
   "outputs": [
    {
     "name": "stdout",
     "output_type": "stream",
     "text": [
      "+-----------------------------+--------+--------+\n",
      "|codigoLocalRealizacaoTestagem|Qtd     |%       |\n",
      "+-----------------------------+--------+--------+\n",
      "|null                         |745796  |0.047889|\n",
      "|1                            |12359313|0.793611|\n",
      "|2                            |131411  |0.008438|\n",
      "|3                            |128236  |0.008234|\n",
      "|4                            |1726447 |0.110858|\n",
      "|5                            |10607   |6.81E-4 |\n",
      "|6                            |26458   |0.001699|\n",
      "|7                            |445243  |0.02859 |\n",
      "+-----------------------------+--------+--------+\n",
      "\n"
     ]
    }
   ],
   "source": [
    "#codigoLocalRealizacaoTestagem (Obrigatorio)\n",
    "df_testagem.groupBy('codigoLocalRealizacaoTestagem').count()\\\n",
    "           .select('codigoLocalRealizacaoTestagem',\n",
    "                   col('count').alias('Qtd'),\n",
    "                   round((col('count')/Total), 6).alias('%')).orderBy('codigoLocalRealizacaoTestagem').show(8,False)\n",
    "\n",
    "#Possui linhas vazias, as preenchidas estão de acordo com o dicionario"
   ]
  },
  {
   "cell_type": "code",
   "execution_count": 46,
   "metadata": {},
   "outputs": [
    {
     "name": "stdout",
     "output_type": "stream",
     "text": [
      "+--------------------------------------------------------------------------------------------------+--------+--------+\n",
      "|outroLocalRealizacaoTestagem                                                                      |Qtd     |%       |\n",
      "+--------------------------------------------------------------------------------------------------+--------+--------+\n",
      "|null                                                                                              |15128297|0.971412|\n",
      "|\"pcte sem sintoma, notificado por exigência de testagem para viabilizar transferência de serviço\".|1       |0.0     |\n",
      "|(11) 99814-9666                                                                                   |1       |0.0     |\n",
      "|(11)984230083                                                                                     |1       |0.0     |\n",
      "|(12) 3682-1239                                                                                    |1       |0.0     |\n",
      "+--------------------------------------------------------------------------------------------------+--------+--------+\n",
      "only showing top 5 rows\n",
      "\n",
      "Total Preenchido:  445214\n"
     ]
    }
   ],
   "source": [
    "#codigoLocalRealizacaoTestagem (Obrigatorio se codigoLocalRealizacaoTestagem = 7)\n",
    "df_testagem.groupBy('outroLocalRealizacaoTestagem').count()\\\n",
    "           .select('outroLocalRealizacaoTestagem',\n",
    "                   col('count').alias('Qtd'),\n",
    "                   round((col('count')/Total), 6).alias('%')).orderBy('outroLocalRealizacaoTestagem').show(5,False)\n",
    "\n",
    "print('Total Preenchido: ',df_testagem.select('outroLocalRealizacaoTestagem')\n",
    "                                      .filter(col('outroLocalRealizacaoTestagem').isNotNull()).count())\n",
    "\n",
    "#Não é possivel categorizar se preenchimento está errado, possui menos preenchimento que codigoTriagemPopulacaoEspecifica=5"
   ]
  },
  {
   "cell_type": "markdown",
   "metadata": {},
   "source": [
    "### Avaliação da Consistência dos Dados de Identificação do Paciente"
   ]
  },
  {
   "cell_type": "code",
   "execution_count": 47,
   "metadata": {},
   "outputs": [
    {
     "name": "stdout",
     "output_type": "stream",
     "text": [
      "Total sem Nulos:  14827713\n",
      "+--------------------------+--------+-----+\n",
      "|codigoEstrategiaCovid_erro|Qtd     |%    |\n",
      "+--------------------------+--------+-----+\n",
      "|Sem Erro                  |14827713|100.0|\n",
      "+--------------------------+--------+-----+\n",
      "\n"
     ]
    }
   ],
   "source": [
    "#codigoEstrategiaCovid\n",
    "Total_erro = df.filter(col('codigoEstrategiaCovid').isNotNull())\n",
    "print('Total sem Nulos: ',Total_erro.count())\n",
    "\n",
    "df_erro = Total_erro.select(lit('Sem Erro').alias('codigoEstrategiaCovid_erro'))\n",
    "\n",
    "df_erro.groupBy('codigoEstrategiaCovid_erro').count()\\\n",
    "       .select('codigoEstrategiaCovid_erro',\n",
    "               col('count').alias('Qtd'),\n",
    "               round((col('count')/(Total_erro.count()))*100, 6).alias('%')).show(10,False)"
   ]
  },
  {
   "cell_type": "code",
   "execution_count": 48,
   "metadata": {},
   "outputs": [
    {
     "name": "stdout",
     "output_type": "stream",
     "text": [
      "Total sem Nulos:  827568\n",
      "+----------------------------------+------+-----+\n",
      "|codigoBuscaAtivaAssintomatico_erro|Qtd   |%    |\n",
      "+----------------------------------+------+-----+\n",
      "|Sem Erro                          |827568|100.0|\n",
      "+----------------------------------+------+-----+\n",
      "\n"
     ]
    }
   ],
   "source": [
    "#codigoBuscaAtivaAssintomatico\n",
    "Total_erro = df.filter(col('codigoBuscaAtivaAssintomatico').isNotNull())\n",
    "print('Total sem Nulos: ',Total_erro.count())\n",
    "\n",
    "df_erro = Total_erro.select(lit('Sem Erro').alias('codigoBuscaAtivaAssintomatico_erro'))\n",
    "\n",
    "df_erro.groupBy('codigoBuscaAtivaAssintomatico_erro').count()\\\n",
    "       .select('codigoBuscaAtivaAssintomatico_erro',\n",
    "               col('count').alias('Qtd'),\n",
    "               round((col('count')/(Total_erro.count()))*100, 6).alias('%')).show(10,False)"
   ]
  },
  {
   "cell_type": "code",
   "execution_count": 49,
   "metadata": {},
   "outputs": [
    {
     "name": "stdout",
     "output_type": "stream",
     "text": [
      "Total sem Nulos:  109356\n",
      "+-------------------------------------+------+-----+\n",
      "|codigoTriagemPopulacaoEspecifica_erro|Qtd   |%    |\n",
      "+-------------------------------------+------+-----+\n",
      "|Sem Erro                             |109356|100.0|\n",
      "+-------------------------------------+------+-----+\n",
      "\n"
     ]
    }
   ],
   "source": [
    "#codigoTriagemPopulacaoEspecifica\n",
    "Total_erro = df.filter(col('codigoTriagemPopulacaoEspecifica').isNotNull())\n",
    "print('Total sem Nulos: ',Total_erro.count())\n",
    "\n",
    "df_erro = Total_erro.select(lit('Sem Erro').alias('codigoTriagemPopulacaoEspecifica_erro'))\n",
    "\n",
    "df_erro.groupBy('codigoTriagemPopulacaoEspecifica_erro').count()\\\n",
    "       .select('codigoTriagemPopulacaoEspecifica_erro',\n",
    "               col('count').alias('Qtd'),\n",
    "               round((col('count')/(Total_erro.count()))*100, 6).alias('%')).show(10,False)"
   ]
  },
  {
   "cell_type": "code",
   "execution_count": 50,
   "metadata": {},
   "outputs": [
    {
     "name": "stdout",
     "output_type": "stream",
     "text": [
      "Total sem Nulos:  14827715\n",
      "+----------------------------------+--------+-----+\n",
      "|codigoLocalRealizacaoTestagem_erro|Qtd     |%    |\n",
      "+----------------------------------+--------+-----+\n",
      "|Sem Erro                          |14827715|100.0|\n",
      "+----------------------------------+--------+-----+\n",
      "\n"
     ]
    }
   ],
   "source": [
    "#codigoLocalRealizacaoTestagem\n",
    "Total_erro = df.filter(col('codigoLocalRealizacaoTestagem').isNotNull())\n",
    "print('Total sem Nulos: ',Total_erro.count())\n",
    "\n",
    "df_erro = Total_erro.select(lit('Sem Erro').alias('codigoLocalRealizacaoTestagem_erro'))\n",
    "\n",
    "df_erro.groupBy('codigoLocalRealizacaoTestagem_erro').count()\\\n",
    "       .select('codigoLocalRealizacaoTestagem_erro',\n",
    "               col('count').alias('Qtd'),\n",
    "               round((col('count')/(Total_erro.count()))*100, 6).alias('%')).show(10,False)"
   ]
  },
  {
   "cell_type": "markdown",
   "metadata": {},
   "source": [
    "### Verificação dos dados Clínicos Epidemiológicos"
   ]
  },
  {
   "cell_type": "code",
   "execution_count": 51,
   "metadata": {},
   "outputs": [],
   "source": [
    "df_clinico = df.select('dataNotificacao',               \n",
    "                       'sintomas',                      \n",
    "                       'outrosSintomas',                \n",
    "                       'dataInicioSintomas',            \n",
    "                       'condicoes',                     \n",
    "                       'outrasCondicoes',               \n",
    "                       'codigoRecebeuVacina',           \n",
    "                       'codigoDosesVacina',             \n",
    "                       'dataPrimeiraDose',              \n",
    "                       'dataSegundaDose',               \n",
    "                       'codigoLaboratorioPrimeiraDose', \n",
    "                       'codigoLaboratorioSegundaDose',  \n",
    "                       'lotePrimeiraDose',              \n",
    "                       'loteSegundaDose',\n",
    "                       'totalTestesRealizados',\n",
    "                       'codigoTipoTeste1',\n",
    "                       'codigoEstadoTeste1',\n",
    "                       'dataColetaTeste1',\n",
    "                       'codigoResultadoTeste1',\n",
    "                       'codigoFabricanteTeste1',\n",
    "                       'codigoTipoTeste2',\n",
    "                       'codigoEstadoTeste2',\n",
    "                       'dataColetaTeste2',\n",
    "                       'codigoResultadoTeste2',\n",
    "                       'codigoFabricanteTeste2',\n",
    "                       'codigoTipoTeste3',\n",
    "                       'codigoEstadoTeste3',\n",
    "                       'dataColetaTeste3',\n",
    "                       'codigoResultadoTeste3',\n",
    "                       'codigoFabricanteTeste3',\n",
    "                       'codigoTipoTeste4',\n",
    "                       'codigoEstadoTeste4',\n",
    "                       'dataColetaTeste4',\n",
    "                       'codigoResultadoTeste4',\n",
    "                       'codigoFabricanteTeste4',\n",
    "                       'evolucaoCaso',\n",
    "                       'classificacaoFinal',\n",
    "                       'dataEncerramento',\n",
    "                       'origem',                         \n",
    "                       'excluido',                       \n",
    "                       'validado')                       "
   ]
  },
  {
   "cell_type": "code",
   "execution_count": 52,
   "metadata": {},
   "outputs": [
    {
     "name": "stdout",
     "output_type": "stream",
     "text": [
      "+---------------+---+---+\n",
      "|dataNotificacao|Qtd|%  |\n",
      "+---------------+---+---+\n",
      "|null           |6  |0.0|\n",
      "|1972-02-03     |1  |0.0|\n",
      "|1972-07-25     |1  |0.0|\n",
      "|1973-03-07     |1  |0.0|\n",
      "|1974-05-28     |1  |0.0|\n",
      "+---------------+---+---+\n",
      "only showing top 5 rows\n",
      "\n",
      "+---------------+------+--------+\n",
      "|dataNotificacao|Qtd   |%       |\n",
      "+---------------+------+--------+\n",
      "|None           |259712|0.016677|\n",
      "|2023-01-28     |3     |0.0     |\n",
      "|2023-01-27     |7     |0.0     |\n",
      "|2023-01-26     |10    |1.0E-6  |\n",
      "|2023-01-25     |10    |1.0E-6  |\n",
      "+---------------+------+--------+\n",
      "only showing top 5 rows\n",
      "\n"
     ]
    }
   ],
   "source": [
    "#dataNotificacao (Obrigatorio)\n",
    "df_clinico.groupBy('dataNotificacao').count()\\\n",
    "          .select('dataNotificacao',\n",
    "                  col('count').alias('Qtd'),\n",
    "                  round((col('count')/Total), 6).alias('%')).orderBy('dataNotificacao').show(5,False)\n",
    "\n",
    "df_clinico.groupBy('dataNotificacao').count()\\\n",
    "          .select('dataNotificacao',\n",
    "                  col('count').alias('Qtd'),\n",
    "                  round((col('count')/Total), 6).alias('%')).orderBy(col('dataNotificacao').desc()).show(5,False)\n",
    "\n",
    "#Possui preenchimento errado (ser maior que 01/01/2020)"
   ]
  },
  {
   "cell_type": "code",
   "execution_count": 53,
   "metadata": {},
   "outputs": [
    {
     "name": "stdout",
     "output_type": "stream",
     "text": [
      "+------------------------------------------------------------------+-------+--------+\n",
      "|sintomas                                                          |Qtd    |%       |\n",
      "+------------------------------------------------------------------+-------+--------+\n",
      "|null                                                              |393    |2.5E-5  |\n",
      "|      BELGIUM NV - BELGICA\"                                       |3      |0.0     |\n",
      "|Assintomático                                                     |2641089|0.169589|\n",
      "|Assintomático, Coriza                                             |45     |3.0E-6  |\n",
      "|Assintomático, Coriza, Distúrbios Olfativos, Distúrbios Gustativos|1      |0.0     |\n",
      "+------------------------------------------------------------------+-------+--------+\n",
      "only showing top 5 rows\n",
      "\n"
     ]
    }
   ],
   "source": [
    "#sintomas (Obrigatorio)\n",
    "df_clinico.groupBy('sintomas').count()\\\n",
    "          .select('sintomas',\n",
    "                  col('count').alias('Qtd'),\n",
    "                  round((col('count')/Total), 6).alias('%')).orderBy('sintomas').show(5,False)\n",
    "\n",
    "#Possui preenchimento errado"
   ]
  },
  {
   "cell_type": "code",
   "execution_count": 54,
   "metadata": {},
   "outputs": [
    {
     "name": "stdout",
     "output_type": "stream",
     "text": [
      "+-------------------------------------------------+--------+--------+\n",
      "|outrosSintomas                                   |Qtd     |%       |\n",
      "+-------------------------------------------------+--------+--------+\n",
      "|null                                             |12275768|0.788247|\n",
      "|\" - MOLEZA, INDIPISIÇÃO E VERMELIDÃO NA GARGANTA\"|1       |0.0     |\n",
      "|\" DOR NO PULMAO\"                                 |1       |0.0     |\n",
      "|\" DOR NOS OLHOS \"                                |1       |0.0     |\n",
      "|\" DOR NOS OLHOS\"                                 |1       |0.0     |\n",
      "+-------------------------------------------------+--------+--------+\n",
      "only showing top 5 rows\n",
      "\n"
     ]
    }
   ],
   "source": [
    "#outrosSintomas (Obrigatorio se sintomas contém \"Outros\")\n",
    "df_clinico.groupBy('outrosSintomas').count()\\\n",
    "          .select('outrosSintomas',\n",
    "                  col('count').alias('Qtd'),\n",
    "                  round((col('count')/Total), 6).alias('%')).orderBy('outrosSintomas').show(5,False)\n",
    "\n",
    "#Não é possivel categorizar se preenchimento está errado"
   ]
  },
  {
   "cell_type": "code",
   "execution_count": 55,
   "metadata": {},
   "outputs": [
    {
     "name": "stdout",
     "output_type": "stream",
     "text": [
      "+------------------+---+---+\n",
      "|dataInicioSintomas|Qtd|%  |\n",
      "+------------------+---+---+\n",
      "|null              |6  |0.0|\n",
      "|1970-01-02        |1  |0.0|\n",
      "|1970-02-16        |1  |0.0|\n",
      "|1970-02-24        |1  |0.0|\n",
      "|1970-03-17        |1  |0.0|\n",
      "+------------------+---+---+\n",
      "only showing top 5 rows\n",
      "\n"
     ]
    }
   ],
   "source": [
    "#dataInicioSintomas (Obrigatorio)\n",
    "df_clinico.groupBy('dataInicioSintomas').count()\\\n",
    "          .select('dataInicioSintomas',\n",
    "                  col('count').alias('Qtd'),\n",
    "                  round((col('count')/Total), 6).alias('%')).orderBy('dataInicioSintomas').show(5,False)\n",
    "\n",
    "#Possui preenchimento errado (ser maior que 01/01/2020)"
   ]
  },
  {
   "cell_type": "code",
   "execution_count": 56,
   "metadata": {},
   "outputs": [
    {
     "name": "stdout",
     "output_type": "stream",
     "text": [
      "+--------------------------------------------------------------------------------------------------------------------------------------------------+--------+--------+\n",
      "|condicoes                                                                                                                                         |Qtd     |%       |\n",
      "+--------------------------------------------------------------------------------------------------------------------------------------------------+--------+--------+\n",
      "|null                                                                                                                                              |13992618|0.898488|\n",
      "|Diabetes                                                                                                                                          |143987  |0.009246|\n",
      "|Diabetes, Doenças cardíacas crônicas                                                                                                              |33371   |0.002143|\n",
      "|Diabetes, Doenças cardíacas crônicas, Doenças renais crônicas em estágio avançado (graus 3, 4 ou 5)                                               |279     |1.8E-5  |\n",
      "|Diabetes, Doenças cardíacas crônicas, Doenças renais crônicas em estágio avançado (graus 3, 4 ou 5), Doenças respiratórias crônicas descompensadas|2       |0.0     |\n",
      "+--------------------------------------------------------------------------------------------------------------------------------------------------+--------+--------+\n",
      "only showing top 5 rows\n",
      "\n"
     ]
    }
   ],
   "source": [
    "#condicoes\n",
    "df_clinico.groupBy('condicoes').count()\\\n",
    "          .select('condicoes',\n",
    "                  col('count').alias('Qtd'),\n",
    "                  round((col('count')/Total), 6).alias('%')).orderBy('condicoes').show(5,False)\n",
    "\n",
    "#Possui preenchimento errado"
   ]
  },
  {
   "cell_type": "code",
   "execution_count": 57,
   "metadata": {},
   "outputs": [
    {
     "name": "stdout",
     "output_type": "stream",
     "text": [
      "+--------------------------------------+--------+--------+\n",
      "|outrasCondicoes                       |Qtd     |%       |\n",
      "+--------------------------------------+--------+--------+\n",
      "|null                                  |15110340|0.970259|\n",
      "|\"COLOCOU STENT NO CORAÇÃO\".           |1       |0.0     |\n",
      "|\"Calculos Renais e Esteatose Hepatica\"|1       |0.0     |\n",
      "|\"DOR NO PEITO E NAS COSTAS.\"          |1       |0.0     |\n",
      "|\"Flutter\" e fibrilação atrial         |1       |0.0     |\n",
      "+--------------------------------------+--------+--------+\n",
      "only showing top 5 rows\n",
      "\n"
     ]
    }
   ],
   "source": [
    "#outrasCondicoes\n",
    "df_clinico.groupBy('outrasCondicoes').count()\\\n",
    "          .select('outrasCondicoes',\n",
    "                  col('count').alias('Qtd'),\n",
    "                  round((col('count')/Total), 6).alias('%')).orderBy('outrasCondicoes').show(5,False)\n",
    "\n",
    "#Não é possivel categorizar se preenchimento está errado"
   ]
  },
  {
   "cell_type": "code",
   "execution_count": 58,
   "metadata": {},
   "outputs": [
    {
     "name": "stdout",
     "output_type": "stream",
     "text": [
      "+-------------------+--------+--------+\n",
      "|codigoRecebeuVacina|Qtd     |%       |\n",
      "+-------------------+--------+--------+\n",
      "|null               |1928269 |0.123817|\n",
      "|1                  |11232804|0.721276|\n",
      "|2                  |2288584 |0.146954|\n",
      "|3                  |123854  |0.007953|\n",
      "+-------------------+--------+--------+\n",
      "\n"
     ]
    }
   ],
   "source": [
    "#codigoRecebeuVacina\n",
    "df_clinico.groupBy('codigoRecebeuVacina').count()\\\n",
    "          .select('codigoRecebeuVacina',\n",
    "                  col('count').alias('Qtd'),\n",
    "                  round((col('count')/Total), 6).alias('%')).orderBy('codigoRecebeuVacina').show(5,False)\n",
    "\n",
    "#Preenchimento está de acordo com o dicionario"
   ]
  },
  {
   "cell_type": "code",
   "execution_count": 59,
   "metadata": {},
   "outputs": [
    {
     "name": "stdout",
     "output_type": "stream",
     "text": [
      "+-----------------+-------+--------+\n",
      "|codigoDosesVacina|Qtd    |%       |\n",
      "+-----------------+-------+--------+\n",
      "|null             |4992507|0.320577|\n",
      "|0                |436    |2.8E-5  |\n",
      "|1                |2064971|0.132595|\n",
      "|1,2              |2513778|0.161414|\n",
      "|1,2,3            |607958 |0.039038|\n",
      "+-----------------+-------+--------+\n",
      "only showing top 5 rows\n",
      "\n"
     ]
    }
   ],
   "source": [
    "#codigoDosesVacina\n",
    "df_clinico.groupBy('codigoDosesVacina').count()\\\n",
    "          .select('codigoDosesVacina',\n",
    "                  col('count').alias('Qtd'),\n",
    "                  round((col('count')/Total), 6).alias('%')).orderBy('codigoDosesVacina').show(5,False)\n",
    "\n",
    "#Não é possivel categorizar se preenchimento está errado"
   ]
  },
  {
   "cell_type": "code",
   "execution_count": 60,
   "metadata": {},
   "outputs": [
    {
     "name": "stdout",
     "output_type": "stream",
     "text": [
      "+----------------+---+------+\n",
      "|dataPrimeiraDose|Qtd|%     |\n",
      "+----------------+---+------+\n",
      "|null            |6  |0.0   |\n",
      "|2020-03-23      |15 |1.0E-6|\n",
      "|2020-06-04      |1  |0.0   |\n",
      "|2020-06-05      |1  |0.0   |\n",
      "|2020-06-25      |1  |0.0   |\n",
      "+----------------+---+------+\n",
      "only showing top 5 rows\n",
      "\n"
     ]
    }
   ],
   "source": [
    "#dataPrimeiraDose (Obrigatorio Automatico)\n",
    "df_clinico.groupBy('dataPrimeiraDose').count()\\\n",
    "          .select('dataPrimeiraDose',\n",
    "                  col('count').alias('Qtd'),\n",
    "                  round((col('count')/Total), 6).alias('%')).orderBy('dataPrimeiraDose').show(5,False)\n",
    "\n",
    "#Campo preenchido automaticamente pelo sistema"
   ]
  },
  {
   "cell_type": "code",
   "execution_count": 61,
   "metadata": {},
   "outputs": [
    {
     "name": "stdout",
     "output_type": "stream",
     "text": [
      "+---------------+---+---+\n",
      "|dataSegundaDose|Qtd|%  |\n",
      "+---------------+---+---+\n",
      "|null           |6  |0.0|\n",
      "|2020-01-05     |1  |0.0|\n",
      "|2020-08-18     |1  |0.0|\n",
      "|2020-08-19     |4  |0.0|\n",
      "|2020-08-20     |2  |0.0|\n",
      "+---------------+---+---+\n",
      "only showing top 5 rows\n",
      "\n"
     ]
    }
   ],
   "source": [
    "#dataSegundaDose (Obrigatorio Automatico)\n",
    "df_clinico.groupBy('dataSegundaDose').count()\\\n",
    "          .select('dataSegundaDose',\n",
    "                  col('count').alias('Qtd'),\n",
    "                  round((col('count')/Total), 6).alias('%')).orderBy('dataSegundaDose').show(5,False)\n",
    "\n",
    "#Campo preenchido automaticamente pelo sistema"
   ]
  },
  {
   "cell_type": "code",
   "execution_count": 62,
   "metadata": {},
   "outputs": [
    {
     "name": "stdout",
     "output_type": "stream",
     "text": [
      "+----------------------------------+-------+--------+\n",
      "|codigoLaboratorioPrimeiraDose     |Qtd    |%       |\n",
      "+----------------------------------+-------+--------+\n",
      "|null                              |5687702|0.365216|\n",
      "|1 - Coronavac - Sinovac (Butantan)|5      |0.0     |\n",
      "|3 - Comirnaty (Pfizer)            |5      |0.0     |\n",
      "|ASTRA ZENECA                      |9      |1.0E-6  |\n",
      "|ASTRAZENECA                       |7453   |4.79E-4 |\n",
      "+----------------------------------+-------+--------+\n",
      "only showing top 5 rows\n",
      "\n"
     ]
    }
   ],
   "source": [
    "#codigoLaboratorioPrimeiraDose (Obrigatorio Automatico)\n",
    "df_clinico.groupBy('codigoLaboratorioPrimeiraDose').count()\\\n",
    "          .select('codigoLaboratorioPrimeiraDose',\n",
    "                  col('count').alias('Qtd'),\n",
    "                  round((col('count')/Total), 6).alias('%')).orderBy('codigoLaboratorioPrimeiraDose').show(5,False)\n",
    "\n",
    "#Campo preenchido automaticamente pelo sistema"
   ]
  },
  {
   "cell_type": "code",
   "execution_count": 63,
   "metadata": {},
   "outputs": [
    {
     "name": "stdout",
     "output_type": "stream",
     "text": [
      "+-------------------------------------------------+-------+--------+\n",
      "|codigoLaboratorioSegundaDose                     |Qtd    |%       |\n",
      "+-------------------------------------------------+-------+--------+\n",
      "|null                                             |6573009|0.422063|\n",
      "|1 - Coronavac - Sinovac (Butantan)               |2      |0.0     |\n",
      "|2 - ChAdOx1nCoV-19 - Oxford/AstraZeneca (Fiocruz)|7      |0.0     |\n",
      "|3 - Comirnaty (Pfizer)                           |2      |0.0     |\n",
      "|ASTRA ZENECA                                     |6      |0.0     |\n",
      "+-------------------------------------------------+-------+--------+\n",
      "only showing top 5 rows\n",
      "\n"
     ]
    }
   ],
   "source": [
    "#codigoLaboratorioSegundaDose (Obrigatorio Automatico)\n",
    "df_clinico.groupBy('codigoLaboratorioSegundaDose').count()\\\n",
    "          .select('codigoLaboratorioSegundaDose',\n",
    "                  col('count').alias('Qtd'),\n",
    "                  round((col('count')/Total), 6).alias('%')).orderBy('codigoLaboratorioSegundaDose').show(5,False)\n",
    "\n",
    "#Campo preenchido automaticamente pelo sistema"
   ]
  },
  {
   "cell_type": "code",
   "execution_count": 64,
   "metadata": {},
   "outputs": [
    {
     "name": "stdout",
     "output_type": "stream",
     "text": [
      "+----------------+-------+-------+\n",
      "|lotePrimeiraDose|Qtd    |%      |\n",
      "+----------------+-------+-------+\n",
      "|null            |5687750|0.36522|\n",
      "|00              |2      |0.0    |\n",
      "|000             |22     |1.0E-6 |\n",
      "|0000            |6      |0.0    |\n",
      "|00000000000     |2      |0.0    |\n",
      "+----------------+-------+-------+\n",
      "only showing top 5 rows\n",
      "\n"
     ]
    }
   ],
   "source": [
    "#lotePrimeiraDose\n",
    "df_clinico.groupBy('lotePrimeiraDose').count()\\\n",
    "          .select('lotePrimeiraDose',\n",
    "                  col('count').alias('Qtd'),\n",
    "                  round((col('count')/Total), 6).alias('%')).orderBy('lotePrimeiraDose').show(5,False)\n",
    "\n",
    "#Campo preenchido automaticamente pelo sistema"
   ]
  },
  {
   "cell_type": "code",
   "execution_count": 65,
   "metadata": {},
   "outputs": [
    {
     "name": "stdout",
     "output_type": "stream",
     "text": [
      "+---------------+-------+--------+\n",
      "|loteSegundaDose|Qtd    |%       |\n",
      "+---------------+-------+--------+\n",
      "|null           |6573053|0.422066|\n",
      "|000            |6      |0.0     |\n",
      "|00000          |1      |0.0     |\n",
      "|00000000000    |1      |0.0     |\n",
      "|000000190160   |1      |0.0     |\n",
      "+---------------+-------+--------+\n",
      "only showing top 5 rows\n",
      "\n"
     ]
    }
   ],
   "source": [
    "#loteSegundaDose (Obrigatorio Automatico)\n",
    "df_clinico.groupBy('loteSegundaDose').count()\\\n",
    "          .select('loteSegundaDose',\n",
    "                  col('count').alias('Qtd'),\n",
    "                  round((col('count')/Total), 6).alias('%')).orderBy('loteSegundaDose').show(5,False)\n",
    "\n",
    "#Campo preenchido automaticamente pelo sistema"
   ]
  },
  {
   "cell_type": "code",
   "execution_count": 66,
   "metadata": {},
   "outputs": [
    {
     "name": "stdout",
     "output_type": "stream",
     "text": [
      "+---------------------+--------+--------+\n",
      "|totalTestesRealizados|Qtd     |%       |\n",
      "+---------------------+--------+--------+\n",
      "|null                 |6       |0.0     |\n",
      "|1                    |14855467|0.953893|\n",
      "|2                    |675155  |0.043353|\n",
      "|3                    |37969   |0.002438|\n",
      "|4                    |3821    |2.45E-4 |\n",
      "|5                    |703     |4.5E-5  |\n",
      "|6                    |197     |1.3E-5  |\n",
      "|7                    |91      |6.0E-6  |\n",
      "|8                    |43      |3.0E-6  |\n",
      "|9                    |22      |1.0E-6  |\n",
      "|10                   |14      |1.0E-6  |\n",
      "|11                   |6       |0.0     |\n",
      "|12                   |3       |0.0     |\n",
      "|13                   |6       |0.0     |\n",
      "|14                   |5       |0.0     |\n",
      "|16                   |1       |0.0     |\n",
      "|17                   |1       |0.0     |\n",
      "|35                   |1       |0.0     |\n",
      "+---------------------+--------+--------+\n",
      "\n"
     ]
    }
   ],
   "source": [
    "#totalTestesRealizados\n",
    "df_clinico.groupBy('totalTestesRealizados').count()\\\n",
    "          .select('totalTestesRealizados',\n",
    "                  col('count').alias('Qtd'),\n",
    "                  round((col('count')/Total), 6).alias('%')).orderBy('totalTestesRealizados').show(18,False)\n",
    "\n",
    "#Preenchimento está de acordo com o dicionario"
   ]
  },
  {
   "cell_type": "code",
   "execution_count": 67,
   "metadata": {},
   "outputs": [
    {
     "name": "stdout",
     "output_type": "stream",
     "text": [
      "+----------------+--------+--------+\n",
      "|codigoTipoTeste1|Qtd     |%       |\n",
      "+----------------+--------+--------+\n",
      "|null            |1778111 |0.114175|\n",
      "|1               |3431005 |0.22031 |\n",
      "|2               |21021   |0.00135 |\n",
      "|3               |10038149|0.644566|\n",
      "|4               |138989  |0.008925|\n",
      "|5               |94360   |0.006059|\n",
      "|6               |1068    |6.9E-5  |\n",
      "|7               |15274   |9.81E-4 |\n",
      "|8               |22099   |0.001419|\n",
      "|9               |33435   |0.002147|\n",
      "+----------------+--------+--------+\n",
      "\n"
     ]
    }
   ],
   "source": [
    "#codigoTipoTeste1\n",
    "df_clinico.groupBy('codigoTipoTeste1').count()\\\n",
    "          .select('codigoTipoTeste1',\n",
    "                  col('count').alias('Qtd'),\n",
    "                  round((col('count')/Total), 6).alias('%')).orderBy('codigoTipoTeste1').show(10,False)\n",
    "\n",
    "#Preenchimento está de acordo com o dicionario"
   ]
  },
  {
   "cell_type": "code",
   "execution_count": 68,
   "metadata": {},
   "outputs": [
    {
     "name": "stdout",
     "output_type": "stream",
     "text": [
      "+------------------+--------+--------+\n",
      "|codigoEstadoTeste1|Qtd     |%       |\n",
      "+------------------+--------+--------+\n",
      "|null              |1777988 |0.114167|\n",
      "|1                 |289150  |0.018567|\n",
      "|2                 |1080980 |0.069411|\n",
      "|3                 |12132023|0.779017|\n",
      "|4                 |293370  |0.018838|\n",
      "+------------------+--------+--------+\n",
      "\n"
     ]
    }
   ],
   "source": [
    "#codigoEstadoTeste1\n",
    "df_clinico.groupBy('codigoEstadoTeste1').count()\\\n",
    "          .select('codigoEstadoTeste1',\n",
    "                  col('count').alias('Qtd'),\n",
    "                  round((col('count')/Total), 6).alias('%')).orderBy('codigoEstadoTeste1').show(5,False)\n",
    "\n",
    "#Preenchimento está de acordo com o dicionario"
   ]
  },
  {
   "cell_type": "code",
   "execution_count": 69,
   "metadata": {},
   "outputs": [
    {
     "name": "stdout",
     "output_type": "stream",
     "text": [
      "+-------------------+-------+--------+\n",
      "|dataColetaTeste1   |Qtd    |%       |\n",
      "+-------------------+-------+--------+\n",
      "|null               |2361497|0.151635|\n",
      "|1970-01-01 00:00:00|155    |1.0E-5  |\n",
      "|2011-01-26 00:00:00|1      |0.0     |\n",
      "|2020-01-01 00:00:00|22     |1.0E-6  |\n",
      "|2020-01-02 00:00:00|83     |5.0E-6  |\n",
      "+-------------------+-------+--------+\n",
      "only showing top 5 rows\n",
      "\n"
     ]
    }
   ],
   "source": [
    "#dataColetaTeste1\n",
    "df_clinico.groupBy('dataColetaTeste1').count()\\\n",
    "          .select('dataColetaTeste1',\n",
    "                  col('count').alias('Qtd'),\n",
    "                  round((col('count')/Total), 6).alias('%')).orderBy('dataColetaTeste1').show(5,False)\n",
    "\n",
    "#Possui preenchimento errado (ser maior que 01/01/2020)"
   ]
  },
  {
   "cell_type": "code",
   "execution_count": 70,
   "metadata": {},
   "outputs": [
    {
     "name": "stdout",
     "output_type": "stream",
     "text": [
      "+---------------------+-------+--------+\n",
      "|codigoResultadoTeste1|Qtd    |%       |\n",
      "+---------------------+-------+--------+\n",
      "|null                 |3443831|0.221134|\n",
      "|1                    |4240806|0.272309|\n",
      "|2                    |7873958|0.505599|\n",
      "|3                    |14916  |9.58E-4 |\n",
      "+---------------------+-------+--------+\n",
      "\n"
     ]
    }
   ],
   "source": [
    "#codigoResultadoTeste1\n",
    "df_clinico.groupBy('codigoResultadoTeste1').count()\\\n",
    "          .select('codigoResultadoTeste1',\n",
    "                  col('count').alias('Qtd'),\n",
    "                  round((col('count')/Total), 6).alias('%')).orderBy('codigoResultadoTeste1').show(5,False)\n",
    "\n",
    "#Preenchimento está de acordo com o dicionario"
   ]
  },
  {
   "cell_type": "code",
   "execution_count": 71,
   "metadata": {},
   "outputs": [
    {
     "name": "stdout",
     "output_type": "stream",
     "text": [
      "+----------------------+-------+--------+\n",
      "|codigoFabricanteTeste1|Qtd    |%       |\n",
      "+----------------------+-------+--------+\n",
      "|null                  |6446773|0.413958|\n",
      "|1                     |8973   |5.76E-4 |\n",
      "|2                     |173    |1.1E-5  |\n",
      "|3                     |55     |4.0E-6  |\n",
      "|4                     |20     |1.0E-6  |\n",
      "+----------------------+-------+--------+\n",
      "only showing top 5 rows\n",
      "\n"
     ]
    }
   ],
   "source": [
    "#codigoFabricanteTeste1\n",
    "df_clinico.groupBy('codigoFabricanteTeste1').count()\\\n",
    "          .select('codigoFabricanteTeste1',\n",
    "                  col('count').alias('Qtd'),\n",
    "                  round((col('count')/Total), 6).alias('%')).orderBy('codigoFabricanteTeste1').show(5,False)\n",
    "\n",
    "#Preenchimento está de acordo com o dicionario"
   ]
  },
  {
   "cell_type": "code",
   "execution_count": 72,
   "metadata": {},
   "outputs": [
    {
     "name": "stdout",
     "output_type": "stream",
     "text": [
      "+----------------+--------+--------+\n",
      "|codigoTipoTeste2|Qtd     |%       |\n",
      "+----------------+--------+--------+\n",
      "|null            |14855475|0.953894|\n",
      "|1               |323258  |0.020757|\n",
      "|2               |1656    |1.06E-4 |\n",
      "|3               |300538  |0.019298|\n",
      "|4               |15958   |0.001025|\n",
      "|5               |43916   |0.00282 |\n",
      "|6               |554     |3.6E-5  |\n",
      "|7               |15288   |9.82E-4 |\n",
      "|8               |14781   |9.49E-4 |\n",
      "|9               |2087    |1.34E-4 |\n",
      "+----------------+--------+--------+\n",
      "\n"
     ]
    }
   ],
   "source": [
    "#codigoTipoTeste2\n",
    "df_clinico.groupBy('codigoTipoTeste2').count()\\\n",
    "          .select('codigoTipoTeste2',\n",
    "                  col('count').alias('Qtd'),\n",
    "                  round((col('count')/Total), 6).alias('%')).orderBy('codigoTipoTeste2').show(11,False)\n",
    "\n",
    "#Preenchimento está de acordo com o dicionario"
   ]
  },
  {
   "cell_type": "code",
   "execution_count": 73,
   "metadata": {},
   "outputs": [
    {
     "name": "stdout",
     "output_type": "stream",
     "text": [
      "+------------------+--------+--------+\n",
      "|codigoEstadoTeste2|Qtd     |%       |\n",
      "+------------------+--------+--------+\n",
      "|null              |14855475|0.953894|\n",
      "|1                 |53735   |0.00345 |\n",
      "|2                 |116250  |0.007465|\n",
      "|3                 |524813  |0.033699|\n",
      "|4                 |23238   |0.001492|\n",
      "+------------------+--------+--------+\n",
      "\n"
     ]
    }
   ],
   "source": [
    "#codigoEstadoTeste2\n",
    "df_clinico.groupBy('codigoEstadoTeste2').count()\\\n",
    "          .select('codigoEstadoTeste2',\n",
    "                  col('count').alias('Qtd'),\n",
    "                  round((col('count')/Total), 6).alias('%')).orderBy('codigoEstadoTeste2').show(5,False)\n",
    "\n",
    "#Preenchimento está de acordo com o dicionario"
   ]
  },
  {
   "cell_type": "code",
   "execution_count": 74,
   "metadata": {},
   "outputs": [
    {
     "name": "stdout",
     "output_type": "stream",
     "text": [
      "+----------------+-----+--------+\n",
      "|dataColetaTeste2|Qtd  |%       |\n",
      "+----------------+-----+--------+\n",
      "|null            |76868|0.004936|\n",
      "|1970-01-01      |16   |1.0E-6  |\n",
      "|2020-01-01      |4    |0.0     |\n",
      "|2020-01-02      |8    |1.0E-6  |\n",
      "|2020-01-03      |3    |0.0     |\n",
      "+----------------+-----+--------+\n",
      "only showing top 5 rows\n",
      "\n"
     ]
    }
   ],
   "source": [
    "#dataColetaTeste2\n",
    "df_clinico.groupBy('dataColetaTeste2').count()\\\n",
    "          .select('dataColetaTeste2',\n",
    "                  col('count').alias('Qtd'),\n",
    "                  round((col('count')/Total), 6).alias('%')).orderBy('dataColetaTeste2').show(5,False)\n",
    "\n",
    "#Possui preenchimento errado (ser maior que 01/01/2020)"
   ]
  },
  {
   "cell_type": "code",
   "execution_count": 75,
   "metadata": {},
   "outputs": [
    {
     "name": "stdout",
     "output_type": "stream",
     "text": [
      "+---------------------+--------+--------+\n",
      "|codigoResultadoTeste2|Qtd     |%       |\n",
      "+---------------------+--------+--------+\n",
      "|null                 |15049262|0.966337|\n",
      "|1                    |189914  |0.012195|\n",
      "|2                    |332108  |0.021325|\n",
      "|3                    |2227    |1.43E-4 |\n",
      "+---------------------+--------+--------+\n",
      "\n"
     ]
    }
   ],
   "source": [
    "#codigoResultadoTeste2\n",
    "df_clinico.groupBy('codigoResultadoTeste2').count()\\\n",
    "          .select('codigoResultadoTeste2',\n",
    "                  col('count').alias('Qtd'),\n",
    "                  round((col('count')/Total), 6).alias('%')).orderBy('codigoResultadoTeste2').show(5,False)\n",
    "\n",
    "#Preenchimento está de acordo com o dicionario"
   ]
  },
  {
   "cell_type": "code",
   "execution_count": 76,
   "metadata": {},
   "outputs": [
    {
     "name": "stdout",
     "output_type": "stream",
     "text": [
      "+----------------------+--------+--------+\n",
      "|codigoFabricanteTeste2|Qtd     |%       |\n",
      "+----------------------+--------+--------+\n",
      "|null                  |15342432|0.985162|\n",
      "|1                     |2108    |1.35E-4 |\n",
      "|2                     |17      |1.0E-6  |\n",
      "|3                     |8       |1.0E-6  |\n",
      "|4                     |7       |0.0     |\n",
      "+----------------------+--------+--------+\n",
      "only showing top 5 rows\n",
      "\n"
     ]
    }
   ],
   "source": [
    "#codigoFabricanteTeste2\n",
    "df_clinico.groupBy('codigoFabricanteTeste2').count()\\\n",
    "          .select('codigoFabricanteTeste2',\n",
    "                  col('count').alias('Qtd'),\n",
    "                  round((col('count')/Total), 6).alias('%')).orderBy('codigoFabricanteTeste2').show(5,False)\n",
    "\n",
    "#Preenchimento está de acordo com o dicionario"
   ]
  },
  {
   "cell_type": "code",
   "execution_count": 77,
   "metadata": {},
   "outputs": [
    {
     "name": "stdout",
     "output_type": "stream",
     "text": [
      "+----------------+--------+--------+\n",
      "|codigoTipoTeste3|Qtd     |%       |\n",
      "+----------------+--------+--------+\n",
      "|null            |15530629|0.997246|\n",
      "|1               |15647   |0.001005|\n",
      "|2               |97      |6.0E-6  |\n",
      "|3               |19873   |0.001276|\n",
      "|4               |747     |4.8E-5  |\n",
      "|5               |3424    |2.2E-4  |\n",
      "|6               |41      |3.0E-6  |\n",
      "|7               |1936    |1.24E-4 |\n",
      "|8               |637     |4.1E-5  |\n",
      "|9               |480     |3.1E-5  |\n",
      "+----------------+--------+--------+\n",
      "\n"
     ]
    }
   ],
   "source": [
    "#codigoTipoTeste3\n",
    "df_clinico.groupBy('codigoTipoTeste3').count()\\\n",
    "          .select('codigoTipoTeste3',\n",
    "                  col('count').alias('Qtd'),\n",
    "                  round((col('count')/Total), 6).alias('%')).orderBy('codigoTipoTeste3').show(11,False)\n",
    "\n",
    "#Preenchimento está de acordo com o dicionario"
   ]
  },
  {
   "cell_type": "code",
   "execution_count": 78,
   "metadata": {},
   "outputs": [
    {
     "name": "stdout",
     "output_type": "stream",
     "text": [
      "+------------------+--------+--------+\n",
      "|codigoEstadoTeste3|Qtd     |%       |\n",
      "+------------------+--------+--------+\n",
      "|null              |15530628|0.997246|\n",
      "|1                 |9058    |5.82E-4 |\n",
      "|2                 |3847    |2.47E-4 |\n",
      "|3                 |28880   |0.001854|\n",
      "|4                 |1098    |7.1E-5  |\n",
      "+------------------+--------+--------+\n",
      "\n"
     ]
    }
   ],
   "source": [
    "#codigoEstadoTeste3\n",
    "df_clinico.groupBy('codigoEstadoTeste3').count()\\\n",
    "          .select('codigoEstadoTeste3',\n",
    "                  col('count').alias('Qtd'),\n",
    "                  round((col('count')/Total), 6).alias('%')).orderBy('codigoEstadoTeste3').show(5,False)\n",
    "\n",
    "#Preenchimento está de acordo com o dicionario"
   ]
  },
  {
   "cell_type": "code",
   "execution_count": 79,
   "metadata": {},
   "outputs": [
    {
     "name": "stdout",
     "output_type": "stream",
     "text": [
      "+----------------+-----+-------+\n",
      "|dataColetaTeste3|Qtd  |%      |\n",
      "+----------------+-----+-------+\n",
      "|null            |10188|6.54E-4|\n",
      "|1970-01-01      |2    |0.0    |\n",
      "|2020-01-02      |1    |0.0    |\n",
      "|2020-01-03      |2    |0.0    |\n",
      "|2020-01-04      |3    |0.0    |\n",
      "+----------------+-----+-------+\n",
      "only showing top 5 rows\n",
      "\n"
     ]
    }
   ],
   "source": [
    "#dataColetaTeste3\n",
    "df_clinico.groupBy('dataColetaTeste3').count()\\\n",
    "          .select('dataColetaTeste3',\n",
    "                  col('count').alias('Qtd'),\n",
    "                  round((col('count')/Total), 6).alias('%')).orderBy('dataColetaTeste3').show(5,False)\n",
    "\n",
    "#Possui preenchimento errado (ser maior que 01/01/2020)"
   ]
  },
  {
   "cell_type": "code",
   "execution_count": 80,
   "metadata": {},
   "outputs": [
    {
     "name": "stdout",
     "output_type": "stream",
     "text": [
      "+---------------------+--------+--------+\n",
      "|codigoResultadoTeste3|Qtd     |%       |\n",
      "+---------------------+--------+--------+\n",
      "|null                 |15544779|0.998155|\n",
      "|1                    |9863    |6.33E-4 |\n",
      "|2                    |18777   |0.001206|\n",
      "|3                    |92      |6.0E-6  |\n",
      "+---------------------+--------+--------+\n",
      "\n"
     ]
    }
   ],
   "source": [
    "#codigoResultadoTeste3\n",
    "df_clinico.groupBy('codigoResultadoTeste3').count()\\\n",
    "          .select('codigoResultadoTeste3',\n",
    "                  col('count').alias('Qtd'),\n",
    "                  round((col('count')/Total), 6).alias('%')).orderBy('codigoResultadoTeste3').show(5,False)\n",
    "\n",
    "#Preenchimento está de acordo com o dicionario"
   ]
  },
  {
   "cell_type": "code",
   "execution_count": 81,
   "metadata": {},
   "outputs": [
    {
     "name": "stdout",
     "output_type": "stream",
     "text": [
      "+----------------------+--------+--------+\n",
      "|codigoFabricanteTeste3|Qtd     |%       |\n",
      "+----------------------+--------+--------+\n",
      "|null                  |15563578|0.999362|\n",
      "|1                     |205     |1.3E-5  |\n",
      "|2                     |2       |0.0     |\n",
      "|3                     |2       |0.0     |\n",
      "|5                     |11      |1.0E-6  |\n",
      "+----------------------+--------+--------+\n",
      "only showing top 5 rows\n",
      "\n"
     ]
    }
   ],
   "source": [
    "#codigoFabricanteTeste3\n",
    "df_clinico.groupBy('codigoFabricanteTeste3').count()\\\n",
    "          .select('codigoFabricanteTeste3',\n",
    "                  col('count').alias('Qtd'),\n",
    "                  round((col('count')/Total), 6).alias('%')).orderBy('codigoFabricanteTeste3').show(5,False)\n",
    "\n",
    "#Preenchimento está de acordo com o dicionario"
   ]
  },
  {
   "cell_type": "code",
   "execution_count": 82,
   "metadata": {},
   "outputs": [
    {
     "name": "stdout",
     "output_type": "stream",
     "text": [
      "+----------------+--------+--------+\n",
      "|codigoTipoTeste4|Qtd     |%       |\n",
      "+----------------+--------+--------+\n",
      "|null            |15568597|0.999684|\n",
      "|1               |1762    |1.13E-4 |\n",
      "|2               |7       |0.0     |\n",
      "|3               |2159    |1.39E-4 |\n",
      "|4               |151     |1.0E-5  |\n",
      "|5               |468     |3.0E-5  |\n",
      "|6               |9       |1.0E-6  |\n",
      "|7               |168     |1.1E-5  |\n",
      "|8               |79      |5.0E-6  |\n",
      "|9               |111     |7.0E-6  |\n",
      "+----------------+--------+--------+\n",
      "\n"
     ]
    }
   ],
   "source": [
    "#codigoTipoTeste4\n",
    "df_clinico.groupBy('codigoTipoTeste4').count()\\\n",
    "          .select('codigoTipoTeste4',\n",
    "                  col('count').alias('Qtd'),\n",
    "                  round((col('count')/Total), 6).alias('%')).orderBy('codigoTipoTeste4').show(11,False)\n",
    "\n",
    "#Preenchimento está de acordo com o dicionario"
   ]
  },
  {
   "cell_type": "code",
   "execution_count": 83,
   "metadata": {},
   "outputs": [
    {
     "name": "stdout",
     "output_type": "stream",
     "text": [
      "+------------------+--------+--------+\n",
      "|codigoEstadoTeste4|Qtd     |%       |\n",
      "+------------------+--------+--------+\n",
      "|null              |15568597|0.999684|\n",
      "|1                 |371     |2.4E-5  |\n",
      "|2                 |516     |3.3E-5  |\n",
      "|3                 |3895    |2.5E-4  |\n",
      "|4                 |132     |8.0E-6  |\n",
      "+------------------+--------+--------+\n",
      "\n"
     ]
    }
   ],
   "source": [
    "#codigoEstadoTeste4\n",
    "df_clinico.groupBy('codigoEstadoTeste4').count()\\\n",
    "          .select('codigoEstadoTeste4',\n",
    "                  col('count').alias('Qtd'),\n",
    "                  round((col('count')/Total), 6).alias('%')).orderBy('codigoEstadoTeste4').show(5,False)\n",
    "\n",
    "#Preenchimento está de acordo com o dicionario"
   ]
  },
  {
   "cell_type": "code",
   "execution_count": 84,
   "metadata": {},
   "outputs": [
    {
     "name": "stdout",
     "output_type": "stream",
     "text": [
      "+----------------+---+------+\n",
      "|dataColetaTeste4|Qtd|%     |\n",
      "+----------------+---+------+\n",
      "|null            |508|3.3E-5|\n",
      "|2020-01-03      |1  |0.0   |\n",
      "|2020-01-05      |1  |0.0   |\n",
      "|2020-01-07      |1  |0.0   |\n",
      "|2020-01-17      |1  |0.0   |\n",
      "+----------------+---+------+\n",
      "only showing top 5 rows\n",
      "\n"
     ]
    }
   ],
   "source": [
    "#dataColetaTeste4\n",
    "df_clinico.groupBy('dataColetaTeste4').count()\\\n",
    "          .select('dataColetaTeste4',\n",
    "                  col('count').alias('Qtd'),\n",
    "                  round((col('count')/Total), 6).alias('%')).orderBy('dataColetaTeste4').show(5,False)\n",
    "\n",
    "#Preenchimento está de acordo com o dicionario"
   ]
  },
  {
   "cell_type": "code",
   "execution_count": 85,
   "metadata": {},
   "outputs": [
    {
     "name": "stdout",
     "output_type": "stream",
     "text": [
      "+---------------------+--------+--------+\n",
      "|codigoResultadoTeste4|Qtd     |%       |\n",
      "+---------------------+--------+--------+\n",
      "|null                 |15569630|0.999751|\n",
      "|1                    |1002    |6.4E-5  |\n",
      "|2                    |2869    |1.84E-4 |\n",
      "|3                    |10      |1.0E-6  |\n",
      "+---------------------+--------+--------+\n",
      "\n"
     ]
    }
   ],
   "source": [
    "#codigoResultadoTeste4\n",
    "df_clinico.groupBy('codigoResultadoTeste4').count()\\\n",
    "          .select('codigoResultadoTeste4',\n",
    "                  col('count').alias('Qtd'),\n",
    "                  round((col('count')/Total), 6).alias('%')).orderBy('codigoResultadoTeste4').show(5,False)\n",
    "\n",
    "#Preenchimento está de acordo com o dicionario"
   ]
  },
  {
   "cell_type": "code",
   "execution_count": 86,
   "metadata": {},
   "outputs": [
    {
     "name": "stdout",
     "output_type": "stream",
     "text": [
      "+----------------------+--------+--------+\n",
      "|codigoFabricanteTeste4|Qtd     |%       |\n",
      "+----------------------+--------+--------+\n",
      "|null                  |15571904|0.999897|\n",
      "|1                     |38      |2.0E-6  |\n",
      "|6                     |7       |0.0     |\n",
      "|7                     |8       |1.0E-6  |\n",
      "|11                    |2       |0.0     |\n",
      "+----------------------+--------+--------+\n",
      "only showing top 5 rows\n",
      "\n"
     ]
    }
   ],
   "source": [
    "#codigoFabricanteTeste4\n",
    "df_clinico.groupBy('codigoFabricanteTeste4').count()\\\n",
    "          .select('codigoFabricanteTeste4',\n",
    "                  col('count').alias('Qtd'),\n",
    "                  round((col('count')/Total), 6).alias('%')).orderBy('codigoFabricanteTeste4').show(5,False)\n",
    "\n",
    "#Preenchimento está de acordo com o dicionario"
   ]
  },
  {
   "cell_type": "code",
   "execution_count": 87,
   "metadata": {},
   "outputs": [
    {
     "name": "stdout",
     "output_type": "stream",
     "text": [
      "+------------------------+-------+--------+\n",
      "|evolucaoCaso            |Qtd    |%       |\n",
      "+------------------------+-------+--------+\n",
      "|null                    |8075462|0.518538|\n",
      "|3                       |3      |0.0     |\n",
      "|Cancelado               |246967 |0.015858|\n",
      "|Cura                    |6161719|0.395654|\n",
      "|Em tratamento domiciliar|299157 |0.019209|\n",
      "|Ignorado                |779414 |0.050047|\n",
      "|Internado               |4321   |2.77E-4 |\n",
      "|Internado em UTI        |619    |4.0E-5  |\n",
      "|Óbito                   |5849   |3.76E-4 |\n",
      "+------------------------+-------+--------+\n",
      "\n"
     ]
    }
   ],
   "source": [
    "#evolucaoCaso\n",
    "df_clinico.groupBy('evolucaoCaso').count()\\\n",
    "          .select('evolucaoCaso',\n",
    "                  col('count').alias('Qtd'),\n",
    "                  round((col('count')/Total), 6).alias('%')).orderBy('evolucaoCaso').show(10,False)\n",
    "\n",
    "#Possui preenchimento errado"
   ]
  },
  {
   "cell_type": "code",
   "execution_count": 88,
   "metadata": {},
   "outputs": [
    {
     "name": "stdout",
     "output_type": "stream",
     "text": [
      "+---------------------------------+-------+--------+\n",
      "|classificacaoFinal               |Qtd    |%       |\n",
      "+---------------------------------+-------+--------+\n",
      "|null                             |8188076|0.525769|\n",
      "|915                              |3      |0.0     |\n",
      "|Confirmado Clínico-Epidemiológico|77376  |0.004968|\n",
      "|Confirmado Clínico-Imagem        |2242   |1.44E-4 |\n",
      "|Confirmado Laboratorial          |2742534|0.176102|\n",
      "|Confirmado por Critério Clínico  |70555  |0.00453 |\n",
      "|Descartado                       |3185853|0.204569|\n",
      "|Síndrome Gripal Não Especificada |1306872|0.083916|\n",
      "+---------------------------------+-------+--------+\n",
      "\n"
     ]
    }
   ],
   "source": [
    "#classificacaoFinal\n",
    "df_clinico.groupBy('classificacaoFinal').count()\\\n",
    "          .select('classificacaoFinal',\n",
    "                  col('count').alias('Qtd'),\n",
    "                  round((col('count')/Total), 6).alias('%')).orderBy('classificacaoFinal').show(12,False)\n",
    "\n",
    "#Possui preenchimento errado"
   ]
  },
  {
   "cell_type": "code",
   "execution_count": 89,
   "metadata": {},
   "outputs": [
    {
     "name": "stdout",
     "output_type": "stream",
     "text": [
      "+----------------+---+------+\n",
      "|dataEncerramento|Qtd|%     |\n",
      "+----------------+---+------+\n",
      "|null            |6  |0.0   |\n",
      "|1960-01-29      |1  |0.0   |\n",
      "|1964-09-02      |1  |0.0   |\n",
      "|1968-08-14      |1  |0.0   |\n",
      "|1970-01-14      |9  |1.0E-6|\n",
      "+----------------+---+------+\n",
      "only showing top 5 rows\n",
      "\n"
     ]
    }
   ],
   "source": [
    "#dataEncerramento\n",
    "df_clinico.groupBy('dataEncerramento').count()\\\n",
    "          .select('dataEncerramento',\n",
    "                  col('count').alias('Qtd'),\n",
    "                  round((col('count')/Total), 6).alias('%')).orderBy('dataEncerramento').show(5,False)\n",
    "\n",
    "#Não é possivel categorizar se preenchimento está errado"
   ]
  },
  {
   "cell_type": "code",
   "execution_count": 90,
   "metadata": {},
   "outputs": [
    {
     "name": "stdout",
     "output_type": "stream",
     "text": [
      "+-------------+----+-------+\n",
      "|origem       |Qtd |%      |\n",
      "+-------------+----+-------+\n",
      "|2021-09-26   |1   |0.0    |\n",
      "|2021-10-11   |1   |0.0    |\n",
      "|None         |1   |0.0    |\n",
      "|RNDS         |768 |4.9E-5 |\n",
      "|aplicacao-web|1725|1.11E-4|\n",
      "+-------------+----+-------+\n",
      "only showing top 5 rows\n",
      "\n"
     ]
    }
   ],
   "source": [
    "#origem\n",
    "df_clinico.groupBy('origem').count()\\\n",
    "          .select('origem',\n",
    "                  col('count').alias('Qtd'),\n",
    "                  round((col('count')/Total), 6).alias('%')).orderBy('origem').show(5,False)\n",
    "\n",
    "#Não é possivel categorizar se preenchimento está errado"
   ]
  },
  {
   "cell_type": "code",
   "execution_count": 91,
   "metadata": {},
   "outputs": [
    {
     "name": "stdout",
     "output_type": "stream",
     "text": [
      "+--------+--------+---+\n",
      "|excluido|Qtd     |%  |\n",
      "+--------+--------+---+\n",
      "|null    |3       |0.0|\n",
      "|None    |3       |0.0|\n",
      "|false   |15573505|1.0|\n",
      "+--------+--------+---+\n",
      "\n"
     ]
    }
   ],
   "source": [
    "#excluido\n",
    "df_clinico.groupBy('excluido').count()\\\n",
    "          .select('excluido',\n",
    "                  col('count').alias('Qtd'),\n",
    "                  round((col('count')/Total), 6).alias('%')).orderBy('excluido').show(5,False)\n",
    "\n",
    "#Não é possivel categorizar se preenchimento está errado"
   ]
  },
  {
   "cell_type": "code",
   "execution_count": 92,
   "metadata": {},
   "outputs": [
    {
     "name": "stdout",
     "output_type": "stream",
     "text": [
      "+--------+--------+---+\n",
      "|validado|Qtd     |%  |\n",
      "+--------+--------+---+\n",
      "|null    |3       |0.0|\n",
      "|None    |3       |0.0|\n",
      "|false   |15573505|1.0|\n",
      "+--------+--------+---+\n",
      "\n"
     ]
    }
   ],
   "source": [
    "#validado\n",
    "df_clinico.groupBy('validado').count()\\\n",
    "          .select('validado',\n",
    "                  col('count').alias('Qtd'),\n",
    "                  round((col('count')/Total), 6).alias('%')).orderBy('validado').show(5,False)\n",
    "\n",
    "#Não é possivel categorizar se preenchimento está errado"
   ]
  },
  {
   "cell_type": "markdown",
   "metadata": {},
   "source": [
    "### Avaliação da Consistência dos Dados  Clínicos Epidemiológicos"
   ]
  },
  {
   "cell_type": "code",
   "execution_count": 93,
   "metadata": {},
   "outputs": [
    {
     "name": "stdout",
     "output_type": "stream",
     "text": [
      "Total sem Nulos:  15573505\n",
      "+--------------------+--------+---------+\n",
      "|dataNotificacao_erro|Qtd     |%        |\n",
      "+--------------------+--------+---------+\n",
      "|Sem Erro            |15573460|99.999711|\n",
      "|Com Erro            |45      |2.89E-4  |\n",
      "+--------------------+--------+---------+\n",
      "\n"
     ]
    }
   ],
   "source": [
    "#dataNotificacao\n",
    "Total_erro = df.filter(col('dataNotificacao').isNotNull())\n",
    "print('Total sem Nulos: ',Total_erro.count())\n",
    "\n",
    "df_erro = Total_erro.select(when(col('dataNotificacao') >= '2020-01-01','Sem Erro').otherwise('Com Erro').alias('dataNotificacao_erro'))\n",
    "\n",
    "df_erro.groupBy('dataNotificacao_erro').count()\\\n",
    "       .select('dataNotificacao_erro',\n",
    "               col('count').alias('Qtd'),\n",
    "               round((col('count')/(Total_erro.count()))*100, 6).alias('%')).show(10,False)"
   ]
  },
  {
   "cell_type": "code",
   "execution_count": 94,
   "metadata": {},
   "outputs": [
    {
     "name": "stdout",
     "output_type": "stream",
     "text": [
      "Total sem Nulos:  15573118\n",
      "+-------------+--------+---------+\n",
      "|sintomas_erro|Qtd     |%        |\n",
      "+-------------+--------+---------+\n",
      "|Sem Erro     |15573115|99.999981|\n",
      "|Com Erro     |3       |1.9E-5   |\n",
      "+-------------+--------+---------+\n",
      "\n"
     ]
    }
   ],
   "source": [
    "#sintomas\n",
    "Total_erro = df.filter(col('sintomas').isNotNull())\n",
    "print('Total sem Nulos: ',Total_erro.count())\n",
    "\n",
    "df_erro = Total_erro.select(when((col('sintomas').contains('Assintomático')) |\n",
    "                                 (col('sintomas').contains('Dor de Cabeça')) |\n",
    "                                 (col('sintomas').contains('Febre')) |\n",
    "                                 (col('sintomas').contains('Distúrbios Gustativos')) |\n",
    "                                 (col('sintomas').contains('Dor de Garganta')) |\n",
    "                                 (col('sintomas').contains('Distúrbios Olfativos')) |\n",
    "                                 (col('sintomas').contains('Dispneia')) |\n",
    "                                 (col('sintomas').contains('Tosse')) |\n",
    "                                 (col('sintomas').contains('Coriza')) |\n",
    "                                 (col('sintomas').contains('Outros')),'Sem Erro').otherwise('Com Erro').alias('sintomas_erro'))\n",
    "\n",
    "df_erro.groupBy('sintomas_erro').count()\\\n",
    "       .select('sintomas_erro',\n",
    "               col('count').alias('Qtd'),\n",
    "               round((col('count')/(Total_erro.count()))*100, 6).alias('%')).show(10,False)\n"
   ]
  },
  {
   "cell_type": "code",
   "execution_count": 95,
   "metadata": {},
   "outputs": [
    {
     "name": "stdout",
     "output_type": "stream",
     "text": [
      "Total sem Nulos:  15573505\n",
      "+-----------------------+--------+---------+\n",
      "|dataInicioSintomas_erro|Qtd     |%        |\n",
      "+-----------------------+--------+---------+\n",
      "|Com Erro               |2494767 |16.019303|\n",
      "|Sem Erro               |13078738|83.980697|\n",
      "+-----------------------+--------+---------+\n",
      "\n"
     ]
    }
   ],
   "source": [
    "#dataInicioSintomas\n",
    "Total_erro = df.filter(col('dataInicioSintomas').isNotNull())\n",
    "print('Total sem Nulos: ',Total_erro.count())\n",
    "\n",
    "df_erro = Total_erro.select(when((col('dataInicioSintomas') >= '2020-01-01') & (col('dataInicioSintomas') <= col('dataNotificacao')),'Sem Erro').otherwise('Com Erro').alias('dataInicioSintomas_erro'))\n",
    "\n",
    "df_erro.groupBy('dataInicioSintomas_erro').count()\\\n",
    "       .select('dataInicioSintomas_erro',\n",
    "               col('count').alias('Qtd'),\n",
    "               round((col('count')/(Total_erro.count()))*100, 6).alias('%')).show(10,False)"
   ]
  },
  {
   "cell_type": "code",
   "execution_count": 96,
   "metadata": {},
   "outputs": [
    {
     "name": "stdout",
     "output_type": "stream",
     "text": [
      "Total sem Nulos:  1580893\n",
      "+--------------+-------+---------+\n",
      "|condicoes_erro|Qtd    |%        |\n",
      "+--------------+-------+---------+\n",
      "|Com Erro      |103    |0.006515 |\n",
      "|Sem Erro      |1580790|99.993485|\n",
      "+--------------+-------+---------+\n",
      "\n"
     ]
    }
   ],
   "source": [
    "#condicoes\n",
    "Total_erro = df.filter(col('condicoes').isNotNull())\n",
    "print('Total sem Nulos: ',Total_erro.count())\n",
    "\n",
    "df_erro = Total_erro.select(when((col('condicoes').contains('Doenças respiratórias crônicas descompensadas')) |\n",
    "                                 (col('condicoes').contains('Doenças renais crônicas em estágio avançado (graus 3, 4 ou 5)')) |\n",
    "                                 (col('condicoes').contains('Portador de doenças cromossômicas ou estado de fragilidade imunológica')) |\n",
    "                                 (col('condicoes').contains('Doenças cardíacas crônicas')) |\n",
    "                                 (col('condicoes').contains('Diabetes')) |\n",
    "                                 (col('condicoes').contains('Imunossupressão')) |\n",
    "                                 (col('condicoes').contains('Gestante')) |\n",
    "                                 (col('condicoes').contains('Puérpera (até 45 dias do parto)')) |\n",
    "                                 (col('condicoes').contains('Obesidade')) |\n",
    "                                 (col('condicoes').contains('Outros')),'Sem Erro').otherwise('Com Erro').alias('condicoes_erro'))\n",
    "\n",
    "df_erro.groupBy('condicoes_erro').count()\\\n",
    "       .select('condicoes_erro',\n",
    "               col('count').alias('Qtd'),\n",
    "               round((col('count')/(Total_erro.count()))*100, 6).alias('%')).show(10,False)\n"
   ]
  },
  {
   "cell_type": "code",
   "execution_count": 97,
   "metadata": {},
   "outputs": [
    {
     "name": "stdout",
     "output_type": "stream",
     "text": [
      "Total sem Nulos:  13645242\n",
      "+------------------------+--------+-----+\n",
      "|codigoRecebeuVacina_erro|Qtd     |%    |\n",
      "+------------------------+--------+-----+\n",
      "|Sem Erro                |13645242|100.0|\n",
      "+------------------------+--------+-----+\n",
      "\n"
     ]
    }
   ],
   "source": [
    "#codigoRecebeuVacina\n",
    "Total_erro = df.filter(col('codigoRecebeuVacina').isNotNull())\n",
    "print('Total sem Nulos: ',Total_erro.count())\n",
    "\n",
    "df_erro = Total_erro.select(lit('Sem Erro').alias('codigoRecebeuVacina_erro'))\n",
    "\n",
    "df_erro.groupBy('codigoRecebeuVacina_erro').count()\\\n",
    "       .select('codigoRecebeuVacina_erro',\n",
    "               col('count').alias('Qtd'),\n",
    "               round((col('count')/(Total_erro.count()))*100, 6).alias('%')).show(10,False)"
   ]
  },
  {
   "cell_type": "code",
   "execution_count": 98,
   "metadata": {},
   "outputs": [
    {
     "name": "stdout",
     "output_type": "stream",
     "text": [
      "Total sem Nulos:  10581004\n",
      "+----------------------+--------+---------+\n",
      "|codigoDosesVacina_erro|Qtd     |%        |\n",
      "+----------------------+--------+---------+\n",
      "|Com Erro              |436     |0.004121 |\n",
      "|Sem Erro              |10580568|99.995879|\n",
      "+----------------------+--------+---------+\n",
      "\n"
     ]
    }
   ],
   "source": [
    "#codigoDosesVacina\n",
    "Total_erro = df.filter(col('codigoDosesVacina').isNotNull())\n",
    "print('Total sem Nulos: ',Total_erro.count())\n",
    "\n",
    "df_erro = Total_erro.select(when((col('codigoDosesVacina') == None) | (col('codigoDosesVacina') == 0),'Com Erro').otherwise('Sem Erro').alias('codigoDosesVacina_erro'))\n",
    "\n",
    "df_erro.groupBy('codigoDosesVacina_erro').count()\\\n",
    "       .select('codigoDosesVacina_erro',\n",
    "               col('count').alias('Qtd'),\n",
    "               round((col('count')/(Total_erro.count()))*100, 6).alias('%')).show(10,False)"
   ]
  },
  {
   "cell_type": "code",
   "execution_count": 99,
   "metadata": {},
   "outputs": [
    {
     "name": "stdout",
     "output_type": "stream",
     "text": [
      "Total sem Nulos:  15573505\n",
      "+---------------------+--------+-----+\n",
      "|dataPrimeiraDose_erro|Qtd     |%    |\n",
      "+---------------------+--------+-----+\n",
      "|Sem Erro             |15573505|100.0|\n",
      "+---------------------+--------+-----+\n",
      "\n"
     ]
    }
   ],
   "source": [
    "#dataPrimeiraDose\n",
    "Total_erro = df.filter(col('dataPrimeiraDose').isNotNull())\n",
    "print('Total sem Nulos: ',Total_erro.count())\n",
    "\n",
    "df_erro = Total_erro.select(when((col('dataPrimeiraDose') >= '2020-01-01'),'Sem Erro').otherwise('Com Erro').alias('dataPrimeiraDose_erro'))\n",
    "\n",
    "df_erro.groupBy('dataPrimeiraDose_erro').count()\\\n",
    "       .select('dataPrimeiraDose_erro',\n",
    "               col('count').alias('Qtd'),\n",
    "               round((col('count')/(Total_erro.count()))*100, 6).alias('%')).show(10,False)"
   ]
  },
  {
   "cell_type": "code",
   "execution_count": 100,
   "metadata": {},
   "outputs": [
    {
     "name": "stdout",
     "output_type": "stream",
     "text": [
      "Total sem Nulos:  15573505\n",
      "+--------------------+--------+-----+\n",
      "|dataSegundaDose_erro|Qtd     |%    |\n",
      "+--------------------+--------+-----+\n",
      "|Sem Erro            |15573505|100.0|\n",
      "+--------------------+--------+-----+\n",
      "\n"
     ]
    }
   ],
   "source": [
    "#dataSegundaDose\n",
    "Total_erro = df.filter(col('dataSegundaDose').isNotNull())\n",
    "print('Total sem Nulos: ',Total_erro.count())\n",
    "\n",
    "df_erro = Total_erro.select(when((col('dataSegundaDose') >= '2020-01-01'),'Sem Erro').otherwise('Com Erro').alias('dataSegundaDose_erro'))\n",
    "\n",
    "df_erro.groupBy('dataSegundaDose_erro').count()\\\n",
    "       .select('dataSegundaDose_erro',\n",
    "               col('count').alias('Qtd'),\n",
    "               round((col('count')/(Total_erro.count()))*100, 6).alias('%')).show(10,False)"
   ]
  },
  {
   "cell_type": "code",
   "execution_count": 101,
   "metadata": {},
   "outputs": [
    {
     "name": "stdout",
     "output_type": "stream",
     "text": [
      "Total sem Nulos:  15573505\n",
      "+--------------------------+--------+-----+\n",
      "|totalTestesRealizados_erro|Qtd     |%    |\n",
      "+--------------------------+--------+-----+\n",
      "|Sem Erro                  |15573505|100.0|\n",
      "+--------------------------+--------+-----+\n",
      "\n"
     ]
    }
   ],
   "source": [
    "#totalTestesRealizados\n",
    "Total_erro = df.filter(col('totalTestesRealizados').isNotNull())\n",
    "print('Total sem Nulos: ',Total_erro.count())\n",
    "\n",
    "df_erro = Total_erro.select(when((col('totalTestesRealizados').cast(\"int\").isNotNull()),'Sem Erro').otherwise('Com Erro').alias('totalTestesRealizados_erro'))\n",
    "\n",
    "df_erro.groupBy('totalTestesRealizados_erro').count()\\\n",
    "       .select('totalTestesRealizados_erro',\n",
    "               col('count').alias('Qtd'),\n",
    "               round((col('count')/(Total_erro.count()))*100, 6).alias('%')).show(10,False)"
   ]
  },
  {
   "cell_type": "code",
   "execution_count": 102,
   "metadata": {},
   "outputs": [
    {
     "name": "stdout",
     "output_type": "stream",
     "text": [
      "Total sem Nulos:  13795400\n",
      "+---------------------+--------+-----+\n",
      "|codigoTipoTeste1_erro|Qtd     |%    |\n",
      "+---------------------+--------+-----+\n",
      "|Sem Erro             |13795400|100.0|\n",
      "+---------------------+--------+-----+\n",
      "\n"
     ]
    }
   ],
   "source": [
    "#codigoTipoTeste1\n",
    "Total_erro = df.filter(col('codigoTipoTeste1').isNotNull())\n",
    "print('Total sem Nulos: ',Total_erro.count())\n",
    "\n",
    "df_erro = Total_erro.select(when((col('codigoTipoTeste1') >= 1) & (col('codigoTipoTeste1') <= 9),'Sem Erro').otherwise('Com Erro').alias('codigoTipoTeste1_erro'))\n",
    "\n",
    "df_erro.groupBy('codigoTipoTeste1_erro').count()\\\n",
    "       .select('codigoTipoTeste1_erro',\n",
    "               col('count').alias('Qtd'),\n",
    "               round((col('count')/(Total_erro.count()))*100, 6).alias('%')).show(10,False)"
   ]
  },
  {
   "cell_type": "code",
   "execution_count": 103,
   "metadata": {},
   "outputs": [
    {
     "name": "stdout",
     "output_type": "stream",
     "text": [
      "Total sem Nulos:  13795523\n",
      "+-----------------------+--------+-----+\n",
      "|codigoEstadoTeste1_erro|Qtd     |%    |\n",
      "+-----------------------+--------+-----+\n",
      "|Sem Erro               |13795523|100.0|\n",
      "+-----------------------+--------+-----+\n",
      "\n"
     ]
    }
   ],
   "source": [
    "#codigoEstadoTeste1\n",
    "Total_erro = df.filter(col('codigoEstadoTeste1').isNotNull())\n",
    "print('Total sem Nulos: ',Total_erro.count())\n",
    "\n",
    "df_erro = Total_erro.select(when((col('codigoEstadoTeste1') >= 1) & (col('codigoEstadoTeste1') <= 4),'Sem Erro').otherwise('Com Erro').alias('codigoEstadoTeste1_erro'))\n",
    "\n",
    "df_erro.groupBy('codigoEstadoTeste1_erro').count()\\\n",
    "       .select('codigoEstadoTeste1_erro',\n",
    "               col('count').alias('Qtd'),\n",
    "               round((col('count')/(Total_erro.count()))*100, 6).alias('%')).show(10,False)"
   ]
  },
  {
   "cell_type": "code",
   "execution_count": 104,
   "metadata": {},
   "outputs": [
    {
     "name": "stdout",
     "output_type": "stream",
     "text": [
      "Total sem Nulos:  13212014\n",
      "+---------------------+--------+---------+\n",
      "|dataColetaTeste1_erro|Qtd     |%        |\n",
      "+---------------------+--------+---------+\n",
      "|Com Erro             |156     |0.001181 |\n",
      "|Sem Erro             |13211858|99.998819|\n",
      "+---------------------+--------+---------+\n",
      "\n"
     ]
    }
   ],
   "source": [
    "#dataColetaTeste1\n",
    "Total_erro = df.filter(col('dataColetaTeste1').isNotNull())\n",
    "print('Total sem Nulos: ',Total_erro.count())\n",
    "\n",
    "df_erro = Total_erro.select(when((col('dataColetaTeste1') >= '2020-01-01'),'Sem Erro').otherwise('Com Erro').alias('dataColetaTeste1_erro'))\n",
    "\n",
    "df_erro.groupBy('dataColetaTeste1_erro').count()\\\n",
    "       .select('dataColetaTeste1_erro',\n",
    "               col('count').alias('Qtd'),\n",
    "               round((col('count')/(Total_erro.count()))*100, 6).alias('%')).show(10,False)"
   ]
  },
  {
   "cell_type": "code",
   "execution_count": 105,
   "metadata": {},
   "outputs": [
    {
     "name": "stdout",
     "output_type": "stream",
     "text": [
      "Total sem Nulos:  12129680\n",
      "+--------------------------+--------+-----+\n",
      "|codigoResultadoTeste1_erro|Qtd     |%    |\n",
      "+--------------------------+--------+-----+\n",
      "|Sem Erro                  |12129680|100.0|\n",
      "+--------------------------+--------+-----+\n",
      "\n"
     ]
    }
   ],
   "source": [
    "#codigoResultadoTeste1\n",
    "Total_erro = df.filter(col('codigoResultadoTeste1').isNotNull())\n",
    "print('Total sem Nulos: ',Total_erro.count())\n",
    "\n",
    "df_erro = Total_erro.select(when((col('codigoResultadoTeste1') >= 1) & (col('codigoResultadoTeste1') <= 3),'Sem Erro').otherwise('Com Erro').alias('codigoResultadoTeste1_erro'))\n",
    "\n",
    "df_erro.groupBy('codigoResultadoTeste1_erro').count()\\\n",
    "       .select('codigoResultadoTeste1_erro',\n",
    "               col('count').alias('Qtd'),\n",
    "               round((col('count')/(Total_erro.count()))*100, 6).alias('%')).show(10,False)"
   ]
  },
  {
   "cell_type": "code",
   "execution_count": 106,
   "metadata": {},
   "outputs": [
    {
     "name": "stdout",
     "output_type": "stream",
     "text": [
      "Total sem Nulos:  9126738\n",
      "+---------------------------+-------+-----+\n",
      "|codigoFabricanteTeste1_erro|Qtd    |%    |\n",
      "+---------------------------+-------+-----+\n",
      "|Sem Erro                   |9126738|100.0|\n",
      "+---------------------------+-------+-----+\n",
      "\n"
     ]
    }
   ],
   "source": [
    "#codigoFabricanteTeste1\n",
    "Total_erro = df.filter(col('codigoFabricanteTeste1').isNotNull())\n",
    "print('Total sem Nulos: ',Total_erro.count())\n",
    "\n",
    "df_erro = Total_erro.select(when((col('codigoFabricanteTeste1').cast(\"int\").isNotNull()),'Sem Erro').otherwise('Com Erro').alias('codigoFabricanteTeste1_erro'))\n",
    "\n",
    "df_erro.groupBy('codigoFabricanteTeste1_erro').count()\\\n",
    "       .select('codigoFabricanteTeste1_erro',\n",
    "               col('count').alias('Qtd'),\n",
    "               round((col('count')/(Total_erro.count()))*100, 6).alias('%')).show(10,False)"
   ]
  },
  {
   "cell_type": "code",
   "execution_count": 107,
   "metadata": {},
   "outputs": [
    {
     "name": "stdout",
     "output_type": "stream",
     "text": [
      "Total sem Nulos:  718036\n",
      "+---------------------+------+-----+\n",
      "|codigoTipoTeste2_erro|Qtd   |%    |\n",
      "+---------------------+------+-----+\n",
      "|Sem Erro             |718036|100.0|\n",
      "+---------------------+------+-----+\n",
      "\n"
     ]
    }
   ],
   "source": [
    "#codigoTipoTeste2\n",
    "Total_erro = df.filter(col('codigoTipoTeste2').isNotNull())\n",
    "print('Total sem Nulos: ',Total_erro.count())\n",
    "\n",
    "df_erro = Total_erro.select(when((col('codigoTipoTeste2') >= 1) & (col('codigoTipoTeste2') <= 9),'Sem Erro').otherwise('Com Erro').alias('codigoTipoTeste2_erro'))\n",
    "\n",
    "df_erro.groupBy('codigoTipoTeste2_erro').count()\\\n",
    "       .select('codigoTipoTeste2_erro',\n",
    "               col('count').alias('Qtd'),\n",
    "               round((col('count')/(Total_erro.count()))*100, 6).alias('%')).show(10,False)"
   ]
  },
  {
   "cell_type": "code",
   "execution_count": 108,
   "metadata": {},
   "outputs": [
    {
     "name": "stdout",
     "output_type": "stream",
     "text": [
      "Total sem Nulos:  718036\n",
      "+-----------------------+------+-----+\n",
      "|codigoEstadoTeste2_erro|Qtd   |%    |\n",
      "+-----------------------+------+-----+\n",
      "|Sem Erro               |718036|100.0|\n",
      "+-----------------------+------+-----+\n",
      "\n"
     ]
    }
   ],
   "source": [
    "#codigoEstadoTeste2\n",
    "Total_erro = df.filter(col('codigoEstadoTeste2').isNotNull())\n",
    "print('Total sem Nulos: ',Total_erro.count())\n",
    "\n",
    "df_erro = Total_erro.select(when((col('codigoEstadoTeste2') >= 1) & (col('codigoEstadoTeste2') <= 4),'Sem Erro').otherwise('Com Erro').alias('codigoEstadoTeste2_erro'))\n",
    "\n",
    "df_erro.groupBy('codigoEstadoTeste2_erro').count()\\\n",
    "       .select('codigoEstadoTeste2_erro',\n",
    "               col('count').alias('Qtd'),\n",
    "               round((col('count')/(Total_erro.count()))*100, 6).alias('%')).show(10,False)"
   ]
  },
  {
   "cell_type": "code",
   "execution_count": 109,
   "metadata": {},
   "outputs": [
    {
     "name": "stdout",
     "output_type": "stream",
     "text": [
      "Total sem Nulos:  15496643\n",
      "+---------------------+--------+---------+\n",
      "|dataColetaTeste2_erro|Qtd     |%        |\n",
      "+---------------------+--------+---------+\n",
      "|Sem Erro             |15496627|99.999897|\n",
      "|Com Erro             |16      |1.03E-4  |\n",
      "+---------------------+--------+---------+\n",
      "\n"
     ]
    }
   ],
   "source": [
    "#dataColetaTeste2\n",
    "Total_erro = df.filter(col('dataColetaTeste2').isNotNull())\n",
    "print('Total sem Nulos: ',Total_erro.count())\n",
    "\n",
    "df_erro = Total_erro.select(when((col('dataColetaTeste2') >= '2020-01-01'),'Sem Erro').otherwise('Com Erro').alias('dataColetaTeste2_erro'))\n",
    "\n",
    "df_erro.groupBy('dataColetaTeste2_erro').count()\\\n",
    "       .select('dataColetaTeste2_erro',\n",
    "               col('count').alias('Qtd'),\n",
    "               round((col('count')/(Total_erro.count()))*100, 6).alias('%')).show(10,False)"
   ]
  },
  {
   "cell_type": "code",
   "execution_count": 110,
   "metadata": {},
   "outputs": [
    {
     "name": "stdout",
     "output_type": "stream",
     "text": [
      "Total sem Nulos:  524249\n",
      "+--------------------------+------+-----+\n",
      "|codigoResultadoTeste2_erro|Qtd   |%    |\n",
      "+--------------------------+------+-----+\n",
      "|Sem Erro                  |524249|100.0|\n",
      "+--------------------------+------+-----+\n",
      "\n"
     ]
    }
   ],
   "source": [
    "#codigoResultadoTeste2\n",
    "Total_erro = df.filter(col('codigoResultadoTeste2').isNotNull())\n",
    "print('Total sem Nulos: ',Total_erro.count())\n",
    "\n",
    "df_erro = Total_erro.select(when((col('codigoResultadoTeste2') >= 1) & (col('codigoResultadoTeste2') <= 3),'Sem Erro').otherwise('Com Erro').alias('codigoResultadoTeste2_erro'))\n",
    "\n",
    "df_erro.groupBy('codigoResultadoTeste2_erro').count()\\\n",
    "       .select('codigoResultadoTeste2_erro',\n",
    "               col('count').alias('Qtd'),\n",
    "               round((col('count')/(Total_erro.count()))*100, 6).alias('%')).show(10,False)"
   ]
  },
  {
   "cell_type": "code",
   "execution_count": 111,
   "metadata": {},
   "outputs": [
    {
     "name": "stdout",
     "output_type": "stream",
     "text": [
      "Total sem Nulos:  231079\n",
      "+---------------------------+------+-----+\n",
      "|codigoFabricanteTeste2_erro|Qtd   |%    |\n",
      "+---------------------------+------+-----+\n",
      "|Sem Erro                   |231079|100.0|\n",
      "+---------------------------+------+-----+\n",
      "\n"
     ]
    }
   ],
   "source": [
    "#codigoFabricanteTeste2\n",
    "Total_erro = df.filter(col('codigoFabricanteTeste2').isNotNull())\n",
    "print('Total sem Nulos: ',Total_erro.count())\n",
    "\n",
    "df_erro = Total_erro.select(when((col('codigoFabricanteTeste2').cast(\"int\").isNotNull()),'Sem Erro').otherwise('Com Erro').alias('codigoFabricanteTeste2_erro'))\n",
    "\n",
    "df_erro.groupBy('codigoFabricanteTeste2_erro').count()\\\n",
    "       .select('codigoFabricanteTeste2_erro',\n",
    "               col('count').alias('Qtd'),\n",
    "               round((col('count')/(Total_erro.count()))*100, 6).alias('%')).show(10,False)"
   ]
  },
  {
   "cell_type": "code",
   "execution_count": 112,
   "metadata": {},
   "outputs": [
    {
     "name": "stdout",
     "output_type": "stream",
     "text": [
      "Total sem Nulos:  42882\n",
      "+---------------------+-----+-----+\n",
      "|codigoTipoTeste3_erro|Qtd  |%    |\n",
      "+---------------------+-----+-----+\n",
      "|Sem Erro             |42882|100.0|\n",
      "+---------------------+-----+-----+\n",
      "\n"
     ]
    }
   ],
   "source": [
    "#codigoTipoTeste3\n",
    "Total_erro = df.filter(col('codigoTipoTeste3').isNotNull())\n",
    "print('Total sem Nulos: ',Total_erro.count())\n",
    "\n",
    "df_erro = Total_erro.select(when((col('codigoTipoTeste3') >= 1) & (col('codigoTipoTeste3') <= 9),'Sem Erro').otherwise('Com Erro').alias('codigoTipoTeste3_erro'))\n",
    "\n",
    "df_erro.groupBy('codigoTipoTeste3_erro').count()\\\n",
    "       .select('codigoTipoTeste3_erro',\n",
    "               col('count').alias('Qtd'),\n",
    "               round((col('count')/(Total_erro.count()))*100, 6).alias('%')).show(10,False)"
   ]
  },
  {
   "cell_type": "code",
   "execution_count": 113,
   "metadata": {},
   "outputs": [
    {
     "name": "stdout",
     "output_type": "stream",
     "text": [
      "Total sem Nulos:  42883\n",
      "+-----------------------+-----+-----+\n",
      "|codigoEstadoTeste3_erro|Qtd  |%    |\n",
      "+-----------------------+-----+-----+\n",
      "|Sem Erro               |42883|100.0|\n",
      "+-----------------------+-----+-----+\n",
      "\n"
     ]
    }
   ],
   "source": [
    "#codigoEstadoTeste3\n",
    "Total_erro = df.filter(col('codigoEstadoTeste3').isNotNull())\n",
    "print('Total sem Nulos: ',Total_erro.count())\n",
    "\n",
    "df_erro = Total_erro.select(when((col('codigoEstadoTeste3') >= 1) & (col('codigoEstadoTeste3') <= 4),'Sem Erro').otherwise('Com Erro').alias('codigoEstadoTeste3_erro'))\n",
    "\n",
    "df_erro.groupBy('codigoEstadoTeste3_erro').count()\\\n",
    "       .select('codigoEstadoTeste3_erro',\n",
    "               col('count').alias('Qtd'),\n",
    "               round((col('count')/(Total_erro.count()))*100, 6).alias('%')).show(10,False)"
   ]
  },
  {
   "cell_type": "code",
   "execution_count": 114,
   "metadata": {},
   "outputs": [
    {
     "name": "stdout",
     "output_type": "stream",
     "text": [
      "Total sem Nulos:  4914\n",
      "+---------------------+----+-----+\n",
      "|codigoTipoTeste4_erro|Qtd |%    |\n",
      "+---------------------+----+-----+\n",
      "|Sem Erro             |4914|100.0|\n",
      "+---------------------+----+-----+\n",
      "\n"
     ]
    }
   ],
   "source": [
    "#codigoTipoTeste4\n",
    "Total_erro = df.filter(col('codigoTipoTeste4').isNotNull())\n",
    "print('Total sem Nulos: ',Total_erro.count())\n",
    "\n",
    "df_erro = Total_erro.select(when((col('codigoTipoTeste4') >= 1) & (col('codigoTipoTeste4') <= 9),'Sem Erro').otherwise('Com Erro').alias('codigoTipoTeste4_erro'))\n",
    "\n",
    "df_erro.groupBy('codigoTipoTeste4_erro').count()\\\n",
    "       .select('codigoTipoTeste4_erro',\n",
    "               col('count').alias('Qtd'),\n",
    "               round((col('count')/(Total_erro.count()))*100, 6).alias('%')).show(10,False)"
   ]
  },
  {
   "cell_type": "code",
   "execution_count": 115,
   "metadata": {},
   "outputs": [
    {
     "name": "stdout",
     "output_type": "stream",
     "text": [
      "Total sem Nulos:  4914\n",
      "+-----------------------+----+-----+\n",
      "|codigoEstadoTeste4_erro|Qtd |%    |\n",
      "+-----------------------+----+-----+\n",
      "|Sem Erro               |4914|100.0|\n",
      "+-----------------------+----+-----+\n",
      "\n"
     ]
    }
   ],
   "source": [
    "#codigoEstadoTeste4\n",
    "Total_erro = df.filter(col('codigoEstadoTeste4').isNotNull())\n",
    "print('Total sem Nulos: ',Total_erro.count())\n",
    "\n",
    "df_erro = Total_erro.select(when((col('codigoEstadoTeste4') >= 1) & (col('codigoEstadoTeste4') <= 4),'Sem Erro').otherwise('Com Erro').alias('codigoEstadoTeste4_erro'))\n",
    "\n",
    "df_erro.groupBy('codigoEstadoTeste4_erro').count()\\\n",
    "       .select('codigoEstadoTeste4_erro',\n",
    "               col('count').alias('Qtd'),\n",
    "               round((col('count')/(Total_erro.count()))*100, 6).alias('%')).show(10,False)"
   ]
  },
  {
   "cell_type": "code",
   "execution_count": 116,
   "metadata": {},
   "outputs": [
    {
     "name": "stdout",
     "output_type": "stream",
     "text": [
      "Total sem Nulos:  15573003\n",
      "+---------------------+--------+-----+\n",
      "|dataColetaTeste4_erro|Qtd     |%    |\n",
      "+---------------------+--------+-----+\n",
      "|Sem Erro             |15573003|100.0|\n",
      "+---------------------+--------+-----+\n",
      "\n"
     ]
    }
   ],
   "source": [
    "#dataColetaTeste4\n",
    "Total_erro = df.filter(col('dataColetaTeste4').isNotNull())\n",
    "print('Total sem Nulos: ',Total_erro.count())\n",
    "\n",
    "df_erro = Total_erro.select(when((col('dataColetaTeste4') >= '2020-01-01'),'Sem Erro').otherwise('Com Erro').alias('dataColetaTeste4_erro'))\n",
    "\n",
    "df_erro.groupBy('dataColetaTeste4_erro').count()\\\n",
    "       .select('dataColetaTeste4_erro',\n",
    "               col('count').alias('Qtd'),\n",
    "               round((col('count')/(Total_erro.count()))*100, 6).alias('%')).show(10,False)"
   ]
  },
  {
   "cell_type": "code",
   "execution_count": 117,
   "metadata": {},
   "outputs": [
    {
     "name": "stdout",
     "output_type": "stream",
     "text": [
      "Total sem Nulos:  3881\n",
      "+--------------------------+----+-----+\n",
      "|codigoResultadoTeste4_erro|Qtd |%    |\n",
      "+--------------------------+----+-----+\n",
      "|Sem Erro                  |3881|100.0|\n",
      "+--------------------------+----+-----+\n",
      "\n"
     ]
    }
   ],
   "source": [
    "#codigoResultadoTeste4\n",
    "Total_erro = df.filter(col('codigoResultadoTeste4').isNotNull())\n",
    "print('Total sem Nulos: ',Total_erro.count())\n",
    "\n",
    "df_erro = Total_erro.select(when((col('codigoResultadoTeste4') >= 1) & (col('codigoResultadoTeste4') <= 3),'Sem Erro').otherwise('Com Erro').alias('codigoResultadoTeste4_erro'))\n",
    "\n",
    "df_erro.groupBy('codigoResultadoTeste4_erro').count()\\\n",
    "       .select('codigoResultadoTeste4_erro',\n",
    "               col('count').alias('Qtd'),\n",
    "               round((col('count')/(Total_erro.count()))*100, 6).alias('%')).show(10,False)"
   ]
  },
  {
   "cell_type": "code",
   "execution_count": 118,
   "metadata": {},
   "outputs": [
    {
     "name": "stdout",
     "output_type": "stream",
     "text": [
      "Total sem Nulos:  1607\n",
      "+---------------------------+----+-----+\n",
      "|codigoFabricanteTeste4_erro|Qtd |%    |\n",
      "+---------------------------+----+-----+\n",
      "|Sem Erro                   |1607|100.0|\n",
      "+---------------------------+----+-----+\n",
      "\n"
     ]
    }
   ],
   "source": [
    "#codigoFabricanteTeste4\n",
    "Total_erro = df.filter(col('codigoFabricanteTeste4').isNotNull())\n",
    "print('Total sem Nulos: ',Total_erro.count())\n",
    "\n",
    "df_erro = Total_erro.select(when((col('codigoFabricanteTeste4').cast(\"int\").isNotNull()),'Sem Erro').otherwise('Com Erro').alias('codigoFabricanteTeste4_erro'))\n",
    "\n",
    "df_erro.groupBy('codigoFabricanteTeste4_erro').count()\\\n",
    "       .select('codigoFabricanteTeste4_erro',\n",
    "               col('count').alias('Qtd'),\n",
    "               round((col('count')/(Total_erro.count()))*100, 6).alias('%')).show(10,False)"
   ]
  },
  {
   "cell_type": "code",
   "execution_count": 119,
   "metadata": {},
   "outputs": [
    {
     "name": "stdout",
     "output_type": "stream",
     "text": [
      "Total sem Nulos:  7498049\n",
      "+-----------------+-------+--------+\n",
      "|evolucaoCaso_erro|Qtd    |%       |\n",
      "+-----------------+-------+--------+\n",
      "|Sem Erro         |7498046|99.99996|\n",
      "|Com Erro         |3      |4.0E-5  |\n",
      "+-----------------+-------+--------+\n",
      "\n"
     ]
    }
   ],
   "source": [
    "#evolucaoCaso\n",
    "Total_erro = df.filter(col('evolucaoCaso').isNotNull())\n",
    "print('Total sem Nulos: ',Total_erro.count())\n",
    "\n",
    "df_erro = Total_erro.select(when((col('evolucaoCaso').contains('Cancelado')) |\n",
    "                                 (col('evolucaoCaso').contains('Ignorado')) |\n",
    "                                 (col('evolucaoCaso').contains('Em tratamento domiciliar')) |\n",
    "                                 (col('evolucaoCaso').contains('Internado em UTI')) |\n",
    "                                 (col('evolucaoCaso').contains('Internado')) |\n",
    "                                 (col('evolucaoCaso').contains('Óbito')) |\n",
    "                                 (col('evolucaoCaso').contains('Cura')),'Sem Erro').otherwise('Com Erro').alias('evolucaoCaso_erro'))\n",
    "\n",
    "df_erro.groupBy('evolucaoCaso_erro').count()\\\n",
    "       .select('evolucaoCaso_erro',\n",
    "               col('count').alias('Qtd'),\n",
    "               round((col('count')/(Total_erro.count()))*100, 6).alias('%')).show(10,False)"
   ]
  },
  {
   "cell_type": "code",
   "execution_count": 120,
   "metadata": {},
   "outputs": [
    {
     "name": "stdout",
     "output_type": "stream",
     "text": [
      "Total sem Nulos:  7385435\n",
      "+-----------------------+-------+---------+\n",
      "|classificacaoFinal_erro|Qtd    |%        |\n",
      "+-----------------------+-------+---------+\n",
      "|Com Erro               |2245   |0.030398 |\n",
      "|Sem Erro               |7383190|99.969602|\n",
      "+-----------------------+-------+---------+\n",
      "\n"
     ]
    }
   ],
   "source": [
    "#classificacaoFinal\n",
    "Total_erro = df.filter(col('classificacaoFinal').isNotNull())\n",
    "print('Total sem Nulos: ',Total_erro.count())\n",
    "\n",
    "df_erro = Total_erro.select(when((col('classificacaoFinal').contains('Confirmado Laboratorial')) |\n",
    "                                 (col('classificacaoFinal').contains('Confirmado Clínico-Epidemiológico')) |\n",
    "                                 (col('classificacaoFinal').contains('Descartado')) |\n",
    "                                 (col('classificacaoFinal').contains('Síndrome Gripal Não Especificada')) |\n",
    "                                 (col('classificacaoFinal').contains('Confirmado Clínico-Imagem ')) |\n",
    "                                 (col('classificacaoFinal').contains('Confirmado por Critério Clínico')),'Sem Erro').otherwise('Com Erro').alias('classificacaoFinal_erro'))\n",
    "\n",
    "df_erro.groupBy('classificacaoFinal_erro').count()\\\n",
    "       .select('classificacaoFinal_erro',\n",
    "               col('count').alias('Qtd'),\n",
    "               round((col('count')/(Total_erro.count()))*100, 6).alias('%')).show(10,False)"
   ]
  },
  {
   "cell_type": "code",
   "execution_count": 6,
   "metadata": {
    "scrolled": true
   },
   "outputs": [
    {
     "name": "stdout",
     "output_type": "stream",
     "text": [
      "Total sem Nulos:  15573505\n",
      "+---------------------+--------+---------+\n",
      "|dataEncerramento_erro|Qtd     |%        |\n",
      "+---------------------+--------+---------+\n",
      "|Com Erro             |996     |0.006395 |\n",
      "|Sem Erro             |15572509|99.993605|\n",
      "+---------------------+--------+---------+\n",
      "\n"
     ]
    }
   ],
   "source": [
    "#dataEncerramento\n",
    "Total_erro = df.filter(col('dataEncerramento').isNotNull())\n",
    "print('Total sem Nulos: ',Total_erro.count())\n",
    "\n",
    "df_erro = Total_erro.select(when(col('dataEncerramento') >= '2020-01-01','Sem Erro').otherwise('Com Erro').alias('dataEncerramento_erro'))\n",
    "\n",
    "df_erro.groupBy('dataEncerramento_erro').count()\\\n",
    "       .select('dataEncerramento_erro',\n",
    "               col('count').alias('Qtd'),\n",
    "               round((col('count')/(Total_erro.count()))*100, 6).alias('%')).show(10,False)"
   ]
  },
  {
   "cell_type": "markdown",
   "metadata": {},
   "source": [
    "## Análise estendida para alguns atributos"
   ]
  },
  {
   "cell_type": "code",
   "execution_count": 4,
   "metadata": {},
   "outputs": [
    {
     "data": {
      "text/plain": [
       "['sintomas',\n",
       " 'profissionalSaude',\n",
       " 'racaCor',\n",
       " 'outrosSintomas',\n",
       " 'outrasCondicoes',\n",
       " 'profissionalSeguranca',\n",
       " 'cbo',\n",
       " 'condicoes',\n",
       " 'sexo',\n",
       " 'estado',\n",
       " 'estadoIBGE',\n",
       " 'municipio',\n",
       " 'municipioIBGE',\n",
       " 'origem',\n",
       " 'estadoNotificacao',\n",
       " 'municipioNotificacao',\n",
       " 'municipioNotificacaoIBGE',\n",
       " 'evolucaoCaso',\n",
       " 'classificacaoFinal',\n",
       " 'codigoEstrategiaCovid',\n",
       " 'codigoBuscaAtivaAssintomatico',\n",
       " 'outroBuscaAtivaAssintomatico',\n",
       " 'codigoTriagemPopulacaoEspecifica',\n",
       " 'outroTriagemPopulacaoEspecifica',\n",
       " 'codigoLocalRealizacaoTestagem',\n",
       " 'outroLocalRealizacaoTestagem',\n",
       " 'codigoRecebeuVacina',\n",
       " 'codigoLaboratorioPrimeiraDose',\n",
       " 'codigoLaboratorioSegundaDose',\n",
       " 'lotePrimeiraDose',\n",
       " 'loteSegundaDose',\n",
       " 'codigoContemComunidadeTradicional',\n",
       " 'source_id',\n",
       " 'excluido',\n",
       " 'validado',\n",
       " 'codigoDosesVacina',\n",
       " 'estadoNotificacaoIBGE',\n",
       " 'totalTestesRealizados',\n",
       " 'dataNotificacao',\n",
       " 'dataInicioSintomas',\n",
       " 'dataEncerramento',\n",
       " 'dataPrimeiraDose',\n",
       " 'dataSegundaDose',\n",
       " 'codigoEstadoTeste1',\n",
       " 'codigoTipoTeste1',\n",
       " 'codigoFabricanteTeste1',\n",
       " 'codigoResultadoTeste1',\n",
       " 'codigoEstadoTeste2',\n",
       " 'codigoTipoTeste2',\n",
       " 'codigoFabricanteTeste2',\n",
       " 'codigoResultadoTeste2',\n",
       " 'codigoEstadoTeste3',\n",
       " 'codigoTipoTeste3',\n",
       " 'codigoFabricanteTeste3',\n",
       " 'codigoResultadoTeste3',\n",
       " 'codigoEstadoTeste4',\n",
       " 'codigoTipoTeste4',\n",
       " 'codigoFabricanteTeste4',\n",
       " 'codigoResultadoTeste4',\n",
       " 'dataColetaTeste1',\n",
       " 'dataColetaTeste2',\n",
       " 'dataColetaTeste3',\n",
       " 'dataColetaTeste4',\n",
       " 'idade']"
      ]
     },
     "execution_count": 4,
     "metadata": {},
     "output_type": "execute_result"
    }
   ],
   "source": [
    "# o dataset contém 63 colunas, sendo que a coluna 32 \"source_id\" não consta no dicionário de dados\n",
    "df.columns"
   ]
  },
  {
   "cell_type": "code",
   "execution_count": 122,
   "metadata": {},
   "outputs": [
    {
     "name": "stdout",
     "output_type": "stream",
     "text": [
      "Total de amostras :\n",
      "15573511\n"
     ]
    }
   ],
   "source": [
    "print(\"Total de amostras :\")\n",
    "print(df.count())"
   ]
  },
  {
   "cell_type": "markdown",
   "metadata": {},
   "source": [
    "### Análise de distribuição de atributos numéricos "
   ]
  },
  {
   "cell_type": "code",
   "execution_count": 6,
   "metadata": {},
   "outputs": [
    {
     "name": "stderr",
     "output_type": "stream",
     "text": [
      "                                                                                \r"
     ]
    },
    {
     "data": {
      "text/plain": [
       "<AxesSubplot:xlabel='idade'>"
      ]
     },
     "execution_count": 6,
     "metadata": {},
     "output_type": "execute_result"
    },
    {
     "data": {
      "image/png": "[encoded data removed]",
      "text/plain": [
       "<Figure size 432x288 with 1 Axes>"
      ]
     },
     "metadata": {
      "needs_background": "light"
     },
     "output_type": "display_data"
    }
   ],
   "source": [
    "# selecionando apenas a coluna idade\n",
    "df_idade = df.select('idade').toPandas()\n",
    "df_idade['idade'] = df_idade['idade'].astype(str).str.replace(',', '.').str.replace('None', 'nan').astype(float)\n",
    "sns.violinplot(x=df_idade[\"idade\"], df=df_idade)"
   ]
  },
  {
   "cell_type": "markdown",
   "metadata": {},
   "source": [
    "Inconsistências são outliers"
   ]
  },
  {
   "cell_type": "code",
   "execution_count": 7,
   "metadata": {},
   "outputs": [
    {
     "name": "stdout",
     "output_type": "stream",
     "text": [
      "Percentual de consistência para idades:  idade    99.999661\n",
      "dtype: float64\n"
     ]
    }
   ],
   "source": [
    "# contabilizando como inconsistente idade maior que 100\n",
    "centenarios = df_idade[df_idade['idade']>100].count()\n",
    "idades_validas = df_idade[df_idade['idade']<=100].count()\n",
    "consistencia_idades = (idades_validas/(centenarios+idades_validas))*100\n",
    "print(\"Percentual de consistência para idades: \", consistencia_idades)"
   ]
  },
  {
   "cell_type": "markdown",
   "metadata": {},
   "source": [
    "### Atributos sintomas e condicoes, que contém os termos separados por vírgula"
   ]
  },
  {
   "cell_type": "code",
   "execution_count": 19,
   "metadata": {},
   "outputs": [
    {
     "name": "stderr",
     "output_type": "stream",
     "text": [
      "                                                                                \r"
     ]
    },
    {
     "name": "stdout",
     "output_type": "stream",
     "text": [
      "Foram encontradas  sintomas    15571882\n",
      "dtype: int64  ocorrências únicas para o atributo sintomas\n"
     ]
    },
    {
     "data": {
      "text/plain": [
       "assintomatico            2648329\n",
       "belgica                        3\n",
       "belgium nv                     3\n",
       "coriza                   6165426\n",
       "dispineia                      1\n",
       "dispneia                 1203891\n",
       "disturbios gustativos     566321\n",
       "disturbios olfativos      490811\n",
       "dor de cabeca            5762046\n",
       "dor de garganta          5851884\n",
       "febre                    4535253\n",
       "outros                   3305860\n",
       "tosse                    8308716\n",
       "dtype: int64"
      ]
     },
     "execution_count": 19,
     "metadata": {},
     "output_type": "execute_result"
    }
   ],
   "source": [
    "df_sintomas = df.select('sintomas').toPandas()\n",
    "\n",
    "print(\"Foram encontradas \", df_sintomas.count() , \" ocorrências únicas para o atributo sintomas\")\n",
    "\n",
    "df_sintomas.dropna(subset = ['sintomas'], inplace=True)\n",
    "df_sintomas.reset_index(inplace=True)\n",
    "df_sintomas.drop('index', axis=1, inplace=True)\n",
    "df_sintomas\n",
    "#print(\"Nulos: \", df_sintomas['sintomas'].isnull().sum())\n",
    "\n",
    "vectorizer = CountVectorizer(strip_accents='ascii',token_pattern='(?u)[a-zA-Z][a-z ]+')\n",
    "\n",
    "cv = vectorizer.fit_transform(df_sintomas['sintomas'])\n",
    "\n",
    "#print(vectorizer.get_feature_names())\n",
    "\n",
    "df_sintomas = pd.DataFrame(cv.toarray(), columns=vectorizer.get_feature_names())\n",
    "#AppKit.NSBeep()\n",
    "df_sintomas.sum()\n"
   ]
  },
  {
   "cell_type": "code",
   "execution_count": 9,
   "metadata": {},
   "outputs": [
    {
     "name": "stderr",
     "output_type": "stream",
     "text": [
      "                                                                                \r"
     ]
    },
    {
     "name": "stdout",
     "output_type": "stream",
     "text": [
      "Foram encontradas  condicoes    1580751\n",
      "dtype: int64 ocorrências únicas no atributo condicoes\n"
     ]
    },
    {
     "data": {
      "text/plain": [
       "diabetes                                                                  318740\n",
       "doencas cardiacas cronicas                                                472514\n",
       "doencas renais cronicas                                                        3\n",
       "doencas renais cronicas em estagio avancado                                21273\n",
       "doencas respiratorias cronicas descompensadas                             371095\n",
       "false                                                                          3\n",
       "gestante                                                                   81061\n",
       "gestante de alto risco                                                        45\n",
       "graus                                                                      21273\n",
       "imunossupressao                                                            55487\n",
       "imunosupressao                                                               148\n",
       "obesidade                                                                  54591\n",
       "ou                                                                         21273\n",
       "outros                                                                    469802\n",
       "portador de doencas cromossomicas ou estado de fragilidade imunologica     14453\n",
       "puepera                                                                     2589\n",
       "dtype: int64"
      ]
     },
     "execution_count": 9,
     "metadata": {},
     "output_type": "execute_result"
    }
   ],
   "source": [
    "df_condicoes = df.select('condicoes').toPandas()\n",
    "\n",
    "print(\"Foram encontradas \", df_condicoes.count(), \"ocorrências únicas no atributo condicoes\")\n",
    "\n",
    "df_condicoes.dropna(subset = ['condicoes'], inplace=True)\n",
    "df_condicoes.reset_index(inplace=True)\n",
    "df_condicoes.drop('index', axis=1, inplace=True)\n",
    "#print(\"Nulos: \", df_condicoes['condicoes'].isnull().sum())\n",
    "df_condicoes['condicoes'] = df_condicoes['condicoes'].str.lower().str.replace(\"puérpera \\(até 45 dias do parto\\)\",\n",
    "                                                                              \"puépera\", regex=True)\n",
    "\n",
    "\n",
    "vectorizer = CountVectorizer(strip_accents='ascii',token_pattern='(?u)[a-zA-Z][a-z ]+')\n",
    "cv = vectorizer.fit_transform(df_condicoes['condicoes'])\n",
    "\n",
    "#print(vectorizer.get_feature_names())\n",
    "\n",
    "df_condicoes_col = pd.DataFrame(cv.toarray(), columns=vectorizer.get_feature_names())\n",
    "\n",
    "#AppKit.NSBeep()\n",
    "\n",
    "df_condicoes_col.sum()"
   ]
  },
  {
   "cell_type": "markdown",
   "metadata": {},
   "source": [
    "Gestante de Alto Risco não está listado no dicionário"
   ]
  },
  {
   "cell_type": "code",
   "execution_count": 11,
   "metadata": {},
   "outputs": [
    {
     "name": "stdout",
     "output_type": "stream",
     "text": [
      "23/03/10 18:56:01 WARN package: Truncated the string representation of a plan since it was too large. This behavior can be adjusted by setting 'spark.sql.debug.maxToStringFields'.\n"
     ]
    },
    {
     "name": "stderr",
     "output_type": "stream",
     "text": [
      "[Stage 15:=====================================================>  (19 + 1) / 20]\r"
     ]
    },
    {
     "name": "stdout",
     "output_type": "stream",
     "text": [
      "+--------------------+-----------------+-------+--------------------+---------------+---------------------+--------------------+--------------------+--------+---------+----------+-------------------+-------------+-----------+-----------------+--------------------+------------------------+------------+--------------------+---------------------+-----------------------------+----------------------------+--------------------------------+-------------------------------+-----------------------------+----------------------------+-------------------+-----------------------------+----------------------------+----------------+---------------+---------------------------------+----------+--------+--------+-----------------+---------------------+---------------------+---------------+------------------+----------------+----------------+---------------+------------------+----------------+----------------------+---------------------+------------------+----------------+----------------------+---------------------+------------------+----------------+----------------------+---------------------+------------------+----------------+----------------------+---------------------+-------------------+----------------+----------------+----------------+-----+\n",
      "|            sintomas|profissionalSaude|racaCor|      outrosSintomas|outrasCondicoes|profissionalSeguranca|                 cbo|           condicoes|    sexo|   estado|estadoIBGE|          municipio|municipioIBGE|     origem|estadoNotificacao|municipioNotificacao|municipioNotificacaoIBGE|evolucaoCaso|  classificacaoFinal|codigoEstrategiaCovid|codigoBuscaAtivaAssintomatico|outroBuscaAtivaAssintomatico|codigoTriagemPopulacaoEspecifica|outroTriagemPopulacaoEspecifica|codigoLocalRealizacaoTestagem|outroLocalRealizacaoTestagem|codigoRecebeuVacina|codigoLaboratorioPrimeiraDose|codigoLaboratorioSegundaDose|lotePrimeiraDose|loteSegundaDose|codigoContemComunidadeTradicional| source_id|excluido|validado|codigoDosesVacina|estadoNotificacaoIBGE|totalTestesRealizados|dataNotificacao|dataInicioSintomas|dataEncerramento|dataPrimeiraDose|dataSegundaDose|codigoEstadoTeste1|codigoTipoTeste1|codigoFabricanteTeste1|codigoResultadoTeste1|codigoEstadoTeste2|codigoTipoTeste2|codigoFabricanteTeste2|codigoResultadoTeste2|codigoEstadoTeste3|codigoTipoTeste3|codigoFabricanteTeste3|codigoResultadoTeste3|codigoEstadoTeste4|codigoTipoTeste4|codigoFabricanteTeste4|codigoResultadoTeste4|   dataColetaTeste1|dataColetaTeste2|dataColetaTeste3|dataColetaTeste4|idade|\n",
      "+--------------------+-----------------+-------+--------------------+---------------+---------------------+--------------------+--------------------+--------+---------+----------+-------------------+-------------+-----------+-----------------+--------------------+------------------------+------------+--------------------+---------------------+-----------------------------+----------------------------+--------------------------------+-------------------------------+-----------------------------+----------------------------+-------------------+-----------------------------+----------------------------+----------------+---------------+---------------------------------+----------+--------+--------+-----------------+---------------------+---------------------+---------------+------------------+----------------+----------------+---------------+------------------+----------------+----------------------+---------------------+------------------+----------------+----------------------+---------------------+------------------+----------------+----------------------+---------------------+------------------+----------------+----------------------+---------------------+-------------------+----------------+----------------+----------------+-----+\n",
      "|       Tosse, Outros|              Sim|  Parda|            CEFALEIA|           null|                  Não|3222 - Técnico ou...|Gestante de alto ...|Feminino|São Paulo|      null|        Pirapozinho|         null|parse-cloud|        São Paulo| Presidente Prudente|                    null|        Cura|          Descartado|                 null|                         null|                        null|                            null|                           null|                         null|                        null|               null|                         null|                        null|            null|           null|                             null|hBHV4gtakI|   false|   false|             null|                 null|                    1|     2020-06-25|        2020-03-17|      2020-06-25|            None|           None|                 3|               1|                  null|                    2|              null|            null|                  null|                 null|              null|            null|                  null|                 null|              null|            null|                  null|                 null|2020-03-24 00:00:00|            None|            None|            None|   30|\n",
      "|Febre, Tosse, Out...|              Não|   null|    PERDA DO PALADAR|           null|                  Não|                null|Diabetes, Gestant...|Feminino|São Paulo|      null|            Guarujá|         null|parse-cloud|        São Paulo|             Guarujá|                    null|        Cura|Confirmado por Cr...|                 null|                         null|                        null|                            null|                           null|                         null|                        null|               null|                         null|                        null|            null|           null|                             null|PMVA7yhURj|   false|   false|             null|                 null|                    1|     2020-06-17|        2020-06-10|      2022-02-12|            None|           None|                 3|               5|                  null|                    2|              null|            null|                  null|                 null|              null|            null|                  null|                 null|              null|            null|                  null|                 null|2020-06-18 00:00:00|            None|            None|            None|   49|\n",
      "|               Tosse|              Não| Branca|                null|           null|                  Não|                null|Gestante de alto ...|Feminino|São Paulo|      null|    Santa Albertina|         null|parse-cloud|        São Paulo|     Santa Albertina|                    null|        Cura|          Descartado|                 null|                         null|                        null|                            null|                           null|                         null|                        null|               null|                         null|                        null|            null|           null|                             null|2vSP5RcOvR|   false|   false|             null|                 null|                    1|     2020-06-22|        2020-06-14|      2020-06-22|            None|           None|                 3|               5|                  null|                    2|              null|            null|                  null|                 null|              null|            null|                  null|                 null|              null|            null|                  null|                 null|2020-06-22 00:00:00|            None|            None|            None|   33|\n",
      "|Dor de Garganta, ...|              Não| Branca|        dor torácica|           null|                  Não|                null|Gestante de alto ...|Feminino|São Paulo|      null|          São Paulo|         null|parse-cloud|        São Paulo|           São Paulo|                    null|        Cura|Síndrome Gripal N...|                 null|                         null|                        null|                            null|                           null|                         null|                        null|               null|                         null|                        null|            null|           null|                             null|w0AVFBHmp6|   false|   false|             null|                 null|                    1|     2020-05-13|        2020-05-10|      2022-09-22|            None|           None|              null|            null|                  null|                 null|              null|            null|                  null|                 null|              null|            null|                  null|                 null|              null|            null|                  null|                 null|               null|            None|            None|            None|   23|\n",
      "|Dor de Garganta, ...|              Não|  Parda|MIALGIA, CEFALEIA...|           null|                  Não|                null|Doenças respirató...|Feminino|São Paulo|      null|        São Vicente|         null|parse-cloud|        São Paulo|              Santos|                    null|        Cura|Confirmado Labora...|                 null|                         null|                        null|                            null|                           null|                         null|                        null|               null|                         null|                        null|            null|           null|                             null|YydDUeCDhT|   false|   false|             null|                 null|                    1|     2020-06-15|        2020-06-11|      2022-07-19|            None|           None|                 3|               1|                  null|                    1|              null|            null|                  null|                 null|              null|            null|                  null|                 null|              null|            null|                  null|                 null|2020-06-15 00:00:00|            None|            None|            None|   26|\n",
      "|              Outros|              Não| Branca|PERCA DE OLFATO E...|           null|                  Não|                null|Gestante de alto ...|Feminino|São Paulo|      null|Natividade da Serra|         null|parse-cloud|        São Paulo|       Caraguatatuba|                    null|   Cancelado|                null|                 null|                         null|                        null|                            null|                           null|                         null|                        null|               null|                         null|                        null|            null|           null|                             null|ABvJxUe6kW|   false|   false|             null|                 null|                    1|     2020-06-25|        2020-06-25|            None|            None|           None|              null|            null|                  null|                 null|              null|            null|                  null|                 null|              null|            null|                  null|                 null|              null|            null|                  null|                 null|               null|            None|            None|            None|   33|\n",
      "|     Dor de Garganta|              Não| Branca|                null|           null|                  Não|                null|Gestante de alto ...|Feminino|São Paulo|      null|             Santos|         null|parse-cloud|        São Paulo|              Santos|                    null|   Cancelado|          Descartado|                 null|                         null|                        null|                            null|                           null|                         null|                        null|               null|                         null|                        null|            null|           null|                             null|Mr4NOspbPh|   false|   false|             null|                 null|                    1|     2020-05-26|        2020-05-22|      2022-06-08|            None|           None|                 3|               1|                  null|                    2|              null|            null|                  null|                 null|              null|            null|                  null|                 null|              null|            null|                  null|                 null|2020-05-26 00:00:00|            None|            None|            None|   37|\n",
      "|     Dor de Garganta|              Não| Branca|                null|           null|                  Não|                null|Gestante de alto ...|Feminino|São Paulo|      null|             Santos|         null|parse-cloud|        São Paulo|              Santos|                    null|        Cura|Confirmado Labora...|                 null|                         null|                        null|                            null|                           null|                         null|                        null|               null|                         null|                        null|            null|           null|                             null|esVt8QspC1|   false|   false|             null|                 null|                    1|     2020-05-26|        2020-05-22|      2022-06-08|            None|           None|                 3|               1|                  null|                    1|              null|            null|                  null|                 null|              null|            null|                  null|                 null|              null|            null|                  null|                 null|2020-05-26 00:00:00|            None|            None|            None|   37|\n",
      "|Tosse, Dor de Gar...|              Sim|  Parda|                null|           null|                  Não|2011 - Profission...|Doenças respirató...|Feminino|São Paulo|      null|             Santos|         null|parse-cloud|        São Paulo|           São Paulo|                    null|    Ignorado|          Descartado|                 null|                         null|                        null|                            null|                           null|                         null|                        null|               null|                         null|                        null|            null|           null|                             null|TBLCGqtgbF|   false|   false|             null|                 null|                    1|     2020-05-22|        2020-04-13|      2022-06-02|            None|           None|                 3|               5|                  null|                    2|              null|            null|                  null|                 null|              null|            null|                  null|                 null|              null|            null|                  null|                 null|2020-05-20 00:00:00|            None|            None|            None|   35|\n",
      "|              Outros|              Não| Branca|             MIALGIA|           null|                  Não|                null|Gestante de alto ...|Feminino|São Paulo|      null|Presidente Prudente|         null|parse-cloud|        São Paulo|      Ribeirão Preto|                    null|        Cura|Confirmado Labora...|                 null|                         null|                        null|                            null|                           null|                         null|                        null|               null|                         null|                        null|            null|           null|                             null|rFG5Sx0sKB|   false|   false|             null|                 null|                    1|     2020-06-15|        2020-06-08|      2022-05-10|            None|           None|                 3|               1|                  null|                    1|              null|            null|                  null|                 null|              null|            null|                  null|                 null|              null|            null|                  null|                 null|2020-06-12 00:00:00|            None|            None|            None|   27|\n",
      "|Febre, Tosse, Dor...|              Não|   null|                null|           null|                 null|                null|Gestante de alto ...|Feminino|São Paulo|      null|          São Paulo|         null|parse-cloud|        São Paulo|           São Paulo|                    null|    Ignorado|Confirmado Clínic...|                 null|                         null|                        null|                            null|                           null|                         null|                        null|               null|                         null|                        null|            null|           null|                             null|uaSHGpqPqZ|   false|   false|             null|                 null|                    1|     2020-04-15|        2020-04-14|      2022-03-07|            None|           None|              null|            null|                  null|                 null|              null|            null|                  null|                 null|              null|            null|                  null|                 null|              null|            null|                  null|                 null|               null|            None|            None|            None|   36|\n",
      "|    Dispneia, Outros|              Não| Branca|DIFICULDADE RESPI...|           null|                  Não|                null|Gestante de alto ...|Feminino|São Paulo|      null|               Jaci|         null|parse-cloud|        São Paulo|São José do Rio P...|                    null|        Cura|          Descartado|                 null|                         null|                        null|                            null|                           null|                         null|                        null|               null|                         null|                        null|            null|           null|                             null|67hD7QUq1n|   false|   false|             null|                 null|                    1|     2020-06-01|        2020-05-10|      2020-05-31|            None|           None|                 3|               1|                  null|                    2|              null|            null|                  null|                 null|              null|            null|                  null|                 null|              null|            null|                  null|                 null|2020-05-30 00:00:00|            None|            None|            None|   40|\n",
      "|              Outros|              Não|   null|    coriza, mialgia.|           null|                 null|                null|Gestante de alto ...|Feminino|São Paulo|      null|             Santos|         null|parse-cloud|        São Paulo|              Santos|                    null|    Ignorado|          Descartado|                 null|                         null|                        null|                            null|                           null|                         null|                        null|               null|                         null|                        null|            null|           null|                             null|AAUJFPD826|   false|   false|             null|                 null|                    1|     2020-04-13|        2020-04-07|      2022-04-27|            None|           None|                 3|               1|                  null|                    2|              null|            null|                  null|                 null|              null|            null|                  null|                 null|              null|            null|                  null|                 null|2020-04-13 00:00:00|            None|            None|            None|   18|\n",
      "|     Dor de Garganta|              Não| Branca|                null|           null|                  Não|                null|Gestante de alto ...|Feminino|São Paulo|      null|             Santos|         null|parse-cloud|        São Paulo|              Santos|                    null|   Cancelado|          Descartado|                 null|                         null|                        null|                            null|                           null|                         null|                        null|               null|                         null|                        null|            null|           null|                             null|oCBMPDZqdY|   false|   false|             null|                 null|                    1|     2020-05-26|        2020-05-22|      2022-06-08|            None|           None|                 3|               1|                  null|                    2|              null|            null|                  null|                 null|              null|            null|                  null|                 null|              null|            null|                  null|                 null|2020-05-26 00:00:00|            None|            None|            None|   37|\n",
      "|Febre, Tosse, Dis...|              Não|   null|                null|           null|                  Não|                null|Gestante de alto ...|Feminino|São Paulo|      null|          São Paulo|         null|parse-cloud|        São Paulo|           São Paulo|                    null|    Ignorado|Confirmado Clínic...|                 null|                         null|                        null|                            null|                           null|                         null|                        null|               null|                         null|                        null|            null|           null|                             null|YprRLhRfRC|   false|   false|             null|                 null|                    1|     2020-05-12|        2020-05-09|      2022-05-12|            None|           None|              null|            null|                  null|                 null|              null|            null|                  null|                 null|              null|            null|                  null|                 null|              null|            null|                  null|                 null|               null|            None|            None|            None|   29|\n",
      "|    Outros, Dispneia|              Não| Branca|    CEFALEIA, CORIZA|           null|                  Não|                null|Gestante de alto ...|Feminino|São Paulo|      null|              Bauru|         null|parse-cloud|        São Paulo|               Bauru|                    null|        Cura|Confirmado Labora...|                 null|                         null|                        null|                            null|                           null|                         null|                        null|               null|                         null|                        null|            null|           null|                             null|ZIEmO2TPe0|   false|   false|             null|                 null|                    1|     2020-06-15|        2020-06-10|      2020-06-20|            None|           None|                 3|               1|                  null|                    1|              null|            null|                  null|                 null|              null|            null|                  null|                 null|              null|            null|                  null|                 null|2020-06-15 00:00:00|            None|            None|            None|   45|\n",
      "|       Febre, Outros|              Não|  Parda|  MIALGIA E CEFALEIA|           null|                  Não|                null|Gestante de alto ...|Feminino|São Paulo|      null|          São Paulo|         null|parse-cloud|        São Paulo|           São Paulo|                    null|    Ignorado|Síndrome Gripal N...|                 null|                         null|                        null|                            null|                           null|                         null|                        null|               null|                         null|                        null|            null|           null|                             null|uMVzpORQQO|   false|   false|             null|                 null|                    1|     2020-06-10|        2020-06-06|      2021-06-11|            None|           None|              null|            null|                  null|                 null|              null|            null|                  null|                 null|              null|            null|                  null|                 null|              null|            null|                  null|                 null|               null|            None|            None|            None|   21|\n",
      "|Dor de Garganta, ...|              Não| Branca|Dores no corpo e ...|           null|                  Não|                null|Doenças cardíacas...|Feminino|São Paulo|      null|          São Paulo|         null|parse-cloud|        São Paulo|           São Paulo|                    null|    Ignorado|Síndrome Gripal N...|                 null|                         null|                        null|                            null|                           null|                         null|                        null|               null|                         null|                        null|            null|           null|                             null|vNLZnTPebO|   false|   false|             null|                 null|                    1|     2020-05-16|        2020-05-11|      2022-05-10|            None|           None|              null|            null|                  null|                 null|              null|            null|                  null|                 null|              null|            null|                  null|                 null|              null|            null|                  null|                 null|               null|            None|            None|            None|   41|\n",
      "|              Outros|              Sim| Branca|             ANOSMIA|           null|                  Não|352210 - Agente d...|Gestante de alto ...|Feminino|São Paulo|      null|        São Vicente|         null|parse-cloud|        São Paulo|              Santos|                    null|        Cura|Confirmado Clínic...|                 null|                         null|                        null|                            null|                           null|                         null|                        null|               null|                         null|                        null|            null|           null|                             null|eGJVRwIxYG|   false|   false|             null|                 null|                    1|     2020-05-26|        2020-05-12|      2022-08-09|            None|           None|                 3|               1|                  null|                    1|              null|            null|                  null|                 null|              null|            null|                  null|                 null|              null|            null|                  null|                 null|2020-05-27 00:00:00|            None|            None|            None|   33|\n",
      "|              Outros|              Não|   null|       ASSINTOMATICO|           null|                  Não|                null|Gestante de alto ...|Feminino|São Paulo|      null|      Caraguatatuba|         null|parse-cloud|        São Paulo|       Caraguatatuba|                    null|    Ignorado|Síndrome Gripal N...|                 null|                         null|                        null|                            null|                           null|                         null|                        null|               null|                         null|                        null|            null|           null|                             null|NwJAudqIDG|   false|   false|             null|                 null|                    1|     2020-06-08|        2020-06-05|      2022-08-11|            None|           None|                 3|               5|                  null|                    2|              null|            null|                  null|                 null|              null|            null|                  null|                 null|              null|            null|                  null|                 null|2020-06-05 00:00:00|            None|            None|            None| null|\n",
      "+--------------------+-----------------+-------+--------------------+---------------+---------------------+--------------------+--------------------+--------+---------+----------+-------------------+-------------+-----------+-----------------+--------------------+------------------------+------------+--------------------+---------------------+-----------------------------+----------------------------+--------------------------------+-------------------------------+-----------------------------+----------------------------+-------------------+-----------------------------+----------------------------+----------------+---------------+---------------------------------+----------+--------+--------+-----------------+---------------------+---------------------+---------------+------------------+----------------+----------------+---------------+------------------+----------------+----------------------+---------------------+------------------+----------------+----------------------+---------------------+------------------+----------------+----------------------+---------------------+------------------+----------------+----------------------+---------------------+-------------------+----------------+----------------+----------------+-----+\n",
      "only showing top 20 rows\n",
      "\n"
     ]
    },
    {
     "name": "stderr",
     "output_type": "stream",
     "text": [
      "\r",
      "                                                                                \r"
     ]
    }
   ],
   "source": [
    "gestante_altorisco = df.filter(sql_fun.lower(df.condicoes).contains(\"gestante de alto risco\"))\n",
    "gestante_altorisco.show()"
   ]
  },
  {
   "cell_type": "code",
   "execution_count": 12,
   "metadata": {},
   "outputs": [
    {
     "name": "stderr",
     "output_type": "stream",
     "text": [
      "                                                                                \r"
     ]
    },
    {
     "name": "stdout",
     "output_type": "stream",
     "text": [
      "Foram encontradas  45 ocorrências de Gestante de Alto Risco no atributo condicoes\n"
     ]
    },
    {
     "name": "stderr",
     "output_type": "stream",
     "text": [
      "[Stage 22:=======================================================>(56 + 1) / 57]\r"
     ]
    },
    {
     "name": "stdout",
     "output_type": "stream",
     "text": [
      "Representatividade:  0.002846748159577315 %\n"
     ]
    },
    {
     "name": "stderr",
     "output_type": "stream",
     "text": [
      "\r",
      "                                                                                \r"
     ]
    }
   ],
   "source": [
    "print(\"Foram encontradas \", gestante_altorisco.count(), \"ocorrências de Gestante de Alto Risco no atributo condicoes\")\n",
    "print(\"Representatividade: \", (gestante_altorisco.count()/df.filter(\"condicoes is not null\").count())*100, \"%\")"
   ]
  },
  {
   "cell_type": "markdown",
   "metadata": {},
   "source": [
    "# Outras Validações"
   ]
  },
  {
   "cell_type": "markdown",
   "metadata": {},
   "source": [
    "## Busca de Inconsistências na comparação entre atributos"
   ]
  },
  {
   "cell_type": "markdown",
   "metadata": {},
   "source": [
    "### Existem grávidas no puerpério?"
   ]
  },
  {
   "cell_type": "code",
   "execution_count": 3,
   "metadata": {},
   "outputs": [
    {
     "name": "stderr",
     "output_type": "stream",
     "text": [
      "                                                                                \r"
     ]
    }
   ],
   "source": [
    "gestantes = df.filter(sql_fun.lower(df.condicoes).contains(\"gestante\"))\n",
    "total_gestantes = gestantes.count()"
   ]
  },
  {
   "cell_type": "code",
   "execution_count": 26,
   "metadata": {},
   "outputs": [
    {
     "name": "stderr",
     "output_type": "stream",
     "text": [
      "                                                                                \r"
     ]
    },
    {
     "name": "stdout",
     "output_type": "stream",
     "text": [
      "0\n"
     ]
    },
    {
     "name": "stderr",
     "output_type": "stream",
     "text": [
      "                                                                                \r"
     ]
    },
    {
     "name": "stdout",
     "output_type": "stream",
     "text": [
      "0\n"
     ]
    },
    {
     "name": "stderr",
     "output_type": "stream",
     "text": [
      "[Stage 29:=======================================================>(56 + 1) / 57]\r"
     ]
    },
    {
     "name": "stdout",
     "output_type": "stream",
     "text": [
      "0\n"
     ]
    },
    {
     "name": "stderr",
     "output_type": "stream",
     "text": [
      "\r",
      "                                                                                \r"
     ]
    }
   ],
   "source": [
    "# Não foram encontrados registros considerando a variação de grafia: puerpera, puerpéria, puerpério\n",
    "print(gestantes.filter(sql_fun.lower(df.condicoes).contains(\"puerpera\")).count())\n",
    "print(gestantes.filter(sql_fun.lower(df.condicoes).contains(\"puerpéria\")).count())\n",
    "print(gestantes.filter(sql_fun.lower(df.condicoes).contains(\"puerpério\")).count())"
   ]
  },
  {
   "cell_type": "code",
   "execution_count": 28,
   "metadata": {},
   "outputs": [
    {
     "name": "stderr",
     "output_type": "stream",
     "text": [
      "                                                                                \r"
     ]
    }
   ],
   "source": [
    "gestantes_puerperas = gestantes.filter(sql_fun.lower(df.condicoes).contains(\"puérpera\"))\n",
    "total_gestantes_puerperas = gestantes_puerperas.count()"
   ]
  },
  {
   "cell_type": "code",
   "execution_count": 31,
   "metadata": {},
   "outputs": [
    {
     "name": "stdout",
     "output_type": "stream",
     "text": [
      "Total de Gestantes:  81106\n",
      "Total de Gestantes Puérperas:  140\n",
      "Percentual de Gestantes Puérperas:  0.17261361674845263 %\n"
     ]
    }
   ],
   "source": [
    "print(\"Total de Gestantes: \", total_gestantes)\n",
    "print(\"Total de Gestantes Puérperas: \", total_gestantes_puerperas)\n",
    "print(\"Percentual de Gestantes Puérperas: \", (total_gestantes_puerperas/total_gestantes)*100, \"%\")"
   ]
  },
  {
   "cell_type": "markdown",
   "metadata": {},
   "source": [
    "### Existem grávidas com sexo masculino?"
   ]
  },
  {
   "cell_type": "code",
   "execution_count": 32,
   "metadata": {},
   "outputs": [
    {
     "name": "stderr",
     "output_type": "stream",
     "text": [
      "                                                                                \r"
     ]
    }
   ],
   "source": [
    "total_gestantes_masculino = gestantes.filter(df.sexo == 'Masculino').count()"
   ]
  },
  {
   "cell_type": "code",
   "execution_count": 33,
   "metadata": {},
   "outputs": [
    {
     "name": "stdout",
     "output_type": "stream",
     "text": [
      "Total de Gestantes do Sexo Masculino:  796\n",
      "Percentual de Gestantes do Sexo Masculino:  0.981431706655488 %\n"
     ]
    }
   ],
   "source": [
    "print(\"Total de Gestantes do Sexo Masculino: \", total_gestantes_masculino)\n",
    "print(\"Percentual de Gestantes do Sexo Masculino: \", (total_gestantes_masculino/total_gestantes)*100, \"%\")"
   ]
  },
  {
   "cell_type": "markdown",
   "metadata": {},
   "source": [
    "### Existem registros de puerpério para sexo masculino?"
   ]
  },
  {
   "cell_type": "code",
   "execution_count": 34,
   "metadata": {},
   "outputs": [],
   "source": [
    "puerperio = df.filter(sql_fun.lower(df.condicoes).contains(\"puérpera\"))"
   ]
  },
  {
   "cell_type": "code",
   "execution_count": 35,
   "metadata": {},
   "outputs": [
    {
     "name": "stderr",
     "output_type": "stream",
     "text": [
      "                                                                                \r"
     ]
    }
   ],
   "source": [
    "total_puerperas = puerperio.count()"
   ]
  },
  {
   "cell_type": "code",
   "execution_count": 36,
   "metadata": {},
   "outputs": [
    {
     "name": "stderr",
     "output_type": "stream",
     "text": [
      "[Stage 41:=======================================================>(56 + 1) / 57]\r"
     ]
    },
    {
     "name": "stdout",
     "output_type": "stream",
     "text": [
      "+---------+-----+\n",
      "|     sexo|count|\n",
      "+---------+-----+\n",
      "| Feminino| 2394|\n",
      "|Masculino|  195|\n",
      "+---------+-----+\n",
      "\n"
     ]
    },
    {
     "name": "stderr",
     "output_type": "stream",
     "text": [
      "\r",
      "                                                                                \r"
     ]
    }
   ],
   "source": [
    "puerperio.groupBy('sexo').count().show()"
   ]
  },
  {
   "cell_type": "code",
   "execution_count": 37,
   "metadata": {},
   "outputs": [
    {
     "name": "stderr",
     "output_type": "stream",
     "text": [
      "                                                                                \r"
     ]
    }
   ],
   "source": [
    "total_puerpera_masculino = puerperio.filter(df.sexo == 'Masculino').count()"
   ]
  },
  {
   "cell_type": "code",
   "execution_count": 39,
   "metadata": {},
   "outputs": [
    {
     "name": "stdout",
     "output_type": "stream",
     "text": [
      "Total de Puérperas:  2589\n",
      "Total de Puérperas do Sexo Masculino:  195\n",
      "Percentual de Puérperas do Sexo Masculino:  7.531865585168019 %\n"
     ]
    }
   ],
   "source": [
    "print(\"Total de Puérperas: \", total_puerperas)\n",
    "print(\"Total de Puérperas do Sexo Masculino: \", total_puerpera_masculino)\n",
    "print(\"Percentual de Puérperas do Sexo Masculino: \", (total_puerpera_masculino/total_puerperas)*100, \"%\")"
   ]
  },
  {
   "cell_type": "markdown",
   "metadata": {},
   "source": [
    "### Existem grávidas com sexo indefinido ou outro?"
   ]
  },
  {
   "cell_type": "code",
   "execution_count": 4,
   "metadata": {},
   "outputs": [
    {
     "name": "stderr",
     "output_type": "stream",
     "text": [
      "                                                                                \r"
     ]
    },
    {
     "name": "stdout",
     "output_type": "stream",
     "text": [
      "Gestantes com sexo 'indefinido':  19\n"
     ]
    },
    {
     "name": "stderr",
     "output_type": "stream",
     "text": [
      "[Stage 10:=======================================================>(56 + 1) / 57]\r"
     ]
    },
    {
     "name": "stdout",
     "output_type": "stream",
     "text": [
      "Gestantes com sexo 'outro':  0\n"
     ]
    },
    {
     "name": "stderr",
     "output_type": "stream",
     "text": [
      "\r",
      "                                                                                \r"
     ]
    }
   ],
   "source": [
    "print(\"Gestantes com sexo 'indefinido': \", gestantes.filter(df.sexo == 'Indefinido').count())\n",
    "print(\"Gestantes com sexo 'outro': \", gestantes.filter(df.sexo == 'Outro').count())"
   ]
  },
  {
   "cell_type": "markdown",
   "metadata": {},
   "source": [
    "### Análise da Faixa de idade das grávidas"
   ]
  },
  {
   "cell_type": "code",
   "execution_count": 47,
   "metadata": {},
   "outputs": [
    {
     "name": "stderr",
     "output_type": "stream",
     "text": [
      "[Stage 110:======================================================>(56 + 1) / 57]\r"
     ]
    },
    {
     "name": "stdout",
     "output_type": "stream",
     "text": [
      "+-----+-----+\n",
      "|idade|count|\n",
      "+-----+-----+\n",
      "|   58|    1|\n",
      "|   56|    1|\n",
      "|   54|    1|\n",
      "|   53|    1|\n",
      "|   52|   29|\n",
      "|   51|   19|\n",
      "|   50|   41|\n",
      "|   49|   39|\n",
      "|   48|   47|\n",
      "|   47|   68|\n",
      "|   46|  108|\n",
      "|   45|  215|\n",
      "|   44|  334|\n",
      "|   43|  468|\n",
      "|   42|  721|\n",
      "|   41| 1090|\n",
      "|   40| 1538|\n",
      "|   39| 1729|\n",
      "|   38| 2003|\n",
      "|   37| 2430|\n",
      "+-----+-----+\n",
      "only showing top 20 rows\n",
      "\n"
     ]
    },
    {
     "name": "stderr",
     "output_type": "stream",
     "text": [
      "\r",
      "                                                                                \r"
     ]
    }
   ],
   "source": [
    "gestantes.groupBy('idade').count().sort(col(\"idade\").desc()).show()"
   ]
  },
  {
   "cell_type": "code",
   "execution_count": 46,
   "metadata": {},
   "outputs": [
    {
     "name": "stderr",
     "output_type": "stream",
     "text": [
      "[Stage 107:======================================================>(56 + 1) / 57]\r"
     ]
    },
    {
     "name": "stdout",
     "output_type": "stream",
     "text": [
      "+-----+-----+\n",
      "|idade|count|\n",
      "+-----+-----+\n",
      "| null| 2001|\n",
      "|    0|  246|\n",
      "|    1|   61|\n",
      "|    2|   22|\n",
      "|    3|   11|\n",
      "|    4|    7|\n",
      "|    5|    9|\n",
      "|    6|    3|\n",
      "|    7|    5|\n",
      "|    8|    9|\n",
      "|    9|    9|\n",
      "|   10|   11|\n",
      "|   11|    8|\n",
      "|   12|    9|\n",
      "|   13|   33|\n",
      "|   14|   85|\n",
      "|   15|  254|\n",
      "|   16|  540|\n",
      "|   17|  879|\n",
      "|   18| 1380|\n",
      "+-----+-----+\n",
      "only showing top 20 rows\n",
      "\n"
     ]
    },
    {
     "name": "stderr",
     "output_type": "stream",
     "text": [
      "\r",
      "                                                                                \r"
     ]
    }
   ],
   "source": [
    "gestantes.groupBy('idade').count().sort(col(\"idade\").asc()).show()"
   ]
  },
  {
   "cell_type": "code",
   "execution_count": null,
   "metadata": {},
   "outputs": [],
   "source": [
    "Grávidas com idade entre 3 e 8 anos"
   ]
  },
  {
   "cell_type": "code",
   "execution_count": 41,
   "metadata": {},
   "outputs": [
    {
     "name": "stderr",
     "output_type": "stream",
     "text": [
      "                                                                                \r"
     ]
    },
    {
     "data": {
      "text/plain": [
       "33"
      ]
     },
     "execution_count": 41,
     "metadata": {},
     "output_type": "execute_result"
    }
   ],
   "source": [
    "gestantes.filter(df.idade < 9).filter(df.idade > 3).count()"
   ]
  },
  {
   "cell_type": "code",
   "execution_count": 40,
   "metadata": {},
   "outputs": [
    {
     "name": "stderr",
     "output_type": "stream",
     "text": [
      "                                                                                \r"
     ]
    },
    {
     "data": {
      "text/plain": [
       "340"
      ]
     },
     "execution_count": 40,
     "metadata": {},
     "output_type": "execute_result"
    }
   ],
   "source": [
    "gestantes.filter(df.idade <= 3).count()"
   ]
  },
  {
   "cell_type": "code",
   "execution_count": 43,
   "metadata": {},
   "outputs": [
    {
     "name": "stderr",
     "output_type": "stream",
     "text": [
      "                                                                                \r"
     ]
    }
   ],
   "source": [
    "gestantes_menor9 = gestantes.filter(df.idade < 9).count()"
   ]
  },
  {
   "cell_type": "code",
   "execution_count": 45,
   "metadata": {},
   "outputs": [
    {
     "name": "stdout",
     "output_type": "stream",
     "text": [
      "Total de Gestantes com idade menor que 9 anos:  373\n",
      "Percentual de Gestantes com idade menor que 9 anos:  0.4598919931940917 %\n"
     ]
    }
   ],
   "source": [
    "print(\"Total de Gestantes com idade menor que 9 anos: \", gestantes_menor9)\n",
    "print(\"Percentual de Gestantes com idade menor que 9 anos: \", (gestantes_menor9 /total_gestantes)*100, \"%\")"
   ]
  },
  {
   "cell_type": "markdown",
   "metadata": {},
   "source": [
    "### Existe registro de puerpério para idades incompatíveis?"
   ]
  },
  {
   "cell_type": "code",
   "execution_count": 13,
   "metadata": {},
   "outputs": [
    {
     "name": "stderr",
     "output_type": "stream",
     "text": [
      "[Stage 18:=======================================================>(56 + 1) / 57]\r"
     ]
    },
    {
     "name": "stdout",
     "output_type": "stream",
     "text": [
      "+-----+-----+\n",
      "|idade|count|\n",
      "+-----+-----+\n",
      "| null|  194|\n",
      "|    0|   22|\n",
      "|    1|    9|\n",
      "|    2|    1|\n",
      "|    3|    4|\n",
      "|    4|    3|\n",
      "|    5|    5|\n",
      "|    6|    3|\n",
      "|    7|    4|\n",
      "|    8|    1|\n",
      "|    9|    2|\n",
      "|   10|    1|\n",
      "|   11|    5|\n",
      "|   12|    5|\n",
      "|   13|    4|\n",
      "|   14|    4|\n",
      "|   15|   19|\n",
      "|   16|   21|\n",
      "|   17|   33|\n",
      "|   18|   39|\n",
      "+-----+-----+\n",
      "only showing top 20 rows\n",
      "\n"
     ]
    },
    {
     "name": "stderr",
     "output_type": "stream",
     "text": [
      "\r",
      "                                                                                \r"
     ]
    }
   ],
   "source": [
    "puerperio.groupBy('idade').count().sort(col(\"idade\").asc()).show()"
   ]
  },
  {
   "cell_type": "code",
   "execution_count": 14,
   "metadata": {},
   "outputs": [
    {
     "name": "stderr",
     "output_type": "stream",
     "text": [
      "[Stage 21:=======================================================>(56 + 1) / 57]\r"
     ]
    },
    {
     "name": "stdout",
     "output_type": "stream",
     "text": [
      "+-----+-----+\n",
      "|idade|count|\n",
      "+-----+-----+\n",
      "|   59|    1|\n",
      "|   52|    5|\n",
      "|   51|    6|\n",
      "|   50|    4|\n",
      "|   49|    8|\n",
      "|   48|    6|\n",
      "|   47|    9|\n",
      "|   46|    6|\n",
      "|   45|   10|\n",
      "|   44|   16|\n",
      "|   43|   21|\n",
      "|   42|   31|\n",
      "|   41|   54|\n",
      "|   40|   59|\n",
      "|   39|   57|\n",
      "|   38|   69|\n",
      "|   37|   79|\n",
      "|   36|   84|\n",
      "|   35|  118|\n",
      "|   34|   87|\n",
      "+-----+-----+\n",
      "only showing top 20 rows\n",
      "\n"
     ]
    },
    {
     "name": "stderr",
     "output_type": "stream",
     "text": [
      "\r",
      "                                                                                \r"
     ]
    }
   ],
   "source": [
    "puerperio.groupBy('idade').count().sort(col(\"idade\").desc()).show()"
   ]
  },
  {
   "cell_type": "code",
   "execution_count": 46,
   "metadata": {},
   "outputs": [
    {
     "name": "stderr",
     "output_type": "stream",
     "text": [
      "                                                                                \r"
     ]
    }
   ],
   "source": [
    "puerperio_menor9 = puerperio.filter(df.idade < 9).count()"
   ]
  },
  {
   "cell_type": "code",
   "execution_count": 47,
   "metadata": {},
   "outputs": [
    {
     "name": "stdout",
     "output_type": "stream",
     "text": [
      "Total de Puérperas com idade menor que 9 anos:  52\n",
      "Percentual de Gestantes com idade menor que 9 anos:  2.008497489378138 %\n"
     ]
    }
   ],
   "source": [
    "print(\"Total de Puérperas com idade menor que 9 anos: \", puerperio_menor9)\n",
    "print(\"Percentual de Gestantes com idade menor que 9 anos: \", (puerperio_menor9 /total_puerperas)*100, \"%\")"
   ]
  },
  {
   "cell_type": "markdown",
   "metadata": {},
   "source": [
    "### Validação de datas"
   ]
  },
  {
   "cell_type": "code",
   "execution_count": 19,
   "metadata": {},
   "outputs": [
    {
     "name": "stderr",
     "output_type": "stream",
     "text": [
      "[Stage 18:=======================================================>(56 + 1) / 57]\r"
     ]
    },
    {
     "name": "stdout",
     "output_type": "stream",
     "text": [
      "+------------------------------------+-----+\n",
      "|to_date(dataNotificacao, yyyy-MM-dd)|count|\n",
      "+------------------------------------+-----+\n",
      "|                          2023-02-06|    8|\n",
      "|                          2023-02-05|    1|\n",
      "|                          2023-02-04|    4|\n",
      "|                          2023-02-03|    5|\n",
      "|                          2023-02-02|    5|\n",
      "|                          2023-02-01|   12|\n",
      "|                          2023-01-31|   19|\n",
      "|                          2023-01-30|   20|\n",
      "|                          2023-01-29|    3|\n",
      "|                          2023-01-28|   10|\n",
      "|                          2023-01-27|   18|\n",
      "|                          2023-01-26|   19|\n",
      "|                          2023-01-25|   19|\n",
      "|                          2023-01-24|   24|\n",
      "|                          2023-01-23|   20|\n",
      "|                          2023-01-22|    4|\n",
      "|                          2023-01-21|    1|\n",
      "|                          2023-01-20|   13|\n",
      "|                          2023-01-19|   25|\n",
      "|                          2023-01-18|   42|\n",
      "+------------------------------------+-----+\n",
      "only showing top 20 rows\n",
      "\n"
     ]
    },
    {
     "name": "stderr",
     "output_type": "stream",
     "text": [
      "\r",
      "                                                                                \r"
     ]
    }
   ],
   "source": [
    "df.groupBy(to_date(col(\"dataNotificacao\"),\"yyyy-MM-dd\")).count().sort(to_date(col(\"dataNotificacao\"),\"yyyy-MM-dd\").desc()).show()"
   ]
  },
  {
   "cell_type": "markdown",
   "metadata": {},
   "source": [
    "### A data de início dos sintomas é posterior à data de notificação?"
   ]
  },
  {
   "cell_type": "code",
   "execution_count": 40,
   "metadata": {},
   "outputs": [
    {
     "name": "stdout",
     "output_type": "stream",
     "text": [
      "Percentual inconsistente:  0.011860827731655548 %\n"
     ]
    }
   ],
   "source": [
    "print(\"Percentual inconsistente: \", (df.filter(to_date(col(\"dataNotificacao\"),\"yyyy-MM-dd\") < to_date(col(\"dataInicioSintomas\"),\"yyyy-MM-dd\")).count()/\n",
    "                                     df.filter(\"dataNotificacao is not null\").filter(\"dataInicioSintomas is not null\").count())*100 ,\"%\")\n"
   ]
  },
  {
   "cell_type": "markdown",
   "metadata": {},
   "source": [
    "### A data de encerramento é anterior à data de notificação?"
   ]
  },
  {
   "cell_type": "code",
   "execution_count": 26,
   "metadata": {},
   "outputs": [
    {
     "name": "stderr",
     "output_type": "stream",
     "text": [
      "                                                                                \r"
     ]
    },
    {
     "data": {
      "text/plain": [
       "129737"
      ]
     },
     "execution_count": 26,
     "metadata": {},
     "output_type": "execute_result"
    }
   ],
   "source": [
    "df.filter(to_date(col(\"dataEncerramento\"),\"yyyy-MM-dd\") < to_date(col(\"dataNotificacao\"),\"yyyy-MM-dd\")).count()"
   ]
  },
  {
   "cell_type": "code",
   "execution_count": 27,
   "metadata": {
    "scrolled": true
   },
   "outputs": [
    {
     "name": "stdout",
     "output_type": "stream",
     "text": [
      "+--------------------+-----------------+--------+--------------------+----------------+---------------------+----+--------------------+---------+------------+----------+--------------------+-------------+-----------+-----------------+--------------------+------------------------+--------------------+--------------------+---------------------+-----------------------------+----------------------------+--------------------------------+-------------------------------+-----------------------------+----------------------------+-------------------+-----------------------------+----------------------------+----------------+---------------+---------------------------------+----------+--------+--------+-----------------+---------------------+---------------------+---------------+------------------+----------------+----------------+---------------+------------------+----------------+----------------------+---------------------+------------------+----------------+----------------------+---------------------+------------------+----------------+----------------------+---------------------+------------------+----------------+----------------------+---------------------+-------------------+----------------+----------------+----------------+-----+\n",
      "|            sintomas|profissionalSaude| racaCor|      outrosSintomas| outrasCondicoes|profissionalSeguranca| cbo|           condicoes|     sexo|      estado|estadoIBGE|           municipio|municipioIBGE|     origem|estadoNotificacao|municipioNotificacao|municipioNotificacaoIBGE|        evolucaoCaso|  classificacaoFinal|codigoEstrategiaCovid|codigoBuscaAtivaAssintomatico|outroBuscaAtivaAssintomatico|codigoTriagemPopulacaoEspecifica|outroTriagemPopulacaoEspecifica|codigoLocalRealizacaoTestagem|outroLocalRealizacaoTestagem|codigoRecebeuVacina|codigoLaboratorioPrimeiraDose|codigoLaboratorioSegundaDose|lotePrimeiraDose|loteSegundaDose|codigoContemComunidadeTradicional| source_id|excluido|validado|codigoDosesVacina|estadoNotificacaoIBGE|totalTestesRealizados|dataNotificacao|dataInicioSintomas|dataEncerramento|dataPrimeiraDose|dataSegundaDose|codigoEstadoTeste1|codigoTipoTeste1|codigoFabricanteTeste1|codigoResultadoTeste1|codigoEstadoTeste2|codigoTipoTeste2|codigoFabricanteTeste2|codigoResultadoTeste2|codigoEstadoTeste3|codigoTipoTeste3|codigoFabricanteTeste3|codigoResultadoTeste3|codigoEstadoTeste4|codigoTipoTeste4|codigoFabricanteTeste4|codigoResultadoTeste4|   dataColetaTeste1|dataColetaTeste2|dataColetaTeste3|dataColetaTeste4|idade|\n",
      "+--------------------+-----------------+--------+--------------------+----------------+---------------------+----+--------------------+---------+------------+----------+--------------------+-------------+-----------+-----------------+--------------------+------------------------+--------------------+--------------------+---------------------+-----------------------------+----------------------------+--------------------------------+-------------------------------+-----------------------------+----------------------------+-------------------+-----------------------------+----------------------------+----------------+---------------+---------------------------------+----------+--------+--------+-----------------+---------------------+---------------------+---------------+------------------+----------------+----------------+---------------+------------------+----------------+----------------------+---------------------+------------------+----------------+----------------------+---------------------+------------------+----------------+----------------------+---------------------+------------------+----------------+----------------------+---------------------+-------------------+----------------+----------------+----------------+-----+\n",
      "|Coriza, Dor de Ca...|              Não|  Branca|        DOR NO CORPO|            null|                  Não|null|                null| Feminino|   São Paulo|        SP|       Regente Feijó|      3542404|parse-cloud|        São Paulo|       Regente Feijó|                    null|           Cancelado|Confirmado Labora...|                    1|                         null|                        null|                            null|                           null|                            1|                        null|                  3|                         null|                        null|            null|           null|                                2|fRp1VsrmLv|   false|   false|             null|                 null|                    2|     2022-01-06|        2022-01-05|      2021-03-23|            None|           None|                 2|               1|                  null|                 null|                 2|               1|                  null|                 null|              null|            null|                  null|                 null|              null|            null|                  null|                 null|2022-01-07 00:00:00|      2021-03-17|            None|            None|   28|\n",
      "|       Assintomático|              Não|Ignorado|                null|            null|                  Não|null|                null|Masculino|   São Paulo|        SP|      Porto Ferreira|      3540705|parse-cloud|        São Paulo|        Pirassununga|                 3539301|                Cura|Confirmado Labora...|                    1|                         null|                        null|                            null|                           null|                            1|                        null|                  1|                         null|                      PFIZER|            null|         FG3533|                                2|5rMSLAFT1Y|   false|   false|                2|                   SP|                    1|     2022-12-12|              None|      2022-12-06|            None|     2021-10-26|                 3|               1|                  null|                    1|              null|            null|                  null|                 null|              null|            null|                  null|                 null|              null|            null|                  null|                 null|2022-12-06 00:00:00|            None|            None|            None|   17|\n",
      "|Coriza, Dor de Ca...|              Não|   Parda|                null|            null|                  Não|null|                null|Masculino|   São Paulo|        SP|           São Paulo|      3550308|parse-cloud|        São Paulo|           São Paulo|                    null|            Ignorado|          Descartado|                    1|                         null|                        null|                            null|                           null|                            1|                        null|                  3|                         null|                        null|            null|           null|                                2|bUN2vhFPqA|   false|   false|             null|                 null|                    2|     2022-01-21|        2022-01-16|      2021-04-07|            None|           None|                 2|               1|                  null|                 null|                 3|               1|                  null|                    2|              null|            null|                  null|                 null|              null|            null|                  null|                 null|2022-01-21 00:00:00|      2021-04-05|            None|            None|   44|\n",
      "|              Outros|              Não|  Branca|MIALGIA, DOR LOMB...|            null|                  Não|null|                null| Feminino|   São Paulo|        SP|         Porto Feliz|      3540606|parse-cloud|        São Paulo|         Porto Feliz|                    null|           Cancelado|Confirmado Labora...|                 null|                         null|                        null|                            null|                           null|                         null|                        null|                  3|                         null|                        null|            null|           null|                             null|dQQtQDa1jI|   false|   false|             null|                 null|                    1|     2022-02-07|        2022-02-05|      2021-02-22|            None|           None|                 3|               1|                  null|                    1|              null|            null|                  null|                 null|              null|            null|                  null|                 null|              null|            null|                  null|                 null|2022-02-07 00:00:00|            None|            None|            None| null|\n",
      "|Dor de Garganta, ...|              Não|  Branca|            DIARREIA|            null|                  Não|null|Doenças respirató...| Feminino|   São Paulo|      null|     Guarani d'Oeste|         null|parse-cloud|        São Paulo|     Guarani d'Oeste|                    null|                Cura|          Descartado|                 null|                         null|                        null|                            null|                           null|                         null|                        null|               null|                         null|                        null|            null|           null|                             null|ezQ5LPVtsa|   false|   false|             null|                 null|                    1|     2021-01-14|        2021-01-11|      2020-01-19|            None|           None|                 3|               1|                  null|                    2|              null|            null|                  null|                 null|              null|            null|                  null|                 null|              null|            null|                  null|                 null|2021-01-14 00:00:00|            None|            None|            None|   20|\n",
      "|Dor de Cabeça, Tosse|              Não|   Preta|                null|            null|                  Não|null|                null|Masculino|   São Paulo|        SP|           São Paulo|      3550308|parse-cloud|        São Paulo|           São Paulo|                    null|                Cura|          Descartado|                    1|                         null|                        null|                            null|                           null|                            1|                        null|                  3|                         null|                        null|            null|           null|                                2|fuVxiLFUY5|   false|   false|             null|                 null|                    1|     2022-06-24|        2022-06-18|      2021-05-27|            None|           None|                 3|               1|                  null|                    2|              null|            null|                  null|                 null|              null|            null|                  null|                 null|              null|            null|                  null|                 null|2021-05-24 00:00:00|            None|            None|            None|   25|\n",
      "|Coriza, Tosse, Fe...|              Não|   Parda|        DOR NO CORPO|            null|                  Não|null|                null| Feminino|   São Paulo|        SP|           São Paulo|      3550308|parse-cloud|        São Paulo|           São Paulo|                 3550308|                Cura|          Descartado|                    1|                         null|                        null|                            null|                           null|                            1|                        null|               null|                         null|                        null|            null|           null|                                2|hKTQTDgwaN|   false|   false|             null|                   SP|                    1|     2021-12-24|        2021-12-08|      2021-12-18|            None|           None|                 2|               1|                  null|                 null|              null|            null|                  null|                 null|              null|            null|                  null|                 null|              null|            null|                  null|                 null|2021-12-09 00:00:00|            None|            None|            None|   14|\n",
      "|Coriza, Dor de Ca...|              Não|   Parda|                null|            null|                  Não|null|                null| Feminino|   São Paulo|        SP|           São Paulo|      3550308|parse-cloud|        São Paulo|           São Paulo|                    null|            Ignorado|          Descartado|                    1|                         null|                        null|                            null|                           null|                            1|                        null|                  3|                         null|                        null|            null|           null|                                2|iHtRRqUDjp|   false|   false|             null|                 null|                    1|     2022-01-21|        2022-01-19|      2021-08-05|            None|           None|              null|            null|                  null|                 null|              null|            null|                  null|                 null|              null|            null|                  null|                 null|              null|            null|                  null|                 null|               null|            None|            None|            None|   39|\n",
      "|       Assintomático|              Não|Ignorado|                null|NÃO ESPECIFICADO|                  Não|null|              Outros| Feminino|   São Paulo|        SP|           Andradina|      3502101|parse-cloud|        São Paulo|           Andradina|                 3502101|                Cura|Confirmado Labora...|                    1|                         null|                        null|                            null|                           null|                            4|                        null|                  1|          ASTRAZENECA/FIOCRUZ|         ASTRAZENECA/FIOCRUZ|         ABX0529|     217VCD222Z|                                2|kN36WDRAIi|   false|   false|              1,2|                   SP|                    1|     2021-12-29|              None|      2021-01-03|      2021-06-07|     2021-08-23|                 3|               3|                   915|                    1|              null|            null|                  null|                 null|              null|            null|                  null|                 null|              null|            null|                  null|                 null|2021-12-29 00:00:00|            None|            None|            None|   22|\n",
      "|              Coriza|              Não| Amarela|                null|            null|                  Não|null|                null|Masculino|Minas Gerais|        MG|       Monte Formoso|      3143153|parse-cloud|        São Paulo| São José dos Campos|                 3549904|                Cura|          Descartado|                    1|                         null|                        null|                            null|                           null|                            1|                        null|                  1|             SINOVAC/BUTANTAN|            SINOVAC/BUTANTAN|      J202106031|         210380|                                2|UzNn9JfgxQ|   false|   false|            1,2,3|                   SP|                    1|     2022-12-17|        2022-12-04|      2022-12-05|      2021-07-19|     2021-08-18|                 3|               3|                   715|                    2|              null|            null|                  null|                 null|              null|            null|                  null|                 null|              null|            null|                  null|                 null|2022-12-05 00:00:00|            None|            None|            None|   33|\n",
      "|       Assintomático|              Não|  Branca|                null|            null|                  Não|null|                null|Masculino|   São Paulo|        SP|         Pinhalzinho|      3538204|parse-cloud|        São Paulo|         São Vicente|                 2413003|                Cura|          Descartado|                    1|                         null|                        null|                            null|                           null|                            4|                        null|               null|                         null|                        null|            null|           null|                                2|k4SEpmT3gI|   false|   false|             null|                   SP|                    1|     2022-11-24|              None|      2022-11-23|            None|           None|                 3|               3|                   915|                    2|              null|            null|                  null|                 null|              null|            null|                  null|                 null|              null|            null|                  null|                 null|2022-11-23 00:00:00|            None|            None|            None|   48|\n",
      "|Coriza, Dor de Ca...|              Não|   Parda|                null|            null|                  Não|null|                null| Feminino|   São Paulo|        SP|           São Paulo|      3550308|parse-cloud|        São Paulo|           São Paulo|                 3550308|                Cura|Síndrome Gripal N...|                    1|                         null|                        null|                            null|                           null|                            1|                        null|                  2|                         null|                        null|            null|           null|                                2|aD0HCcsYB7|   false|   false|             null|                   SP|                    1|     2022-11-30|        2022-11-29|      2022-11-29|            None|           None|                 3|               3|                   792|                    2|              null|            null|                  null|                 null|              null|            null|                  null|                 null|              null|            null|                  null|                 null|2022-11-29 00:00:00|            None|            None|            None|    1|\n",
      "|Distúrbios Olfati...|              Não|  Branca|                null|            null|                  Não|null|                null|Masculino|   São Paulo|        SP|          Indaiatuba|      3520509|parse-cloud|        São Paulo|          Indaiatuba|                    null|                Cura|Confirmado Labora...|                 null|                         null|                        null|                            null|                           null|                         null|                        null|               null|                         null|                        null|            null|           null|                                2|pKg9jgKToT|   false|   false|             null|                 null|                    1|     2021-03-25|        2021-03-22|      2021-03-08|            None|           None|                 3|               3|                  null|                    1|              null|            null|                  null|                 null|              null|            null|                  null|                 null|              null|            null|                  null|                 null|2021-03-25 00:00:00|            None|            None|            None|   27|\n",
      "|Coriza, Dor de Ca...|              Não|Ignorado|                null|            null|                  Não|null|                null| Feminino|   São Paulo|        SP|           São Paulo|      3550308|parse-cloud|        São Paulo|           São Paulo|                    null|            Ignorado|          Descartado|                    1|                         null|                        null|                            null|                           null|                            1|                        null|                  3|                         null|                        null|            null|           null|                                2|vxMczhMzBh|   false|   false|             null|                 null|                    3|     2022-01-11|        2022-01-04|      2021-05-11|            None|           None|                 3|               3|                   846|                    1|                 2|               1|                  null|                 null|                 2|               1|                  null|                 null|              null|            null|                  null|                 null|2022-01-11 00:00:00|      2022-01-11|      2021-04-03|            None|   38|\n",
      "|       Febre, Outros|              Não|Ignorado|             MIALGIA|            null|                  Não|null|                null| Feminino|   São Paulo|        SP|               Ibaté|      3519303|parse-cloud|        São Paulo|               Ibaté|                    null|                Cura|          Descartado|                    1|                         null|                        null|                            null|                           null|                            1|                        null|                  3|                         null|                        null|            null|           null|                                2|zhe5DqT1uz|   false|   false|             null|                 null|                    1|     2022-01-26|        2022-01-23|      2021-06-28|            None|           None|                 2|               1|                  null|                 null|              null|            null|                  null|                 null|              null|            null|                  null|                 null|              null|            null|                  null|                 null|2022-01-26 00:00:00|            None|            None|            None|   43|\n",
      "|Dor de Cabeça, To...|              Não|   Parda|                null|            null|                  Não|null|                null| Feminino|   São Paulo|        SP|           Monte Mor|      3531803|parse-cloud|        São Paulo|           Monte Mor|                 3531803|Em tratamento dom...|Confirmado Labora...|                    1|                         null|                        null|                            null|                           null|                            1|                        null|               null|                         null|                        null|            null|           null|                                2|u88wyQ48pW|   false|   false|             null|                   SP|                    1|     2022-12-27|        2022-12-21|      2022-12-26|            None|           None|                 3|               3|                   792|                    1|              null|            null|                  null|                 null|              null|            null|                  null|                 null|              null|            null|                  null|                 null|2022-12-26 00:00:00|            None|            None|            None| null|\n",
      "|Coriza, Dor de Ca...|              Não|   Parda|                null|            null|                  Não|null|                null| Feminino|   São Paulo|        SP|           São Paulo|      3550308|parse-cloud|        São Paulo|           São Paulo|                 3550308|                Cura|          Descartado|                    1|                         null|                        null|                            null|                           null|                            1|                        null|                  2|                         null|                        null|            null|           null|                                2|8TltpnwlyX|   false|   false|             null|                   SP|                    2|     2022-12-07|        2022-12-05|      2021-12-08|            None|           None|                 3|               3|                   792|                    2|                 2|               1|                  null|                 null|              null|            null|                  null|                 null|              null|            null|                  null|                 null|2022-12-07 00:00:00|      2021-12-03|            None|            None|   28|\n",
      "|Tosse, Febre, Dor...|              Não|   Preta|                null|            null|                  Não|null|Doenças respirató...|Masculino|   São Paulo|        SP|São José do Rio P...|      3549805|parse-cloud|        São Paulo|São José do Rio P...|                 3549805|                Cura|          Descartado|                    1|                         null|                        null|                            null|                           null|                            1|                        null|                  2|                         null|                        null|            null|           null|                                2|DutAjooDZ1|   false|   false|             null|                   SP|                    1|     2021-12-06|        2021-12-03|      2021-01-03|            None|           None|                 3|               1|                  null|                    2|              null|            null|                  null|                 null|              null|            null|                  null|                 null|              null|            null|                  null|                 null|2021-12-21 00:00:00|            None|            None|            None|    4|\n",
      "|Febre,Tosse,Dor d...|              Não|  Branca|                null|            null|                  Não|null|Doenças respirató...| Feminino|   São Paulo|      null|             Serrana|         null|parse-cloud|        São Paulo|           São Paulo|                    null|                Cura|          Descartado|                    1|                         null|                        null|                            null|                           null|                            1|                        null|               null|                         null|                        null|            null|           null|                                2|pUV6KtdnPs|   false|   false|             null|                 null|                    1|     2021-11-06|        2021-10-31|      2021-11-05|            None|           None|                 3|               1|                  null|                    2|              null|            null|                  null|                 null|              null|            null|                  null|                 null|              null|            null|                  null|                 null|2021-11-04 00:00:00|            None|            None|            None|    9|\n",
      "|Coriza, Tosse, Do...|              Não|  Branca|                null|            null|                  Não|null|                null| Feminino|   São Paulo|        SP|        Martinópolis|      3529203|parse-cloud|        São Paulo|        Martinópolis|                 3529203|Em tratamento dom...|Confirmado Labora...|                    1|                         null|                        null|                            null|                           null|                            1|                        null|                  1|                       PFIZER|                      PFIZER|          FD7219|         FG3529|                                2|Gk6N3qN3I6|   false|   false|              2,1|                   SP|                    1|     2021-12-29|        2021-12-23|      2021-01-03|      2021-08-06|     2021-10-06|                 2|               1|                  null|                 null|              null|            null|                  null|                 null|              null|            null|                  null|                 null|              null|            null|                  null|                 null|2021-12-29 00:00:00|            None|            None|            None|   27|\n",
      "+--------------------+-----------------+--------+--------------------+----------------+---------------------+----+--------------------+---------+------------+----------+--------------------+-------------+-----------+-----------------+--------------------+------------------------+--------------------+--------------------+---------------------+-----------------------------+----------------------------+--------------------------------+-------------------------------+-----------------------------+----------------------------+-------------------+-----------------------------+----------------------------+----------------+---------------+---------------------------------+----------+--------+--------+-----------------+---------------------+---------------------+---------------+------------------+----------------+----------------+---------------+------------------+----------------+----------------------+---------------------+------------------+----------------+----------------------+---------------------+------------------+----------------+----------------------+---------------------+------------------+----------------+----------------------+---------------------+-------------------+----------------+----------------+----------------+-----+\n",
      "only showing top 20 rows\n",
      "\n"
     ]
    }
   ],
   "source": [
    "encerramento_incorreto = df.filter(to_date(col(\"dataEncerramento\"),\"yyyy-MM-dd\") < to_date(col(\"dataNotificacao\"),\"yyyy-MM-dd\")).show()"
   ]
  },
  {
   "cell_type": "code",
   "execution_count": 43,
   "metadata": {},
   "outputs": [
    {
     "name": "stdout",
     "output_type": "stream",
     "text": [
      "Percentual inconsistente:  0.8331284284904147 %\n"
     ]
    }
   ],
   "source": [
    "print(\"Percentual inconsistente: \", (df.filter(to_date(col(\"dataEncerramento\"),\"yyyy-MM-dd\") < to_date(col(\"dataNotificacao\"),\"yyyy-MM-dd\")).count()/\n",
    "                                    df.filter(\"dataEncerramento is not null\").filter(\"dataNotificacao is not null\").count())*100 ,\"%\")"
   ]
  },
  {
   "cell_type": "markdown",
   "metadata": {},
   "source": [
    "### Data da segunda dose é anterior à data da primeira dose?"
   ]
  },
  {
   "cell_type": "code",
   "execution_count": 44,
   "metadata": {},
   "outputs": [
    {
     "name": "stdout",
     "output_type": "stream",
     "text": [
      "Percentual inconsistente:  0.016169769479322506 %\n"
     ]
    }
   ],
   "source": [
    "print(\"Percentual inconsistente: \",\n",
    "      (df.filter(to_date(col(\"dataSegundaDose\"),\"yyyy-MM-dd\") < to_date(col(\"dataPrimeiraDose\"),\"yyyy-MM-dd\")).count()/\n",
    "       df.filter(\"dataSegundaDose is not null\").filter(\"dataPrimeiraDose is not null\").count())*100 ,\"%\")"
   ]
  },
  {
   "cell_type": "markdown",
   "metadata": {},
   "source": [
    "## Completude"
   ]
  },
  {
   "cell_type": "code",
   "execution_count": 5,
   "metadata": {
    "scrolled": false
   },
   "outputs": [
    {
     "name": "stdout",
     "output_type": "stream",
     "text": [
      "root\n",
      " |-- sintomas: string (nullable = true)\n",
      " |-- profissionalSaude: string (nullable = true)\n",
      " |-- racaCor: string (nullable = true)\n",
      " |-- outrosSintomas: string (nullable = true)\n",
      " |-- outrasCondicoes: string (nullable = true)\n",
      " |-- profissionalSeguranca: string (nullable = true)\n",
      " |-- cbo: string (nullable = true)\n",
      " |-- condicoes: string (nullable = true)\n",
      " |-- sexo: string (nullable = true)\n",
      " |-- estado: string (nullable = true)\n",
      " |-- estadoIBGE: string (nullable = true)\n",
      " |-- municipio: string (nullable = true)\n",
      " |-- municipioIBGE: string (nullable = true)\n",
      " |-- origem: string (nullable = true)\n",
      " |-- estadoNotificacao: string (nullable = true)\n",
      " |-- municipioNotificacao: string (nullable = true)\n",
      " |-- municipioNotificacaoIBGE: integer (nullable = true)\n",
      " |-- evolucaoCaso: string (nullable = true)\n",
      " |-- classificacaoFinal: string (nullable = true)\n",
      " |-- codigoEstrategiaCovid: integer (nullable = true)\n",
      " |-- codigoBuscaAtivaAssintomatico: integer (nullable = true)\n",
      " |-- outroBuscaAtivaAssintomatico: string (nullable = true)\n",
      " |-- codigoTriagemPopulacaoEspecifica: integer (nullable = true)\n",
      " |-- outroTriagemPopulacaoEspecifica: string (nullable = true)\n",
      " |-- codigoLocalRealizacaoTestagem: integer (nullable = true)\n",
      " |-- outroLocalRealizacaoTestagem: string (nullable = true)\n",
      " |-- codigoRecebeuVacina: integer (nullable = true)\n",
      " |-- codigoLaboratorioPrimeiraDose: string (nullable = true)\n",
      " |-- codigoLaboratorioSegundaDose: string (nullable = true)\n",
      " |-- lotePrimeiraDose: string (nullable = true)\n",
      " |-- loteSegundaDose: string (nullable = true)\n",
      " |-- codigoContemComunidadeTradicional: integer (nullable = true)\n",
      " |-- source_id: string (nullable = true)\n",
      " |-- excluido: string (nullable = true)\n",
      " |-- validado: string (nullable = true)\n",
      " |-- codigoDosesVacina: string (nullable = true)\n",
      " |-- estadoNotificacaoIBGE: string (nullable = true)\n",
      " |-- totalTestesRealizados: integer (nullable = true)\n",
      " |-- dataNotificacao: string (nullable = true)\n",
      " |-- dataInicioSintomas: string (nullable = true)\n",
      " |-- dataEncerramento: string (nullable = true)\n",
      " |-- dataPrimeiraDose: string (nullable = true)\n",
      " |-- dataSegundaDose: string (nullable = true)\n",
      " |-- codigoEstadoTeste1: integer (nullable = true)\n",
      " |-- codigoTipoTeste1: integer (nullable = true)\n",
      " |-- codigoFabricanteTeste1: integer (nullable = true)\n",
      " |-- codigoResultadoTeste1: integer (nullable = true)\n",
      " |-- codigoEstadoTeste2: integer (nullable = true)\n",
      " |-- codigoTipoTeste2: integer (nullable = true)\n",
      " |-- codigoFabricanteTeste2: integer (nullable = true)\n",
      " |-- codigoResultadoTeste2: integer (nullable = true)\n",
      " |-- codigoEstadoTeste3: integer (nullable = true)\n",
      " |-- codigoTipoTeste3: integer (nullable = true)\n",
      " |-- codigoFabricanteTeste3: integer (nullable = true)\n",
      " |-- codigoResultadoTeste3: integer (nullable = true)\n",
      " |-- codigoEstadoTeste4: integer (nullable = true)\n",
      " |-- codigoTipoTeste4: integer (nullable = true)\n",
      " |-- codigoFabricanteTeste4: integer (nullable = true)\n",
      " |-- codigoResultadoTeste4: integer (nullable = true)\n",
      " |-- dataColetaTeste1: timestamp (nullable = true)\n",
      " |-- dataColetaTeste2: string (nullable = true)\n",
      " |-- dataColetaTeste3: string (nullable = true)\n",
      " |-- dataColetaTeste4: string (nullable = true)\n",
      " |-- idade: integer (nullable = true)\n",
      "\n"
     ]
    }
   ],
   "source": [
    "#Vizualizando colunas do dataset\n",
    "\n",
    "df.printSchema()"
   ]
  },
  {
   "cell_type": "markdown",
   "metadata": {},
   "source": [
    "## Colunas de preenchimento obrigatório"
   ]
  },
  {
   "cell_type": "code",
   "execution_count": 30,
   "metadata": {},
   "outputs": [],
   "source": [
    "#Filtrando colunas obrigatórias\n",
    "\n",
    "df_obr = df.select('estadoNotificacao', \\\n",
    "                   'municipioNotificacao', \\\n",
    "                   'profissionalSaude', \\\n",
    "                   'sexo', \\\n",
    "                   'racaCor', \\\n",
    "                   'codigoContemComunidadeTradicional', \\\n",
    "                   'estado', \\\n",
    "                   'municipio', \n",
    "                   'codigoLocalRealizacaoTestagem', \n",
    "                   'dataNotificacao', \n",
    "                   'sintomas', \n",
    "                   'dataInicioSintomas')"
   ]
  },
  {
   "cell_type": "code",
   "execution_count": 31,
   "metadata": {
    "scrolled": true
   },
   "outputs": [
    {
     "name": "stdout",
     "output_type": "stream",
     "text": [
      "root\n",
      " |-- estadoNotificacao: string (nullable = true)\n",
      " |-- municipioNotificacao: string (nullable = true)\n",
      " |-- profissionalSaude: string (nullable = true)\n",
      " |-- sexo: string (nullable = true)\n",
      " |-- racaCor: string (nullable = true)\n",
      " |-- codigoContemComunidadeTradicional: integer (nullable = true)\n",
      " |-- estado: string (nullable = true)\n",
      " |-- municipio: string (nullable = true)\n",
      " |-- codigoLocalRealizacaoTestagem: integer (nullable = true)\n",
      " |-- dataNotificacao: string (nullable = true)\n",
      " |-- sintomas: string (nullable = true)\n",
      " |-- dataInicioSintomas: string (nullable = true)\n",
      "\n"
     ]
    }
   ],
   "source": [
    "#Verificando colunas filtradas\n",
    "\n",
    "df_obr.printSchema()"
   ]
  },
  {
   "cell_type": "markdown",
   "metadata": {},
   "source": [
    "### Funções para contar valores"
   ]
  },
  {
   "cell_type": "code",
   "execution_count": 133,
   "metadata": {},
   "outputs": [],
   "source": [
    "#Função para contar únicos\n",
    "\n",
    "def Unicos (coluna):\n",
    "    df.groupby(coluna).count().orderBy(col('count').desc()).show()\n",
    "    \n",
    "    \n",
    "    \n",
    "#Função para encontrar preenchimentos que indiquem dados faltantes\n",
    "\n",
    "def Faltantes (coluna):\n",
    "    df.groupBy(coluna).agg(count(coluna).alias(\"QuantidadeOcorrencia\")).\\\n",
    "    filter((col(coluna)=='Ignorado')\\\n",
    "           |(col(coluna)=='Ignorados')\\\n",
    "           |(col(coluna)=='Indefinido')\\\n",
    "           |(col(coluna)=='Indefinidos')\\\n",
    "           |(col(coluna)=='Não informados')\\\n",
    "           |(col(coluna)=='Não informado')\\\n",
    "           |(col(coluna)=='Pedente identificação')\\\n",
    "           |(col(coluna)=='Pendente Identifica??o')).show()"
   ]
  },
  {
   "cell_type": "markdown",
   "metadata": {},
   "source": [
    "### Analisando colunas obrigatórias"
   ]
  },
  {
   "cell_type": "markdown",
   "metadata": {},
   "source": [
    "### Sintomas"
   ]
  },
  {
   "cell_type": "code",
   "execution_count": 70,
   "metadata": {},
   "outputs": [
    {
     "name": "stdout",
     "output_type": "stream",
     "text": [
      "+--------------------+-------+\n",
      "|            Sintomas|  count|\n",
      "+--------------------+-------+\n",
      "|       Assintomático|2641168|\n",
      "|               Tosse| 487972|\n",
      "|       Coriza, Tosse| 460325|\n",
      "|              Outros| 422597|\n",
      "|Tosse, Dor de Gar...| 314147|\n",
      "|Coriza, Tosse, Do...| 308026|\n",
      "|     Dor de Garganta| 303960|\n",
      "|Coriza, Dor de Ca...| 260236|\n",
      "|       Tosse, Coriza| 230105|\n",
      "|              Coriza| 227217|\n",
      "|Coriza, Dor de Ca...| 221764|\n",
      "|Coriza, Tosse, Febre| 212324|\n",
      "|        Tosse, Febre| 209788|\n",
      "|       Dor de Cabeça| 203716|\n",
      "|       Tosse, Outros| 178585|\n",
      "|Dor de Garganta, ...| 164249|\n",
      "|Coriza, Dor de Ca...| 156462|\n",
      "|Dor de Cabeça, Do...| 156190|\n",
      "|Dor de Cabeça, Tosse| 155446|\n",
      "|Coriza, Tosse, Do...| 148767|\n",
      "+--------------------+-------+\n",
      "only showing top 20 rows\n",
      "\n"
     ]
    }
   ],
   "source": [
    "Unicos('Sintomas')"
   ]
  },
  {
   "cell_type": "code",
   "execution_count": 134,
   "metadata": {},
   "outputs": [
    {
     "name": "stdout",
     "output_type": "stream",
     "text": [
      "+--------+--------------------+\n",
      "|Sintomas|QuantidadeOcorrencia|\n",
      "+--------+--------------------+\n",
      "+--------+--------------------+\n",
      "\n"
     ]
    }
   ],
   "source": [
    "Faltantes('Sintomas')"
   ]
  },
  {
   "cell_type": "markdown",
   "metadata": {},
   "source": [
    "### profissionalSaude"
   ]
  },
  {
   "cell_type": "code",
   "execution_count": 27,
   "metadata": {},
   "outputs": [
    {
     "name": "stdout",
     "output_type": "stream",
     "text": [
      "+-----------------+--------+\n",
      "|profissionalSaude|   count|\n",
      "+-----------------+--------+\n",
      "|              Não|15326625|\n",
      "|              Sim|  246790|\n",
      "|             null|     477|\n",
      "+-----------------+--------+\n",
      "\n"
     ]
    }
   ],
   "source": [
    "Unicos('profissionalSaude')"
   ]
  },
  {
   "cell_type": "code",
   "execution_count": 135,
   "metadata": {},
   "outputs": [
    {
     "name": "stdout",
     "output_type": "stream",
     "text": [
      "+-----------------+--------------------+\n",
      "|profissionalSaude|QuantidadeOcorrencia|\n",
      "+-----------------+--------------------+\n",
      "+-----------------+--------------------+\n",
      "\n"
     ]
    }
   ],
   "source": [
    "Faltantes('profissionalSaude')"
   ]
  },
  {
   "cell_type": "markdown",
   "metadata": {},
   "source": [
    "### racaCor"
   ]
  },
  {
   "cell_type": "code",
   "execution_count": 73,
   "metadata": {},
   "outputs": [
    {
     "name": "stdout",
     "output_type": "stream",
     "text": [
      "+--------+-------+\n",
      "| racaCor|  count|\n",
      "+--------+-------+\n",
      "|  Branca|7237898|\n",
      "|Ignorado|4549312|\n",
      "|   Parda|3023935|\n",
      "|   Preta| 491797|\n",
      "| Amarela| 258597|\n",
      "|    null|   9424|\n",
      "|Indigena|   2564|\n",
      "|  Branco|    362|\n",
      "|  FD7219|      3|\n",
      "+--------+-------+\n",
      "\n"
     ]
    }
   ],
   "source": [
    "Unicos('racaCor')"
   ]
  },
  {
   "cell_type": "code",
   "execution_count": 136,
   "metadata": {},
   "outputs": [
    {
     "name": "stdout",
     "output_type": "stream",
     "text": [
      "+--------+--------------------+\n",
      "| racaCor|QuantidadeOcorrencia|\n",
      "+--------+--------------------+\n",
      "|Ignorado|             4549312|\n",
      "+--------+--------------------+\n",
      "\n"
     ]
    }
   ],
   "source": [
    "Faltantes('racaCor')"
   ]
  },
  {
   "cell_type": "markdown",
   "metadata": {},
   "source": [
    "### sexo"
   ]
  },
  {
   "cell_type": "code",
   "execution_count": 75,
   "metadata": {},
   "outputs": [
    {
     "name": "stdout",
     "output_type": "stream",
     "text": [
      "+----------+-------+\n",
      "|      Sexo|  count|\n",
      "+----------+-------+\n",
      "|  Feminino|9004852|\n",
      "| Masculino|6566818|\n",
      "|Indefinido|   2201|\n",
      "|     Outro|     12|\n",
      "|      null|      9|\n",
      "+----------+-------+\n",
      "\n"
     ]
    }
   ],
   "source": [
    "Unicos('Sexo')"
   ]
  },
  {
   "cell_type": "code",
   "execution_count": 137,
   "metadata": {},
   "outputs": [
    {
     "name": "stdout",
     "output_type": "stream",
     "text": [
      "+----------+--------------------+\n",
      "|      sexo|QuantidadeOcorrencia|\n",
      "+----------+--------------------+\n",
      "|Indefinido|                2201|\n",
      "+----------+--------------------+\n",
      "\n"
     ]
    }
   ],
   "source": [
    "Faltantes('sexo')"
   ]
  },
  {
   "cell_type": "markdown",
   "metadata": {},
   "source": [
    "### estado"
   ]
  },
  {
   "cell_type": "code",
   "execution_count": 77,
   "metadata": {
    "scrolled": true
   },
   "outputs": [
    {
     "name": "stdout",
     "output_type": "stream",
     "text": [
      "+-------------------+--------+\n",
      "|             estado|   count|\n",
      "+-------------------+--------+\n",
      "|          São Paulo|15372661|\n",
      "|       Minas Gerais|   39394|\n",
      "|     Rio de Janeiro|   25090|\n",
      "|              Bahia|   20402|\n",
      "|             Paraná|   17569|\n",
      "|     Santa Catarina|   10744|\n",
      "|         Pernambuco|   10459|\n",
      "|   Distrito Federal|    9027|\n",
      "|              Ceará|    8369|\n",
      "|  Rio Grande do Sul|    7799|\n",
      "|              Goiás|    6992|\n",
      "|            Paraíba|    5610|\n",
      "| Mato Grosso do Sul|    5478|\n",
      "|        Mato Grosso|    4101|\n",
      "|Rio Grande do Norte|    3880|\n",
      "|              Piauí|    3592|\n",
      "|     Espírito Santo|    3590|\n",
      "|               Pará|    3501|\n",
      "|           Maranhão|    3438|\n",
      "|            Alagoas|    3367|\n",
      "+-------------------+--------+\n",
      "only showing top 20 rows\n",
      "\n"
     ]
    }
   ],
   "source": [
    "Unicos('estado')"
   ]
  },
  {
   "cell_type": "code",
   "execution_count": 138,
   "metadata": {},
   "outputs": [
    {
     "name": "stdout",
     "output_type": "stream",
     "text": [
      "+------+--------------------+\n",
      "|estado|QuantidadeOcorrencia|\n",
      "+------+--------------------+\n",
      "+------+--------------------+\n",
      "\n"
     ]
    }
   ],
   "source": [
    "Faltantes('estado')"
   ]
  },
  {
   "cell_type": "markdown",
   "metadata": {},
   "source": [
    "### municipio"
   ]
  },
  {
   "cell_type": "code",
   "execution_count": 79,
   "metadata": {},
   "outputs": [
    {
     "name": "stdout",
     "output_type": "stream",
     "text": [
      "+--------------------+-------+\n",
      "|           municipio|  count|\n",
      "+--------------------+-------+\n",
      "|           São Paulo|3742578|\n",
      "|            Campinas| 582829|\n",
      "| São José dos Campos| 419220|\n",
      "|São Bernardo do C...| 326805|\n",
      "|São José do Rio P...| 268430|\n",
      "|          Araraquara| 251242|\n",
      "|           Guarulhos| 189955|\n",
      "|          Piracicaba| 182508|\n",
      "|         Santo André| 181531|\n",
      "|            Sorocaba| 179967|\n",
      "|            Botucatu| 179437|\n",
      "|      Ribeirão Preto| 176970|\n",
      "|              Franca| 167399|\n",
      "|               Bauru| 158040|\n",
      "|             Taubaté| 154746|\n",
      "|             Jundiaí| 148679|\n",
      "|              Santos| 131841|\n",
      "|           Araçatuba| 128741|\n",
      "|             Barueri| 127938|\n",
      "|             Marília| 119266|\n",
      "+--------------------+-------+\n",
      "only showing top 20 rows\n",
      "\n"
     ]
    }
   ],
   "source": [
    "Unicos('municipio')"
   ]
  },
  {
   "cell_type": "code",
   "execution_count": 139,
   "metadata": {},
   "outputs": [
    {
     "name": "stdout",
     "output_type": "stream",
     "text": [
      "+---------+--------------------+\n",
      "|municipio|QuantidadeOcorrencia|\n",
      "+---------+--------------------+\n",
      "+---------+--------------------+\n",
      "\n"
     ]
    }
   ],
   "source": [
    "Faltantes('municipio')"
   ]
  },
  {
   "cell_type": "markdown",
   "metadata": {},
   "source": [
    "### estadoNotificacao"
   ]
  },
  {
   "cell_type": "code",
   "execution_count": 81,
   "metadata": {},
   "outputs": [
    {
     "name": "stdout",
     "output_type": "stream",
     "text": [
      "+-----------------+--------+\n",
      "|estadoNotificacao|   count|\n",
      "+-----------------+--------+\n",
      "|        São Paulo|15573863|\n",
      "|            Bahia|      26|\n",
      "|             None|       3|\n",
      "+-----------------+--------+\n",
      "\n"
     ]
    }
   ],
   "source": [
    "Unicos('estadoNotificacao')"
   ]
  },
  {
   "cell_type": "code",
   "execution_count": 140,
   "metadata": {},
   "outputs": [
    {
     "name": "stdout",
     "output_type": "stream",
     "text": [
      "+-----------------+--------------------+\n",
      "|estadoNotificacao|QuantidadeOcorrencia|\n",
      "+-----------------+--------------------+\n",
      "+-----------------+--------------------+\n",
      "\n"
     ]
    }
   ],
   "source": [
    "Faltantes('estadoNotificacao')"
   ]
  },
  {
   "cell_type": "markdown",
   "metadata": {},
   "source": [
    "### municipioNotificacao"
   ]
  },
  {
   "cell_type": "code",
   "execution_count": 83,
   "metadata": {},
   "outputs": [
    {
     "name": "stdout",
     "output_type": "stream",
     "text": [
      "+--------------------+-------+\n",
      "|municipioNotificacao|  count|\n",
      "+--------------------+-------+\n",
      "|           São Paulo|3959414|\n",
      "|            Campinas| 628352|\n",
      "| São José dos Campos| 441346|\n",
      "|São José do Rio P...| 319137|\n",
      "|São Bernardo do C...| 302603|\n",
      "|          Araraquara| 259982|\n",
      "|          Piracicaba| 190611|\n",
      "|      Ribeirão Preto| 189816|\n",
      "|            Sorocaba| 186597|\n",
      "|            Botucatu| 183931|\n",
      "|              Santos| 179905|\n",
      "|             Jundiaí| 179581|\n",
      "|         Santo André| 178412|\n",
      "|              Franca| 170685|\n",
      "|               Bauru| 164543|\n",
      "|           Guarulhos| 164442|\n",
      "|             Taubaté| 153330|\n",
      "|             Barueri| 148707|\n",
      "|           Araçatuba| 138115|\n",
      "|           Americana| 128482|\n",
      "+--------------------+-------+\n",
      "only showing top 20 rows\n",
      "\n"
     ]
    }
   ],
   "source": [
    "Unicos('municipioNotificacao')"
   ]
  },
  {
   "cell_type": "code",
   "execution_count": 141,
   "metadata": {},
   "outputs": [
    {
     "name": "stdout",
     "output_type": "stream",
     "text": [
      "+--------------------+--------------------+\n",
      "|municipioNotificacao|QuantidadeOcorrencia|\n",
      "+--------------------+--------------------+\n",
      "+--------------------+--------------------+\n",
      "\n"
     ]
    }
   ],
   "source": [
    "Faltantes('municipioNotificacao')"
   ]
  },
  {
   "cell_type": "markdown",
   "metadata": {},
   "source": [
    "### codigoContemComunidadeTradicional"
   ]
  },
  {
   "cell_type": "code",
   "execution_count": 28,
   "metadata": {},
   "outputs": [
    {
     "name": "stdout",
     "output_type": "stream",
     "text": [
      "+---------------------------------+--------+\n",
      "|codigoContemComunidadeTradicional|   count|\n",
      "+---------------------------------+--------+\n",
      "|                                2|15247265|\n",
      "|                             null|  286460|\n",
      "|                                1|   40167|\n",
      "+---------------------------------+--------+\n",
      "\n"
     ]
    }
   ],
   "source": [
    "Unicos('codigoContemComunidadeTradicional')"
   ]
  },
  {
   "cell_type": "code",
   "execution_count": 142,
   "metadata": {},
   "outputs": [
    {
     "name": "stdout",
     "output_type": "stream",
     "text": [
      "+---------------------------------+--------------------+\n",
      "|codigoContemComunidadeTradicional|QuantidadeOcorrencia|\n",
      "+---------------------------------+--------------------+\n",
      "+---------------------------------+--------------------+\n",
      "\n"
     ]
    }
   ],
   "source": [
    "Faltantes('codigoContemComunidadeTradicional')"
   ]
  },
  {
   "cell_type": "markdown",
   "metadata": {},
   "source": [
    "### codigoLocalRealizacaoTestagem"
   ]
  },
  {
   "cell_type": "code",
   "execution_count": 90,
   "metadata": {},
   "outputs": [
    {
     "name": "stdout",
     "output_type": "stream",
     "text": [
      "+-----------------------------+--------+\n",
      "|codigoLocalRealizacaoTestagem|   count|\n",
      "+-----------------------------+--------+\n",
      "|                            1|12359605|\n",
      "|                            4| 1726514|\n",
      "|                         null|  745797|\n",
      "|                            7|  445254|\n",
      "|                            2|  131416|\n",
      "|                            3|  128241|\n",
      "|                            6|   26458|\n",
      "|                            5|   10607|\n",
      "+-----------------------------+--------+\n",
      "\n"
     ]
    }
   ],
   "source": [
    "Unicos('codigoLocalRealizacaoTestagem')"
   ]
  },
  {
   "cell_type": "code",
   "execution_count": 143,
   "metadata": {},
   "outputs": [
    {
     "name": "stdout",
     "output_type": "stream",
     "text": [
      "+-----------------------------+--------------------+\n",
      "|codigoLocalRealizacaoTestagem|QuantidadeOcorrencia|\n",
      "+-----------------------------+--------------------+\n",
      "+-----------------------------+--------------------+\n",
      "\n"
     ]
    }
   ],
   "source": [
    "Faltantes('codigoLocalRealizacaoTestagem')"
   ]
  },
  {
   "cell_type": "markdown",
   "metadata": {},
   "source": [
    "### dataNotificacao"
   ]
  },
  {
   "cell_type": "code",
   "execution_count": 86,
   "metadata": {},
   "outputs": [
    {
     "name": "stdout",
     "output_type": "stream",
     "text": [
      "+---------------+------+\n",
      "|dataNotificacao| count|\n",
      "+---------------+------+\n",
      "|           None|259712|\n",
      "|     2022-01-13|167889|\n",
      "|     2022-01-17|167044|\n",
      "|     2022-01-18|157531|\n",
      "|     2022-01-12|152407|\n",
      "|     2022-01-11|149793|\n",
      "|     2022-01-10|148696|\n",
      "|     2022-01-19|145709|\n",
      "|     2022-01-24|134834|\n",
      "|     2022-01-21|131786|\n",
      "|     2022-01-20|130269|\n",
      "|     2022-01-07|127014|\n",
      "|     2022-01-06|126773|\n",
      "|     2022-01-26|119040|\n",
      "|     2022-01-27|115765|\n",
      "|     2022-01-25|113763|\n",
      "|     2022-01-05|110555|\n",
      "|     2022-01-28|104856|\n",
      "|     2022-01-31|104113|\n",
      "|     2022-01-04| 98865|\n",
      "+---------------+------+\n",
      "only showing top 20 rows\n",
      "\n"
     ]
    }
   ],
   "source": [
    "Unicos('dataNotificacao')"
   ]
  },
  {
   "cell_type": "code",
   "execution_count": 144,
   "metadata": {},
   "outputs": [
    {
     "name": "stdout",
     "output_type": "stream",
     "text": [
      "+---------------+--------------------+\n",
      "|dataNotificacao|QuantidadeOcorrencia|\n",
      "+---------------+--------------------+\n",
      "+---------------+--------------------+\n",
      "\n"
     ]
    }
   ],
   "source": [
    "Faltantes('dataNotificacao')"
   ]
  },
  {
   "cell_type": "markdown",
   "metadata": {},
   "source": [
    "### dataInicioSintomas"
   ]
  },
  {
   "cell_type": "code",
   "execution_count": 88,
   "metadata": {},
   "outputs": [
    {
     "name": "stdout",
     "output_type": "stream",
     "text": [
      "+------------------+-------+\n",
      "|dataInicioSintomas|  count|\n",
      "+------------------+-------+\n",
      "|              None|2751789|\n",
      "|        2022-01-10| 170083|\n",
      "|        2022-01-09| 131214|\n",
      "|        2022-01-03| 130895|\n",
      "|        2022-01-17| 126412|\n",
      "|        2022-01-15| 122208|\n",
      "|        2022-01-11| 120785|\n",
      "|        2022-01-14| 119538|\n",
      "|        2022-01-08| 116834|\n",
      "|        2022-01-07| 116820|\n",
      "|        2022-01-16| 111339|\n",
      "|        2022-01-02| 111283|\n",
      "|        2022-01-12| 110501|\n",
      "|        2022-01-18| 106127|\n",
      "|        2022-01-04| 104852|\n",
      "|        2022-01-13| 104474|\n",
      "|        2022-01-05| 103195|\n",
      "|        2022-01-01| 102471|\n",
      "|        2022-01-06|  96779|\n",
      "|        2022-06-20|  92134|\n",
      "+------------------+-------+\n",
      "only showing top 20 rows\n",
      "\n"
     ]
    }
   ],
   "source": [
    "Unicos('dataInicioSintomas')"
   ]
  },
  {
   "cell_type": "code",
   "execution_count": 145,
   "metadata": {},
   "outputs": [
    {
     "name": "stdout",
     "output_type": "stream",
     "text": [
      "+------------------+--------------------+\n",
      "|dataInicioSintomas|QuantidadeOcorrencia|\n",
      "+------------------+--------------------+\n",
      "+------------------+--------------------+\n",
      "\n"
     ]
    }
   ],
   "source": [
    "Faltantes('dataInicioSintomas')"
   ]
  },
  {
   "cell_type": "markdown",
   "metadata": {},
   "source": [
    "## Quantidade de dados nulos por coluna obrigatória"
   ]
  },
  {
   "cell_type": "code",
   "execution_count": 33,
   "metadata": {
    "scrolled": false
   },
   "outputs": [
    {
     "name": "stdout",
     "output_type": "stream",
     "text": [
      "-RECORD 0-----------------------------------\n",
      " estadoNotificacao                 | 0      \n",
      " municipioNotificacao              | 3584   \n",
      " profissionalSaude                 | 477    \n",
      " sexo                              | 9      \n",
      " racaCor                           | 9424   \n",
      " codigoContemComunidadeTradicional | 286460 \n",
      " estado                            | 20     \n",
      " municipio                         | 24     \n",
      " codigoLocalRealizacaoTestagem     | 745797 \n",
      " dataNotificacao                   | 6      \n",
      " sintomas                          | 393    \n",
      " dataInicioSintomas                | 6      \n",
      "\n"
     ]
    }
   ],
   "source": [
    "nulos = df_obr.select([count(when(col(c).isNull(), c)).alias(c) for c in df_obr.columns]).show(vertical = True)"
   ]
  },
  {
   "cell_type": "markdown",
   "metadata": {},
   "source": [
    "## Percentual de nulos por coluna obrigatória"
   ]
  },
  {
   "cell_type": "code",
   "execution_count": 34,
   "metadata": {},
   "outputs": [
    {
     "name": "stdout",
     "output_type": "stream",
     "text": [
      "-RECORD 0-------------------------------------------------\n",
      " estadoNotificacao                 | 0.0                  \n",
      " municipioNotificacao              | 0.023012873082720747 \n",
      " profissionalSaude                 | 0.003062818208833091 \n",
      " sexo                              | 5.778902280817152E-5 \n",
      " racaCor                           | 0.060511527882689826 \n",
      " codigoContemComunidadeTradicional | 1.8393603859587573   \n",
      " estado                            | 1.284200506848256E-4 \n",
      " municipio                         | 1.541040608217907... \n",
      " codigoLocalRealizacaoTestagem     | 4.788764427029544    \n",
      " dataNotificacao                   | 3.852601520544768E-5 \n",
      " sintomas                          | 0.002523453995956... \n",
      " dataInicioSintomas                | 3.852601520544768E-5 \n",
      "\n"
     ]
    }
   ],
   "source": [
    "percentualNulos = df_obr.select([(count(when(col(c).isNull(), c))/count(lit(1)) * 100).alias(c) for c in df_obr.columns])\n",
    "percentualNulos.show(vertical = True, truncate = True)"
   ]
  },
  {
   "cell_type": "code",
   "execution_count": 35,
   "metadata": {},
   "outputs": [
    {
     "name": "stdout",
     "output_type": "stream",
     "text": [
      "-RECORD 0---------------------------------\n",
      " estadoNotificacao                 | 0.0  \n",
      " municipioNotificacao              | 0.02 \n",
      " profissionalSaude                 | 0.0  \n",
      " sexo                              | 0.0  \n",
      " racaCor                           | 0.06 \n",
      " codigoContemComunidadeTradicional | 1.84 \n",
      " estado                            | 0.0  \n",
      " municipio                         | 0.0  \n",
      " codigoLocalRealizacaoTestagem     | 4.79 \n",
      " dataNotificacao                   | 0.0  \n",
      " sintomas                          | 0.0  \n",
      " dataInicioSintomas                | 0.0  \n",
      "\n"
     ]
    }
   ],
   "source": [
    "#Arredondando casas decimeias\n",
    "\n",
    "percentualNulos.select([round(avg(c), 2).alias(c) for c in percentualNulos.columns]).show(vertical = True, truncate = True)"
   ]
  },
  {
   "cell_type": "markdown",
   "metadata": {},
   "source": [
    "### Criando função para gerar nova tabela com quantidade total e o percentual de nulos"
   ]
  },
  {
   "cell_type": "code",
   "execution_count": 298,
   "metadata": {},
   "outputs": [],
   "source": [
    "def Null(df_obr: DataFrame) -> DataFrame: \n",
    "  \n",
    "  # Colocando todas as colunas em uma lista\n",
    "  allColsList = df_obr.columns\n",
    "  \n",
    "  # criando uma lista vazia para armazenar temporariamente nomes de colunas e valores \n",
    "  listBuffer = []\n",
    "  \n",
    "  for field in allColsList:   \n",
    "    # countando nulos\n",
    "    nullCondition = F.isnull(F.col(field))\n",
    "    QuantidadeNulos = df_obr.select(F.col(field)).filter(nullCondition).count()  \n",
    "    \n",
    "    # percentual de nulos\n",
    "    PercentualNulos = df_obr.select(F.col(field)).filter(nullCondition).count() / df_obr.select(F.col(field)).count() * 100\n",
    "    \n",
    "    \n",
    "    # agrupando colunas e valores\n",
    "    listBuffer.append((field, QuantidadeNulos, PercentualNulos))\n",
    "\n",
    "  # convertendo os dados em um novo dataframe\n",
    "  resDf = spark.createDataFrame(listBuffer, [\"NomeColuna\", \"QuantidadeNulos\", \"PercentualNulos\"])\n",
    " \n",
    "  return resDf"
   ]
  },
  {
   "cell_type": "code",
   "execution_count": 299,
   "metadata": {},
   "outputs": [],
   "source": [
    "df_obr_null = df_obr.transform(Null)"
   ]
  },
  {
   "cell_type": "code",
   "execution_count": 38,
   "metadata": {
    "scrolled": true
   },
   "outputs": [
    {
     "name": "stdout",
     "output_type": "stream",
     "text": [
      "+--------------------+---------------+---------------+\n",
      "|          NomeColuna|QuantidadeNulos|PercentualNulos|\n",
      "+--------------------+---------------+---------------+\n",
      "|   estadoNotificacao|              0|            0.0|\n",
      "|municipioNotificacao|           3584|           0.02|\n",
      "|   profissionalSaude|            477|            0.0|\n",
      "|                sexo|              9|            0.0|\n",
      "|             racaCor|           9424|           0.06|\n",
      "|codigoContemComun...|         286460|           1.84|\n",
      "|              estado|             20|            0.0|\n",
      "|           municipio|             24|            0.0|\n",
      "|codigoLocalRealiz...|         745797|           4.79|\n",
      "|     dataNotificacao|              6|            0.0|\n",
      "|            sintomas|            393|            0.0|\n",
      "|  dataInicioSintomas|              6|            0.0|\n",
      "+--------------------+---------------+---------------+\n",
      "\n"
     ]
    }
   ],
   "source": [
    "#Arredondando percentual nulos\n",
    "\n",
    "df_obr_null.select('NomeColuna', 'QuantidadeNulos', round(\"PercentualNulos\",2).alias('PercentualNulos')).show()"
   ]
  },
  {
   "cell_type": "code",
   "execution_count": 271,
   "metadata": {},
   "outputs": [],
   "source": [
    "df_obrigatorio = df_obr_null.select('NomeColuna', 'QuantidadeNulos', round(\"PercentualNulos\",2).alias('PercentualNulos')).toPandas()"
   ]
  },
  {
   "cell_type": "code",
   "execution_count": 307,
   "metadata": {},
   "outputs": [
    {
     "data": {
      "text/html": [
       "<div>\n",
       "<style scoped>\n",
       "    .dataframe tbody tr th:only-of-type {\n",
       "        vertical-align: middle;\n",
       "    }\n",
       "\n",
       "    .dataframe tbody tr th {\n",
       "        vertical-align: top;\n",
       "    }\n",
       "\n",
       "    .dataframe thead th {\n",
       "        text-align: right;\n",
       "    }\n",
       "</style>\n",
       "<table border=\"1\" class=\"dataframe\">\n",
       "  <thead>\n",
       "    <tr style=\"text-align: right;\">\n",
       "      <th></th>\n",
       "      <th>Coluna</th>\n",
       "      <th>Quantidade de Nulos</th>\n",
       "      <th>% Valores Completos</th>\n",
       "    </tr>\n",
       "  </thead>\n",
       "  <tbody>\n",
       "    <tr>\n",
       "      <th>0</th>\n",
       "      <td>estadoNotificacao</td>\n",
       "      <td>0</td>\n",
       "      <td>100.00</td>\n",
       "    </tr>\n",
       "    <tr>\n",
       "      <th>1</th>\n",
       "      <td>municipioNotificacao</td>\n",
       "      <td>3584</td>\n",
       "      <td>99.98</td>\n",
       "    </tr>\n",
       "    <tr>\n",
       "      <th>2</th>\n",
       "      <td>profissionalSaude</td>\n",
       "      <td>477</td>\n",
       "      <td>100.00</td>\n",
       "    </tr>\n",
       "    <tr>\n",
       "      <th>3</th>\n",
       "      <td>sexo</td>\n",
       "      <td>9</td>\n",
       "      <td>100.00</td>\n",
       "    </tr>\n",
       "    <tr>\n",
       "      <th>4</th>\n",
       "      <td>racaCor</td>\n",
       "      <td>9424</td>\n",
       "      <td>99.94</td>\n",
       "    </tr>\n",
       "    <tr>\n",
       "      <th>5</th>\n",
       "      <td>codigoContemComunidadeTradicional</td>\n",
       "      <td>286460</td>\n",
       "      <td>98.16</td>\n",
       "    </tr>\n",
       "    <tr>\n",
       "      <th>6</th>\n",
       "      <td>estado</td>\n",
       "      <td>20</td>\n",
       "      <td>100.00</td>\n",
       "    </tr>\n",
       "    <tr>\n",
       "      <th>7</th>\n",
       "      <td>municipio</td>\n",
       "      <td>24</td>\n",
       "      <td>100.00</td>\n",
       "    </tr>\n",
       "    <tr>\n",
       "      <th>8</th>\n",
       "      <td>codigoLocalRealizacaoTestagem</td>\n",
       "      <td>745797</td>\n",
       "      <td>95.21</td>\n",
       "    </tr>\n",
       "    <tr>\n",
       "      <th>9</th>\n",
       "      <td>dataNotificacao</td>\n",
       "      <td>6</td>\n",
       "      <td>100.00</td>\n",
       "    </tr>\n",
       "    <tr>\n",
       "      <th>10</th>\n",
       "      <td>sintomas</td>\n",
       "      <td>393</td>\n",
       "      <td>100.00</td>\n",
       "    </tr>\n",
       "    <tr>\n",
       "      <th>11</th>\n",
       "      <td>dataInicioSintomas</td>\n",
       "      <td>6</td>\n",
       "      <td>100.00</td>\n",
       "    </tr>\n",
       "  </tbody>\n",
       "</table>\n",
       "</div>"
      ],
      "text/plain": [
       "                               Coluna  Quantidade de Nulos  \\\n",
       "0                   estadoNotificacao                    0   \n",
       "1                municipioNotificacao                 3584   \n",
       "2                   profissionalSaude                  477   \n",
       "3                                sexo                    9   \n",
       "4                             racaCor                 9424   \n",
       "5   codigoContemComunidadeTradicional               286460   \n",
       "6                              estado                   20   \n",
       "7                           municipio                   24   \n",
       "8       codigoLocalRealizacaoTestagem               745797   \n",
       "9                     dataNotificacao                    6   \n",
       "10                           sintomas                  393   \n",
       "11                 dataInicioSintomas                    6   \n",
       "\n",
       "    % Valores Completos  \n",
       "0                100.00  \n",
       "1                 99.98  \n",
       "2                100.00  \n",
       "3                100.00  \n",
       "4                 99.94  \n",
       "5                 98.16  \n",
       "6                100.00  \n",
       "7                100.00  \n",
       "8                 95.21  \n",
       "9                100.00  \n",
       "10               100.00  \n",
       "11               100.00  "
      ]
     },
     "execution_count": 307,
     "metadata": {},
     "output_type": "execute_result"
    }
   ],
   "source": [
    "#Calculando percentual de nulos\n",
    "\n",
    "df_obrigatorio['% Valores Completos'] = (100 - df_obrigatorio['PercentualNulos']).round(decimals = 2)\n",
    "\n",
    "df_obrigatorio.rename(columns = {'NomeColuna':'Coluna', 'QuantidadeNulos':'Quantidade de Nulos'}, inplace = True)\n",
    "\n",
    "df_obrigatorio.drop('PercentualNulos', axis=1)"
   ]
  },
  {
   "cell_type": "markdown",
   "metadata": {},
   "source": [
    "## Analisando dados nulos das colunas obrigatórias por data"
   ]
  },
  {
   "cell_type": "code",
   "execution_count": 39,
   "metadata": {
    "scrolled": false
   },
   "outputs": [],
   "source": [
    "# adicionando coluna com nome do mês e ano para agrupamento e coluna com número do ano e mês para ordenação\n",
    "\n",
    "date = df_obr.withColumn('mesAno', F.date_format('dataNotificacao', 'MMM/yyy'))\\\n",
    "    .withColumn('Ref', F.date_format('dataNotificacao', 'yyyMM'))"
   ]
  },
  {
   "cell_type": "code",
   "execution_count": 40,
   "metadata": {
    "scrolled": true
   },
   "outputs": [],
   "source": [
    "#Criando uma lista com o nome de cada mês\n",
    "lista = date.select('mesAno').distinct().rdd.flatMap(lambda x: x).collect()"
   ]
  },
  {
   "cell_type": "code",
   "execution_count": 41,
   "metadata": {},
   "outputs": [],
   "source": [
    "#Criando datasets vazios para armazenar a soma dos nulos\n",
    "columns1 = StructType([StructField('totalNulos',StringType(), True),StructField('mesAno',StringType(), True)])\n",
    "uniao1 = spark.createDataFrame(data = [],schema = columns1)\n",
    "columns2 = StructType([StructField('totalNaoNulos',StringType(), True),StructField('mesAno',StringType(), True)])\n",
    "uniao2 = spark.createDataFrame(data = [],schema = columns2)\n",
    "\n",
    "\n",
    "#Criando o loop for para fazer a contagem de nulos e não nulos para cada mês\n",
    "for mes in lista:\n",
    "    \n",
    "    #Contando valores nulos por coluna\n",
    "    nulosMes = date.filter(date.mesAno == mes )\\\n",
    "        .select([count(when(col(c).isNull(), c)).alias(c) for c in date.columns])\\\n",
    "        .drop('mesAno', 'Ref')\n",
    "\n",
    "    #Calculando a quantidade total de nulos\n",
    "    totalnulosMes = nulosMes.withColumn('totalNulos', sum(nulosMes[col] for col in nulosMes.columns))\\\n",
    "        .select('totalNulos')\\\n",
    "        .withColumn('mesAno', lit(mes))\n",
    "    \n",
    "    #Fazendo a união da quantidade de nulos por mês em um único dataset\n",
    "    uniao1 = uniao1.union(totalnulosMes)\n",
    "    \n",
    "    \n",
    "    #Contando valores não nulos por coluna\n",
    "    naonulosMes = date.filter(date.mesAno == mes )\\\n",
    "        .select([count(when(col(c).isNotNull(), c)).alias(c) for c in date.columns])\\\n",
    "        .drop('mesAno', 'Ref')\n",
    "    \n",
    "    #Calculando a quantidade total de nao nulos\n",
    "    totalnaonulosMes = naonulosMes\\\n",
    "        .withColumn('totalNaoNulos', sum(naonulosMes[col] for col in naonulosMes.columns))\\\n",
    "        .select(\"totalNaoNulos\")\\\n",
    "        .withColumn('mesAno', lit(mes))\n",
    "    \n",
    "    #Fazendo a união da quantidade de não nulos por mês em um único dataset\n",
    "    uniao2 = uniao2.union(totalnaonulosMes)"
   ]
  },
  {
   "cell_type": "code",
   "execution_count": 42,
   "metadata": {},
   "outputs": [],
   "source": [
    "# Criando dataset com a informação de referência para ordenar os dados por mes/ano\n",
    "\n",
    "uniao3 = date.groupby('mesAno', 'Ref').count()"
   ]
  },
  {
   "cell_type": "code",
   "execution_count": 43,
   "metadata": {},
   "outputs": [],
   "source": [
    "#Agrupando a quantidade de nulos, quantidade de não-nulos e referência do mês em um único dataset\n",
    "\n",
    "agrupar = uniao1.join(uniao2, ['mesAno']).join(uniao3, ['mesAno']).orderBy(col('Ref').asc()).drop('cont')"
   ]
  },
  {
   "cell_type": "code",
   "execution_count": 44,
   "metadata": {},
   "outputs": [],
   "source": [
    "#Criando nova coluna com o o total de dados e outra coluna com o cálculo do percentual de nulos\n",
    "\n",
    "agruparPercent = agrupar\\\n",
    "    .select('*',(agrupar[\"totalNulos\"] + agrupar[\"totalnaoNulos\"]).alias(\"totalDados\"))\\\n",
    "    .select('*',(agrupar[\"totalNulos\"] / (agrupar[\"totalNulos\"] + agrupar[\"totalnaoNulos\"]) * 100).alias(\"percentualNulos\"))"
   ]
  },
  {
   "cell_type": "markdown",
   "metadata": {},
   "source": [
    "## Plotando"
   ]
  },
  {
   "cell_type": "code",
   "execution_count": 45,
   "metadata": {},
   "outputs": [],
   "source": [
    "#Para facilitar a criação de graficos a tabela de informações do Pyspark foi transformada para a biblioteca pandas\n",
    "\n",
    "#Nesse mesmo momento foi utilizada a função round para transformar os dados das colunas em float e \n",
    "#arredondar as casas decimais\n",
    "\n",
    "plotar = agruparPercent.select(\\\n",
    "        'mesAno', round('totalDados',0).alias('totalDados'), \\\n",
    "        round('totalNulos',0).alias('totalNulos'), \\\n",
    "        round('totalnaoNulos',0).alias('totalnaoNulos'), \\\n",
    "        round(\"percentualNulos\",2).alias('percentualNulos'))\\\n",
    "        .toPandas()"
   ]
  },
  {
   "cell_type": "code",
   "execution_count": 47,
   "metadata": {
    "scrolled": true
   },
   "outputs": [
    {
     "data": {
      "text/plain": [
       "mesAno              object\n",
       "totalDados         float64\n",
       "totalNulos         float64\n",
       "totalnaoNulos      float64\n",
       "percentualNulos    float64\n",
       "dtype: object"
      ]
     },
     "execution_count": 47,
     "metadata": {},
     "output_type": "execute_result"
    }
   ],
   "source": [
    "plotar.dtypes"
   ]
  },
  {
   "cell_type": "code",
   "execution_count": 247,
   "metadata": {},
   "outputs": [
    {
     "data": {
      "text/html": [
       "<div>\n",
       "<style scoped>\n",
       "    .dataframe tbody tr th:only-of-type {\n",
       "        vertical-align: middle;\n",
       "    }\n",
       "\n",
       "    .dataframe tbody tr th {\n",
       "        vertical-align: top;\n",
       "    }\n",
       "\n",
       "    .dataframe thead th {\n",
       "        text-align: right;\n",
       "    }\n",
       "</style>\n",
       "<table border=\"1\" class=\"dataframe\">\n",
       "  <thead>\n",
       "    <tr style=\"text-align: right;\">\n",
       "      <th></th>\n",
       "      <th>mesAno</th>\n",
       "      <th>totalDados</th>\n",
       "      <th>totalNulos</th>\n",
       "      <th>totalnaoNulos</th>\n",
       "      <th>percentualNulos</th>\n",
       "    </tr>\n",
       "  </thead>\n",
       "  <tbody>\n",
       "    <tr>\n",
       "      <th>40</th>\n",
       "      <td>Jan/2020</td>\n",
       "      <td>33516.0</td>\n",
       "      <td>34.0</td>\n",
       "      <td>33482.0</td>\n",
       "      <td>0.10</td>\n",
       "    </tr>\n",
       "    <tr>\n",
       "      <th>41</th>\n",
       "      <td>Feb/2020</td>\n",
       "      <td>1380.0</td>\n",
       "      <td>32.0</td>\n",
       "      <td>1348.0</td>\n",
       "      <td>2.32</td>\n",
       "    </tr>\n",
       "    <tr>\n",
       "      <th>42</th>\n",
       "      <td>Mar/2020</td>\n",
       "      <td>6948.0</td>\n",
       "      <td>725.0</td>\n",
       "      <td>6223.0</td>\n",
       "      <td>10.43</td>\n",
       "    </tr>\n",
       "    <tr>\n",
       "      <th>43</th>\n",
       "      <td>Apr/2020</td>\n",
       "      <td>60912.0</td>\n",
       "      <td>8207.0</td>\n",
       "      <td>52705.0</td>\n",
       "      <td>13.47</td>\n",
       "    </tr>\n",
       "    <tr>\n",
       "      <th>44</th>\n",
       "      <td>May/2020</td>\n",
       "      <td>143580.0</td>\n",
       "      <td>23029.0</td>\n",
       "      <td>120551.0</td>\n",
       "      <td>16.04</td>\n",
       "    </tr>\n",
       "    <tr>\n",
       "      <th>45</th>\n",
       "      <td>Jun/2020</td>\n",
       "      <td>229872.0</td>\n",
       "      <td>36908.0</td>\n",
       "      <td>192964.0</td>\n",
       "      <td>16.06</td>\n",
       "    </tr>\n",
       "    <tr>\n",
       "      <th>46</th>\n",
       "      <td>Jul/2020</td>\n",
       "      <td>312516.0</td>\n",
       "      <td>42211.0</td>\n",
       "      <td>270305.0</td>\n",
       "      <td>13.51</td>\n",
       "    </tr>\n",
       "    <tr>\n",
       "      <th>47</th>\n",
       "      <td>Aug/2020</td>\n",
       "      <td>291432.0</td>\n",
       "      <td>41907.0</td>\n",
       "      <td>249525.0</td>\n",
       "      <td>14.38</td>\n",
       "    </tr>\n",
       "    <tr>\n",
       "      <th>48</th>\n",
       "      <td>Sep/2020</td>\n",
       "      <td>234936.0</td>\n",
       "      <td>33704.0</td>\n",
       "      <td>201232.0</td>\n",
       "      <td>14.35</td>\n",
       "    </tr>\n",
       "    <tr>\n",
       "      <th>49</th>\n",
       "      <td>Oct/2020</td>\n",
       "      <td>247092.0</td>\n",
       "      <td>36122.0</td>\n",
       "      <td>210970.0</td>\n",
       "      <td>14.62</td>\n",
       "    </tr>\n",
       "    <tr>\n",
       "      <th>50</th>\n",
       "      <td>Nov/2020</td>\n",
       "      <td>335148.0</td>\n",
       "      <td>49448.0</td>\n",
       "      <td>285700.0</td>\n",
       "      <td>14.75</td>\n",
       "    </tr>\n",
       "    <tr>\n",
       "      <th>51</th>\n",
       "      <td>Dec/2020</td>\n",
       "      <td>536460.0</td>\n",
       "      <td>69795.0</td>\n",
       "      <td>466665.0</td>\n",
       "      <td>13.01</td>\n",
       "    </tr>\n",
       "    <tr>\n",
       "      <th>52</th>\n",
       "      <td>Jan/2021</td>\n",
       "      <td>811020.0</td>\n",
       "      <td>110918.0</td>\n",
       "      <td>700102.0</td>\n",
       "      <td>13.68</td>\n",
       "    </tr>\n",
       "    <tr>\n",
       "      <th>53</th>\n",
       "      <td>Feb/2021</td>\n",
       "      <td>628356.0</td>\n",
       "      <td>87072.0</td>\n",
       "      <td>541284.0</td>\n",
       "      <td>13.86</td>\n",
       "    </tr>\n",
       "    <tr>\n",
       "      <th>54</th>\n",
       "      <td>Mar/2021</td>\n",
       "      <td>1165332.0</td>\n",
       "      <td>90323.0</td>\n",
       "      <td>1075009.0</td>\n",
       "      <td>7.75</td>\n",
       "    </tr>\n",
       "    <tr>\n",
       "      <th>55</th>\n",
       "      <td>Apr/2021</td>\n",
       "      <td>1020528.0</td>\n",
       "      <td>69425.0</td>\n",
       "      <td>951103.0</td>\n",
       "      <td>6.80</td>\n",
       "    </tr>\n",
       "    <tr>\n",
       "      <th>56</th>\n",
       "      <td>May/2021</td>\n",
       "      <td>1207860.0</td>\n",
       "      <td>75287.0</td>\n",
       "      <td>1132573.0</td>\n",
       "      <td>6.23</td>\n",
       "    </tr>\n",
       "    <tr>\n",
       "      <th>57</th>\n",
       "      <td>Jun/2021</td>\n",
       "      <td>1340184.0</td>\n",
       "      <td>85464.0</td>\n",
       "      <td>1254720.0</td>\n",
       "      <td>6.38</td>\n",
       "    </tr>\n",
       "    <tr>\n",
       "      <th>58</th>\n",
       "      <td>Jul/2021</td>\n",
       "      <td>1043088.0</td>\n",
       "      <td>62127.0</td>\n",
       "      <td>980961.0</td>\n",
       "      <td>5.96</td>\n",
       "    </tr>\n",
       "    <tr>\n",
       "      <th>59</th>\n",
       "      <td>Aug/2021</td>\n",
       "      <td>1348404.0</td>\n",
       "      <td>70382.0</td>\n",
       "      <td>1278022.0</td>\n",
       "      <td>5.22</td>\n",
       "    </tr>\n",
       "    <tr>\n",
       "      <th>60</th>\n",
       "      <td>Sep/2021</td>\n",
       "      <td>3110484.0</td>\n",
       "      <td>16376.0</td>\n",
       "      <td>3094108.0</td>\n",
       "      <td>0.53</td>\n",
       "    </tr>\n",
       "    <tr>\n",
       "      <th>61</th>\n",
       "      <td>Oct/2021</td>\n",
       "      <td>3562536.0</td>\n",
       "      <td>164.0</td>\n",
       "      <td>3562372.0</td>\n",
       "      <td>0.00</td>\n",
       "    </tr>\n",
       "    <tr>\n",
       "      <th>62</th>\n",
       "      <td>Nov/2021</td>\n",
       "      <td>3397356.0</td>\n",
       "      <td>834.0</td>\n",
       "      <td>3396522.0</td>\n",
       "      <td>0.02</td>\n",
       "    </tr>\n",
       "    <tr>\n",
       "      <th>63</th>\n",
       "      <td>Dec/2021</td>\n",
       "      <td>5628636.0</td>\n",
       "      <td>2688.0</td>\n",
       "      <td>5625948.0</td>\n",
       "      <td>0.05</td>\n",
       "    </tr>\n",
       "    <tr>\n",
       "      <th>64</th>\n",
       "      <td>Jan/2022</td>\n",
       "      <td>38213880.0</td>\n",
       "      <td>4617.0</td>\n",
       "      <td>38209263.0</td>\n",
       "      <td>0.01</td>\n",
       "    </tr>\n",
       "    <tr>\n",
       "      <th>65</th>\n",
       "      <td>Feb/2022</td>\n",
       "      <td>18798900.0</td>\n",
       "      <td>1329.0</td>\n",
       "      <td>18797571.0</td>\n",
       "      <td>0.01</td>\n",
       "    </tr>\n",
       "    <tr>\n",
       "      <th>66</th>\n",
       "      <td>Mar/2022</td>\n",
       "      <td>8980956.0</td>\n",
       "      <td>545.0</td>\n",
       "      <td>8980411.0</td>\n",
       "      <td>0.01</td>\n",
       "    </tr>\n",
       "    <tr>\n",
       "      <th>67</th>\n",
       "      <td>Apr/2022</td>\n",
       "      <td>6191532.0</td>\n",
       "      <td>453.0</td>\n",
       "      <td>6191079.0</td>\n",
       "      <td>0.01</td>\n",
       "    </tr>\n",
       "    <tr>\n",
       "      <th>68</th>\n",
       "      <td>May/2022</td>\n",
       "      <td>11631384.0</td>\n",
       "      <td>785.0</td>\n",
       "      <td>11630599.0</td>\n",
       "      <td>0.01</td>\n",
       "    </tr>\n",
       "    <tr>\n",
       "      <th>69</th>\n",
       "      <td>Jun/2022</td>\n",
       "      <td>23469168.0</td>\n",
       "      <td>1000.0</td>\n",
       "      <td>23468168.0</td>\n",
       "      <td>0.00</td>\n",
       "    </tr>\n",
       "    <tr>\n",
       "      <th>70</th>\n",
       "      <td>Jul/2022</td>\n",
       "      <td>14622996.0</td>\n",
       "      <td>678.0</td>\n",
       "      <td>14622318.0</td>\n",
       "      <td>0.00</td>\n",
       "    </tr>\n",
       "    <tr>\n",
       "      <th>71</th>\n",
       "      <td>Aug/2022</td>\n",
       "      <td>8086452.0</td>\n",
       "      <td>316.0</td>\n",
       "      <td>8086136.0</td>\n",
       "      <td>0.00</td>\n",
       "    </tr>\n",
       "    <tr>\n",
       "      <th>72</th>\n",
       "      <td>Sep/2022</td>\n",
       "      <td>4672788.0</td>\n",
       "      <td>143.0</td>\n",
       "      <td>4672645.0</td>\n",
       "      <td>0.00</td>\n",
       "    </tr>\n",
       "    <tr>\n",
       "      <th>73</th>\n",
       "      <td>Oct/2022</td>\n",
       "      <td>1818432.0</td>\n",
       "      <td>47.0</td>\n",
       "      <td>1818385.0</td>\n",
       "      <td>0.00</td>\n",
       "    </tr>\n",
       "    <tr>\n",
       "      <th>74</th>\n",
       "      <td>Nov/2022</td>\n",
       "      <td>10137036.0</td>\n",
       "      <td>401.0</td>\n",
       "      <td>10136635.0</td>\n",
       "      <td>0.00</td>\n",
       "    </tr>\n",
       "    <tr>\n",
       "      <th>75</th>\n",
       "      <td>Dec/2022</td>\n",
       "      <td>10440516.0</td>\n",
       "      <td>175.0</td>\n",
       "      <td>10440341.0</td>\n",
       "      <td>0.00</td>\n",
       "    </tr>\n",
       "    <tr>\n",
       "      <th>76</th>\n",
       "      <td>Jan/2023</td>\n",
       "      <td>7932.0</td>\n",
       "      <td>0.0</td>\n",
       "      <td>7932.0</td>\n",
       "      <td>0.00</td>\n",
       "    </tr>\n",
       "  </tbody>\n",
       "</table>\n",
       "</div>"
      ],
      "text/plain": [
       "      mesAno  totalDados  totalNulos  totalnaoNulos  percentualNulos\n",
       "40  Jan/2020     33516.0        34.0        33482.0             0.10\n",
       "41  Feb/2020      1380.0        32.0         1348.0             2.32\n",
       "42  Mar/2020      6948.0       725.0         6223.0            10.43\n",
       "43  Apr/2020     60912.0      8207.0        52705.0            13.47\n",
       "44  May/2020    143580.0     23029.0       120551.0            16.04\n",
       "45  Jun/2020    229872.0     36908.0       192964.0            16.06\n",
       "46  Jul/2020    312516.0     42211.0       270305.0            13.51\n",
       "47  Aug/2020    291432.0     41907.0       249525.0            14.38\n",
       "48  Sep/2020    234936.0     33704.0       201232.0            14.35\n",
       "49  Oct/2020    247092.0     36122.0       210970.0            14.62\n",
       "50  Nov/2020    335148.0     49448.0       285700.0            14.75\n",
       "51  Dec/2020    536460.0     69795.0       466665.0            13.01\n",
       "52  Jan/2021    811020.0    110918.0       700102.0            13.68\n",
       "53  Feb/2021    628356.0     87072.0       541284.0            13.86\n",
       "54  Mar/2021   1165332.0     90323.0      1075009.0             7.75\n",
       "55  Apr/2021   1020528.0     69425.0       951103.0             6.80\n",
       "56  May/2021   1207860.0     75287.0      1132573.0             6.23\n",
       "57  Jun/2021   1340184.0     85464.0      1254720.0             6.38\n",
       "58  Jul/2021   1043088.0     62127.0       980961.0             5.96\n",
       "59  Aug/2021   1348404.0     70382.0      1278022.0             5.22\n",
       "60  Sep/2021   3110484.0     16376.0      3094108.0             0.53\n",
       "61  Oct/2021   3562536.0       164.0      3562372.0             0.00\n",
       "62  Nov/2021   3397356.0       834.0      3396522.0             0.02\n",
       "63  Dec/2021   5628636.0      2688.0      5625948.0             0.05\n",
       "64  Jan/2022  38213880.0      4617.0     38209263.0             0.01\n",
       "65  Feb/2022  18798900.0      1329.0     18797571.0             0.01\n",
       "66  Mar/2022   8980956.0       545.0      8980411.0             0.01\n",
       "67  Apr/2022   6191532.0       453.0      6191079.0             0.01\n",
       "68  May/2022  11631384.0       785.0     11630599.0             0.01\n",
       "69  Jun/2022  23469168.0      1000.0     23468168.0             0.00\n",
       "70  Jul/2022  14622996.0       678.0     14622318.0             0.00\n",
       "71  Aug/2022   8086452.0       316.0      8086136.0             0.00\n",
       "72  Sep/2022   4672788.0       143.0      4672645.0             0.00\n",
       "73  Oct/2022   1818432.0        47.0      1818385.0             0.00\n",
       "74  Nov/2022  10137036.0       401.0     10136635.0             0.00\n",
       "75  Dec/2022  10440516.0       175.0     10440341.0             0.00\n",
       "76  Jan/2023      7932.0         0.0         7932.0             0.00"
      ]
     },
     "execution_count": 247,
     "metadata": {},
     "output_type": "execute_result"
    }
   ],
   "source": [
    "plotar.iloc[40:77,:]."
   ]
  },
  {
   "cell_type": "code",
   "execution_count": 48,
   "metadata": {},
   "outputs": [],
   "source": [
    "import plotly\n",
    "from plotly.subplots import make_subplots\n",
    "import plotly.offline as py\n",
    "import plotly.graph_objects as go\n",
    "import plotly.express as px\n",
    "import numpy as np\n",
    "import pandas as pd\n",
    "import seaborn as sns\n",
    "import matplotlib.pyplot as plt"
   ]
  },
  {
   "cell_type": "code",
   "execution_count": 57,
   "metadata": {},
   "outputs": [
    {
     "data": {
      "application/vnd.plotly.v1+json": {
       "config": {
        "plotlyServerURL": "https://plot.ly"
       },
       "data": [
        {
         "name": "Quantidade de Dados",
         "type": "scatter",
         "x": [
          "Feb/1972",
          "Jul/1972",
          "Mar/1973",
          "May/1974",
          "Oct/1975",
          "Apr/1976",
          "May/1976",
          "Sep/1976",
          "Dec/1976",
          "Feb/1977",
          "Aug/1980",
          "Sep/1981",
          "Nov/1982",
          "Jun/1983",
          "Sep/1983",
          "May/1984",
          "Sep/1984",
          "Apr/1986",
          "Jul/1986",
          "Mar/1989",
          "Jun/1989",
          "Dec/1990",
          "Sep/1994",
          "Nov/1994",
          "Mar/1998",
          "Sep/2001",
          "Dec/2001",
          "Jun/2002",
          "Sep/2002",
          "Oct/2002",
          "Oct/2003",
          "Aug/2007",
          "Sep/2010",
          "Oct/2010",
          "Aug/2011",
          "Sep/2011",
          "Aug/2012",
          "Sep/2012",
          "Sep/2017",
          "Nov/2019",
          "Jan/2020",
          "Feb/2020",
          "Mar/2020",
          "Apr/2020",
          "May/2020",
          "Jun/2020",
          "Jul/2020",
          "Aug/2020",
          "Sep/2020",
          "Oct/2020",
          "Nov/2020",
          "Dec/2020",
          "Jan/2021",
          "Feb/2021",
          "Mar/2021",
          "Apr/2021",
          "May/2021",
          "Jun/2021",
          "Jul/2021",
          "Aug/2021",
          "Sep/2021",
          "Oct/2021",
          "Nov/2021",
          "Dec/2021",
          "Jan/2022",
          "Feb/2022",
          "Mar/2022",
          "Apr/2022",
          "May/2022",
          "Jun/2022",
          "Jul/2022",
          "Aug/2022",
          "Sep/2022",
          "Oct/2022",
          "Nov/2022",
          "Dec/2022",
          "Jan/2023"
         ],
         "xaxis": "x",
         "y": [
          12,
          12,
          12,
          12,
          12,
          12,
          12,
          12,
          12,
          12,
          12,
          12,
          12,
          12,
          12,
          12,
          12,
          12,
          12,
          12,
          12,
          12,
          12,
          12,
          12,
          24,
          12,
          12,
          12,
          12,
          12,
          12,
          12,
          24,
          36,
          12,
          12,
          24,
          12,
          12,
          33516,
          1380,
          6948,
          60912,
          143580,
          229872,
          312516,
          291432,
          234936,
          247092,
          335148,
          536460,
          811020,
          628356,
          1165332,
          1020528,
          1207860,
          1340184,
          1043088,
          1348404,
          3110484,
          3562536,
          3397356,
          5628636,
          38213880,
          18798900,
          8980956,
          6191532,
          11631384,
          23469168,
          14622996,
          8086452,
          4672788,
          1818432,
          10137036,
          10440516,
          7932
         ],
         "yaxis": "y"
        },
        {
         "name": "Percentual Nulos",
         "type": "scatter",
         "x": [
          "Feb/1972",
          "Jul/1972",
          "Mar/1973",
          "May/1974",
          "Oct/1975",
          "Apr/1976",
          "May/1976",
          "Sep/1976",
          "Dec/1976",
          "Feb/1977",
          "Aug/1980",
          "Sep/1981",
          "Nov/1982",
          "Jun/1983",
          "Sep/1983",
          "May/1984",
          "Sep/1984",
          "Apr/1986",
          "Jul/1986",
          "Mar/1989",
          "Jun/1989",
          "Dec/1990",
          "Sep/1994",
          "Nov/1994",
          "Mar/1998",
          "Sep/2001",
          "Dec/2001",
          "Jun/2002",
          "Sep/2002",
          "Oct/2002",
          "Oct/2003",
          "Aug/2007",
          "Sep/2010",
          "Oct/2010",
          "Aug/2011",
          "Sep/2011",
          "Aug/2012",
          "Sep/2012",
          "Sep/2017",
          "Nov/2019",
          "Jan/2020",
          "Feb/2020",
          "Mar/2020",
          "Apr/2020",
          "May/2020",
          "Jun/2020",
          "Jul/2020",
          "Aug/2020",
          "Sep/2020",
          "Oct/2020",
          "Nov/2020",
          "Dec/2020",
          "Jan/2021",
          "Feb/2021",
          "Mar/2021",
          "Apr/2021",
          "May/2021",
          "Jun/2021",
          "Jul/2021",
          "Aug/2021",
          "Sep/2021",
          "Oct/2021",
          "Nov/2021",
          "Dec/2021",
          "Jan/2022",
          "Feb/2022",
          "Mar/2022",
          "Apr/2022",
          "May/2022",
          "Jun/2022",
          "Jul/2022",
          "Aug/2022",
          "Sep/2022",
          "Oct/2022",
          "Nov/2022",
          "Dec/2022",
          "Jan/2023"
         ],
         "xaxis": "x",
         "y": [
          0,
          0,
          0,
          0,
          0,
          0,
          0,
          0,
          0,
          0,
          0,
          0,
          0,
          0,
          0,
          0,
          0,
          0,
          0,
          0,
          0,
          0,
          0,
          0,
          0,
          0,
          0,
          0,
          0,
          0,
          0,
          0,
          0,
          0,
          0,
          0,
          0,
          0,
          0,
          0,
          0.1,
          2.32,
          10.43,
          13.47,
          16.04,
          16.06,
          13.51,
          14.38,
          14.35,
          14.62,
          14.75,
          13.01,
          13.68,
          13.86,
          7.75,
          6.8,
          6.23,
          6.38,
          5.96,
          5.22,
          0.53,
          0,
          0.02,
          0.05,
          0.01,
          0.01,
          0.01,
          0.01,
          0.01,
          0,
          0,
          0,
          0,
          0,
          0,
          0,
          0
         ],
         "yaxis": "y2"
        }
       ],
       "layout": {
        "template": {
         "data": {
          "bar": [
           {
            "error_x": {
             "color": "#2a3f5f"
            },
            "error_y": {
             "color": "#2a3f5f"
            },
            "marker": {
             "line": {
              "color": "#E5ECF6",
              "width": 0.5
             },
             "pattern": {
              "fillmode": "overlay",
              "size": 10,
              "solidity": 0.2
             }
            },
            "type": "bar"
           }
          ],
          "barpolar": [
           {
            "marker": {
             "line": {
              "color": "#E5ECF6",
              "width": 0.5
             },
             "pattern": {
              "fillmode": "overlay",
              "size": 10,
              "solidity": 0.2
             }
            },
            "type": "barpolar"
           }
          ],
          "carpet": [
           {
            "aaxis": {
             "endlinecolor": "#2a3f5f",
             "gridcolor": "white",
             "linecolor": "white",
             "minorgridcolor": "white",
             "startlinecolor": "#2a3f5f"
            },
            "baxis": {
             "endlinecolor": "#2a3f5f",
             "gridcolor": "white",
             "linecolor": "white",
             "minorgridcolor": "white",
             "startlinecolor": "#2a3f5f"
            },
            "type": "carpet"
           }
          ],
          "choropleth": [
           {
            "colorbar": {
             "outlinewidth": 0,
             "ticks": ""
            },
            "type": "choropleth"
           }
          ],
          "contour": [
           {
            "colorbar": {
             "outlinewidth": 0,
             "ticks": ""
            },
            "colorscale": [
             [
              0,
              "#0d0887"
             ],
             [
              0.1111111111111111,
              "#46039f"
             ],
             [
              0.2222222222222222,
              "#7201a8"
             ],
             [
              0.3333333333333333,
              "#9c179e"
             ],
             [
              0.4444444444444444,
              "#bd3786"
             ],
             [
              0.5555555555555556,
              "#d8576b"
             ],
             [
              0.6666666666666666,
              "#ed7953"
             ],
             [
              0.7777777777777778,
              "#fb9f3a"
             ],
             [
              0.8888888888888888,
              "#fdca26"
             ],
             [
              1,
              "#f0f921"
             ]
            ],
            "type": "contour"
           }
          ],
          "contourcarpet": [
           {
            "colorbar": {
             "outlinewidth": 0,
             "ticks": ""
            },
            "type": "contourcarpet"
           }
          ],
          "heatmap": [
           {
            "colorbar": {
             "outlinewidth": 0,
             "ticks": ""
            },
            "colorscale": [
             [
              0,
              "#0d0887"
             ],
             [
              0.1111111111111111,
              "#46039f"
             ],
             [
              0.2222222222222222,
              "#7201a8"
             ],
             [
              0.3333333333333333,
              "#9c179e"
             ],
             [
              0.4444444444444444,
              "#bd3786"
             ],
             [
              0.5555555555555556,
              "#d8576b"
             ],
             [
              0.6666666666666666,
              "#ed7953"
             ],
             [
              0.7777777777777778,
              "#fb9f3a"
             ],
             [
              0.8888888888888888,
              "#fdca26"
             ],
             [
              1,
              "#f0f921"
             ]
            ],
            "type": "heatmap"
           }
          ],
          "heatmapgl": [
           {
            "colorbar": {
             "outlinewidth": 0,
             "ticks": ""
            },
            "colorscale": [
             [
              0,
              "#0d0887"
             ],
             [
              0.1111111111111111,
              "#46039f"
             ],
             [
              0.2222222222222222,
              "#7201a8"
             ],
             [
              0.3333333333333333,
              "#9c179e"
             ],
             [
              0.4444444444444444,
              "#bd3786"
             ],
             [
              0.5555555555555556,
              "#d8576b"
             ],
             [
              0.6666666666666666,
              "#ed7953"
             ],
             [
              0.7777777777777778,
              "#fb9f3a"
             ],
             [
              0.8888888888888888,
              "#fdca26"
             ],
             [
              1,
              "#f0f921"
             ]
            ],
            "type": "heatmapgl"
           }
          ],
          "histogram": [
           {
            "marker": {
             "pattern": {
              "fillmode": "overlay",
              "size": 10,
              "solidity": 0.2
             }
            },
            "type": "histogram"
           }
          ],
          "histogram2d": [
           {
            "colorbar": {
             "outlinewidth": 0,
             "ticks": ""
            },
            "colorscale": [
             [
              0,
              "#0d0887"
             ],
             [
              0.1111111111111111,
              "#46039f"
             ],
             [
              0.2222222222222222,
              "#7201a8"
             ],
             [
              0.3333333333333333,
              "#9c179e"
             ],
             [
              0.4444444444444444,
              "#bd3786"
             ],
             [
              0.5555555555555556,
              "#d8576b"
             ],
             [
              0.6666666666666666,
              "#ed7953"
             ],
             [
              0.7777777777777778,
              "#fb9f3a"
             ],
             [
              0.8888888888888888,
              "#fdca26"
             ],
             [
              1,
              "#f0f921"
             ]
            ],
            "type": "histogram2d"
           }
          ],
          "histogram2dcontour": [
           {
            "colorbar": {
             "outlinewidth": 0,
             "ticks": ""
            },
            "colorscale": [
             [
              0,
              "#0d0887"
             ],
             [
              0.1111111111111111,
              "#46039f"
             ],
             [
              0.2222222222222222,
              "#7201a8"
             ],
             [
              0.3333333333333333,
              "#9c179e"
             ],
             [
              0.4444444444444444,
              "#bd3786"
             ],
             [
              0.5555555555555556,
              "#d8576b"
             ],
             [
              0.6666666666666666,
              "#ed7953"
             ],
             [
              0.7777777777777778,
              "#fb9f3a"
             ],
             [
              0.8888888888888888,
              "#fdca26"
             ],
             [
              1,
              "#f0f921"
             ]
            ],
            "type": "histogram2dcontour"
           }
          ],
          "mesh3d": [
           {
            "colorbar": {
             "outlinewidth": 0,
             "ticks": ""
            },
            "type": "mesh3d"
           }
          ],
          "parcoords": [
           {
            "line": {
             "colorbar": {
              "outlinewidth": 0,
              "ticks": ""
             }
            },
            "type": "parcoords"
           }
          ],
          "pie": [
           {
            "automargin": true,
            "type": "pie"
           }
          ],
          "scatter": [
           {
            "marker": {
             "colorbar": {
              "outlinewidth": 0,
              "ticks": ""
             }
            },
            "type": "scatter"
           }
          ],
          "scatter3d": [
           {
            "line": {
             "colorbar": {
              "outlinewidth": 0,
              "ticks": ""
             }
            },
            "marker": {
             "colorbar": {
              "outlinewidth": 0,
              "ticks": ""
             }
            },
            "type": "scatter3d"
           }
          ],
          "scattercarpet": [
           {
            "marker": {
             "colorbar": {
              "outlinewidth": 0,
              "ticks": ""
             }
            },
            "type": "scattercarpet"
           }
          ],
          "scattergeo": [
           {
            "marker": {
             "colorbar": {
              "outlinewidth": 0,
              "ticks": ""
             }
            },
            "type": "scattergeo"
           }
          ],
          "scattergl": [
           {
            "marker": {
             "colorbar": {
              "outlinewidth": 0,
              "ticks": ""
             }
            },
            "type": "scattergl"
           }
          ],
          "scattermapbox": [
           {
            "marker": {
             "colorbar": {
              "outlinewidth": 0,
              "ticks": ""
             }
            },
            "type": "scattermapbox"
           }
          ],
          "scatterpolar": [
           {
            "marker": {
             "colorbar": {
              "outlinewidth": 0,
              "ticks": ""
             }
            },
            "type": "scatterpolar"
           }
          ],
          "scatterpolargl": [
           {
            "marker": {
             "colorbar": {
              "outlinewidth": 0,
              "ticks": ""
             }
            },
            "type": "scatterpolargl"
           }
          ],
          "scatterternary": [
           {
            "marker": {
             "colorbar": {
              "outlinewidth": 0,
              "ticks": ""
             }
            },
            "type": "scatterternary"
           }
          ],
          "surface": [
           {
            "colorbar": {
             "outlinewidth": 0,
             "ticks": ""
            },
            "colorscale": [
             [
              0,
              "#0d0887"
             ],
             [
              0.1111111111111111,
              "#46039f"
             ],
             [
              0.2222222222222222,
              "#7201a8"
             ],
             [
              0.3333333333333333,
              "#9c179e"
             ],
             [
              0.4444444444444444,
              "#bd3786"
             ],
             [
              0.5555555555555556,
              "#d8576b"
             ],
             [
              0.6666666666666666,
              "#ed7953"
             ],
             [
              0.7777777777777778,
              "#fb9f3a"
             ],
             [
              0.8888888888888888,
              "#fdca26"
             ],
             [
              1,
              "#f0f921"
             ]
            ],
            "type": "surface"
           }
          ],
          "table": [
           {
            "cells": {
             "fill": {
              "color": "#EBF0F8"
             },
             "line": {
              "color": "white"
             }
            },
            "header": {
             "fill": {
              "color": "#C8D4E3"
             },
             "line": {
              "color": "white"
             }
            },
            "type": "table"
           }
          ]
         },
         "layout": {
          "annotationdefaults": {
           "arrowcolor": "#2a3f5f",
           "arrowhead": 0,
           "arrowwidth": 1
          },
          "autotypenumbers": "strict",
          "coloraxis": {
           "colorbar": {
            "outlinewidth": 0,
            "ticks": ""
           }
          },
          "colorscale": {
           "diverging": [
            [
             0,
             "#8e0152"
            ],
            [
             0.1,
             "#c51b7d"
            ],
            [
             0.2,
             "#de77ae"
            ],
            [
             0.3,
             "#f1b6da"
            ],
            [
             0.4,
             "#fde0ef"
            ],
            [
             0.5,
             "#f7f7f7"
            ],
            [
             0.6,
             "#e6f5d0"
            ],
            [
             0.7,
             "#b8e186"
            ],
            [
             0.8,
             "#7fbc41"
            ],
            [
             0.9,
             "#4d9221"
            ],
            [
             1,
             "#276419"
            ]
           ],
           "sequential": [
            [
             0,
             "#0d0887"
            ],
            [
             0.1111111111111111,
             "#46039f"
            ],
            [
             0.2222222222222222,
             "#7201a8"
            ],
            [
             0.3333333333333333,
             "#9c179e"
            ],
            [
             0.4444444444444444,
             "#bd3786"
            ],
            [
             0.5555555555555556,
             "#d8576b"
            ],
            [
             0.6666666666666666,
             "#ed7953"
            ],
            [
             0.7777777777777778,
             "#fb9f3a"
            ],
            [
             0.8888888888888888,
             "#fdca26"
            ],
            [
             1,
             "#f0f921"
            ]
           ],
           "sequentialminus": [
            [
             0,
             "#0d0887"
            ],
            [
             0.1111111111111111,
             "#46039f"
            ],
            [
             0.2222222222222222,
             "#7201a8"
            ],
            [
             0.3333333333333333,
             "#9c179e"
            ],
            [
             0.4444444444444444,
             "#bd3786"
            ],
            [
             0.5555555555555556,
             "#d8576b"
            ],
            [
             0.6666666666666666,
             "#ed7953"
            ],
            [
             0.7777777777777778,
             "#fb9f3a"
            ],
            [
             0.8888888888888888,
             "#fdca26"
            ],
            [
             1,
             "#f0f921"
            ]
           ]
          },
          "colorway": [
           "#636efa",
           "#EF553B",
           "#00cc96",
           "#ab63fa",
           "#FFA15A",
           "#19d3f3",
           "#FF6692",
           "#B6E880",
           "#FF97FF",
           "#FECB52"
          ],
          "font": {
           "color": "#2a3f5f"
          },
          "geo": {
           "bgcolor": "white",
           "lakecolor": "white",
           "landcolor": "#E5ECF6",
           "showlakes": true,
           "showland": true,
           "subunitcolor": "white"
          },
          "hoverlabel": {
           "align": "left"
          },
          "hovermode": "closest",
          "mapbox": {
           "style": "light"
          },
          "paper_bgcolor": "white",
          "plot_bgcolor": "#E5ECF6",
          "polar": {
           "angularaxis": {
            "gridcolor": "white",
            "linecolor": "white",
            "ticks": ""
           },
           "bgcolor": "#E5ECF6",
           "radialaxis": {
            "gridcolor": "white",
            "linecolor": "white",
            "ticks": ""
           }
          },
          "scene": {
           "xaxis": {
            "backgroundcolor": "#E5ECF6",
            "gridcolor": "white",
            "gridwidth": 2,
            "linecolor": "white",
            "showbackground": true,
            "ticks": "",
            "zerolinecolor": "white"
           },
           "yaxis": {
            "backgroundcolor": "#E5ECF6",
            "gridcolor": "white",
            "gridwidth": 2,
            "linecolor": "white",
            "showbackground": true,
            "ticks": "",
            "zerolinecolor": "white"
           },
           "zaxis": {
            "backgroundcolor": "#E5ECF6",
            "gridcolor": "white",
            "gridwidth": 2,
            "linecolor": "white",
            "showbackground": true,
            "ticks": "",
            "zerolinecolor": "white"
           }
          },
          "shapedefaults": {
           "line": {
            "color": "#2a3f5f"
           }
          },
          "ternary": {
           "aaxis": {
            "gridcolor": "white",
            "linecolor": "white",
            "ticks": ""
           },
           "baxis": {
            "gridcolor": "white",
            "linecolor": "white",
            "ticks": ""
           },
           "bgcolor": "#E5ECF6",
           "caxis": {
            "gridcolor": "white",
            "linecolor": "white",
            "ticks": ""
           }
          },
          "title": {
           "x": 0.05
          },
          "xaxis": {
           "automargin": true,
           "gridcolor": "white",
           "linecolor": "white",
           "ticks": "",
           "title": {
            "standoff": 15
           },
           "zerolinecolor": "white",
           "zerolinewidth": 2
          },
          "yaxis": {
           "automargin": true,
           "gridcolor": "white",
           "linecolor": "white",
           "ticks": "",
           "title": {
            "standoff": 15
           },
           "zerolinecolor": "white",
           "zerolinewidth": 2
          }
         }
        },
        "title": {
         "text": "Quantidade de dados x percentual nulos"
        },
        "xaxis": {
         "anchor": "y",
         "domain": [
          0,
          0.94
         ],
         "title": {
          "text": "Mes/Ano"
         }
        },
        "yaxis": {
         "anchor": "x",
         "domain": [
          0,
          1
         ],
         "range": [
          -1000000,
          40000000
         ],
         "title": {
          "text": "Quantidade"
         }
        },
        "yaxis2": {
         "anchor": "x",
         "overlaying": "y",
         "range": [
          -2.4,
          100
         ],
         "side": "right",
         "title": {
          "text": "Percentual"
         }
        }
       }
      },
      "text/html": [
       "<div>                            <div id=\"4c6e29a8-c9ad-4cb4-aefb-c3deae3563e3\" class=\"plotly-graph-div\" style=\"height:525px; width:100%;\"></div>            <script type=\"text/javascript\">                require([\"plotly\"], function(Plotly) {                    window.PLOTLYENV=window.PLOTLYENV || {};                                    if (document.getElementById(\"4c6e29a8-c9ad-4cb4-aefb-c3deae3563e3\")) {                    Plotly.newPlot(                        \"4c6e29a8-c9ad-4cb4-aefb-c3deae3563e3\",                        [{\"name\":\"Quantidade de Dados\",\"type\":\"scatter\",\"x\":[\"Feb/1972\",\"Jul/1972\",\"Mar/1973\",\"May/1974\",\"Oct/1975\",\"Apr/1976\",\"May/1976\",\"Sep/1976\",\"Dec/1976\",\"Feb/1977\",\"Aug/1980\",\"Sep/1981\",\"Nov/1982\",\"Jun/1983\",\"Sep/1983\",\"May/1984\",\"Sep/1984\",\"Apr/1986\",\"Jul/1986\",\"Mar/1989\",\"Jun/1989\",\"Dec/1990\",\"Sep/1994\",\"Nov/1994\",\"Mar/1998\",\"Sep/2001\",\"Dec/2001\",\"Jun/2002\",\"Sep/2002\",\"Oct/2002\",\"Oct/2003\",\"Aug/2007\",\"Sep/2010\",\"Oct/2010\",\"Aug/2011\",\"Sep/2011\",\"Aug/2012\",\"Sep/2012\",\"Sep/2017\",\"Nov/2019\",\"Jan/2020\",\"Feb/2020\",\"Mar/2020\",\"Apr/2020\",\"May/2020\",\"Jun/2020\",\"Jul/2020\",\"Aug/2020\",\"Sep/2020\",\"Oct/2020\",\"Nov/2020\",\"Dec/2020\",\"Jan/2021\",\"Feb/2021\",\"Mar/2021\",\"Apr/2021\",\"May/2021\",\"Jun/2021\",\"Jul/2021\",\"Aug/2021\",\"Sep/2021\",\"Oct/2021\",\"Nov/2021\",\"Dec/2021\",\"Jan/2022\",\"Feb/2022\",\"Mar/2022\",\"Apr/2022\",\"May/2022\",\"Jun/2022\",\"Jul/2022\",\"Aug/2022\",\"Sep/2022\",\"Oct/2022\",\"Nov/2022\",\"Dec/2022\",\"Jan/2023\"],\"xaxis\":\"x\",\"y\":[12.0,12.0,12.0,12.0,12.0,12.0,12.0,12.0,12.0,12.0,12.0,12.0,12.0,12.0,12.0,12.0,12.0,12.0,12.0,12.0,12.0,12.0,12.0,12.0,12.0,24.0,12.0,12.0,12.0,12.0,12.0,12.0,12.0,24.0,36.0,12.0,12.0,24.0,12.0,12.0,33516.0,1380.0,6948.0,60912.0,143580.0,229872.0,312516.0,291432.0,234936.0,247092.0,335148.0,536460.0,811020.0,628356.0,1165332.0,1020528.0,1207860.0,1340184.0,1043088.0,1348404.0,3110484.0,3562536.0,3397356.0,5628636.0,38213880.0,18798900.0,8980956.0,6191532.0,11631384.0,23469168.0,14622996.0,8086452.0,4672788.0,1818432.0,10137036.0,10440516.0,7932.0],\"yaxis\":\"y\"},{\"name\":\"Percentual Nulos\",\"type\":\"scatter\",\"x\":[\"Feb/1972\",\"Jul/1972\",\"Mar/1973\",\"May/1974\",\"Oct/1975\",\"Apr/1976\",\"May/1976\",\"Sep/1976\",\"Dec/1976\",\"Feb/1977\",\"Aug/1980\",\"Sep/1981\",\"Nov/1982\",\"Jun/1983\",\"Sep/1983\",\"May/1984\",\"Sep/1984\",\"Apr/1986\",\"Jul/1986\",\"Mar/1989\",\"Jun/1989\",\"Dec/1990\",\"Sep/1994\",\"Nov/1994\",\"Mar/1998\",\"Sep/2001\",\"Dec/2001\",\"Jun/2002\",\"Sep/2002\",\"Oct/2002\",\"Oct/2003\",\"Aug/2007\",\"Sep/2010\",\"Oct/2010\",\"Aug/2011\",\"Sep/2011\",\"Aug/2012\",\"Sep/2012\",\"Sep/2017\",\"Nov/2019\",\"Jan/2020\",\"Feb/2020\",\"Mar/2020\",\"Apr/2020\",\"May/2020\",\"Jun/2020\",\"Jul/2020\",\"Aug/2020\",\"Sep/2020\",\"Oct/2020\",\"Nov/2020\",\"Dec/2020\",\"Jan/2021\",\"Feb/2021\",\"Mar/2021\",\"Apr/2021\",\"May/2021\",\"Jun/2021\",\"Jul/2021\",\"Aug/2021\",\"Sep/2021\",\"Oct/2021\",\"Nov/2021\",\"Dec/2021\",\"Jan/2022\",\"Feb/2022\",\"Mar/2022\",\"Apr/2022\",\"May/2022\",\"Jun/2022\",\"Jul/2022\",\"Aug/2022\",\"Sep/2022\",\"Oct/2022\",\"Nov/2022\",\"Dec/2022\",\"Jan/2023\"],\"xaxis\":\"x\",\"y\":[0.0,0.0,0.0,0.0,0.0,0.0,0.0,0.0,0.0,0.0,0.0,0.0,0.0,0.0,0.0,0.0,0.0,0.0,0.0,0.0,0.0,0.0,0.0,0.0,0.0,0.0,0.0,0.0,0.0,0.0,0.0,0.0,0.0,0.0,0.0,0.0,0.0,0.0,0.0,0.0,0.1,2.32,10.43,13.47,16.04,16.06,13.51,14.38,14.35,14.62,14.75,13.01,13.68,13.86,7.75,6.8,6.23,6.38,5.96,5.22,0.53,0.0,0.02,0.05,0.01,0.01,0.01,0.01,0.01,0.0,0.0,0.0,0.0,0.0,0.0,0.0,0.0],\"yaxis\":\"y2\"}],                        {\"template\":{\"data\":{\"bar\":[{\"error_x\":{\"color\":\"#2a3f5f\"},\"error_y\":{\"color\":\"#2a3f5f\"},\"marker\":{\"line\":{\"color\":\"#E5ECF6\",\"width\":0.5},\"pattern\":{\"fillmode\":\"overlay\",\"size\":10,\"solidity\":0.2}},\"type\":\"bar\"}],\"barpolar\":[{\"marker\":{\"line\":{\"color\":\"#E5ECF6\",\"width\":0.5},\"pattern\":{\"fillmode\":\"overlay\",\"size\":10,\"solidity\":0.2}},\"type\":\"barpolar\"}],\"carpet\":[{\"aaxis\":{\"endlinecolor\":\"#2a3f5f\",\"gridcolor\":\"white\",\"linecolor\":\"white\",\"minorgridcolor\":\"white\",\"startlinecolor\":\"#2a3f5f\"},\"baxis\":{\"endlinecolor\":\"#2a3f5f\",\"gridcolor\":\"white\",\"linecolor\":\"white\",\"minorgridcolor\":\"white\",\"startlinecolor\":\"#2a3f5f\"},\"type\":\"carpet\"}],\"choropleth\":[{\"colorbar\":{\"outlinewidth\":0,\"ticks\":\"\"},\"type\":\"choropleth\"}],\"contour\":[{\"colorbar\":{\"outlinewidth\":0,\"ticks\":\"\"},\"colorscale\":[[0.0,\"#0d0887\"],[0.1111111111111111,\"#46039f\"],[0.2222222222222222,\"#7201a8\"],[0.3333333333333333,\"#9c179e\"],[0.4444444444444444,\"#bd3786\"],[0.5555555555555556,\"#d8576b\"],[0.6666666666666666,\"#ed7953\"],[0.7777777777777778,\"#fb9f3a\"],[0.8888888888888888,\"#fdca26\"],[1.0,\"#f0f921\"]],\"type\":\"contour\"}],\"contourcarpet\":[{\"colorbar\":{\"outlinewidth\":0,\"ticks\":\"\"},\"type\":\"contourcarpet\"}],\"heatmap\":[{\"colorbar\":{\"outlinewidth\":0,\"ticks\":\"\"},\"colorscale\":[[0.0,\"#0d0887\"],[0.1111111111111111,\"#46039f\"],[0.2222222222222222,\"#7201a8\"],[0.3333333333333333,\"#9c179e\"],[0.4444444444444444,\"#bd3786\"],[0.5555555555555556,\"#d8576b\"],[0.6666666666666666,\"#ed7953\"],[0.7777777777777778,\"#fb9f3a\"],[0.8888888888888888,\"#fdca26\"],[1.0,\"#f0f921\"]],\"type\":\"heatmap\"}],\"heatmapgl\":[{\"colorbar\":{\"outlinewidth\":0,\"ticks\":\"\"},\"colorscale\":[[0.0,\"#0d0887\"],[0.1111111111111111,\"#46039f\"],[0.2222222222222222,\"#7201a8\"],[0.3333333333333333,\"#9c179e\"],[0.4444444444444444,\"#bd3786\"],[0.5555555555555556,\"#d8576b\"],[0.6666666666666666,\"#ed7953\"],[0.7777777777777778,\"#fb9f3a\"],[0.8888888888888888,\"#fdca26\"],[1.0,\"#f0f921\"]],\"type\":\"heatmapgl\"}],\"histogram\":[{\"marker\":{\"pattern\":{\"fillmode\":\"overlay\",\"size\":10,\"solidity\":0.2}},\"type\":\"histogram\"}],\"histogram2d\":[{\"colorbar\":{\"outlinewidth\":0,\"ticks\":\"\"},\"colorscale\":[[0.0,\"#0d0887\"],[0.1111111111111111,\"#46039f\"],[0.2222222222222222,\"#7201a8\"],[0.3333333333333333,\"#9c179e\"],[0.4444444444444444,\"#bd3786\"],[0.5555555555555556,\"#d8576b\"],[0.6666666666666666,\"#ed7953\"],[0.7777777777777778,\"#fb9f3a\"],[0.8888888888888888,\"#fdca26\"],[1.0,\"#f0f921\"]],\"type\":\"histogram2d\"}],\"histogram2dcontour\":[{\"colorbar\":{\"outlinewidth\":0,\"ticks\":\"\"},\"colorscale\":[[0.0,\"#0d0887\"],[0.1111111111111111,\"#46039f\"],[0.2222222222222222,\"#7201a8\"],[0.3333333333333333,\"#9c179e\"],[0.4444444444444444,\"#bd3786\"],[0.5555555555555556,\"#d8576b\"],[0.6666666666666666,\"#ed7953\"],[0.7777777777777778,\"#fb9f3a\"],[0.8888888888888888,\"#fdca26\"],[1.0,\"#f0f921\"]],\"type\":\"histogram2dcontour\"}],\"mesh3d\":[{\"colorbar\":{\"outlinewidth\":0,\"ticks\":\"\"},\"type\":\"mesh3d\"}],\"parcoords\":[{\"line\":{\"colorbar\":{\"outlinewidth\":0,\"ticks\":\"\"}},\"type\":\"parcoords\"}],\"pie\":[{\"automargin\":true,\"type\":\"pie\"}],\"scatter\":[{\"marker\":{\"colorbar\":{\"outlinewidth\":0,\"ticks\":\"\"}},\"type\":\"scatter\"}],\"scatter3d\":[{\"line\":{\"colorbar\":{\"outlinewidth\":0,\"ticks\":\"\"}},\"marker\":{\"colorbar\":{\"outlinewidth\":0,\"ticks\":\"\"}},\"type\":\"scatter3d\"}],\"scattercarpet\":[{\"marker\":{\"colorbar\":{\"outlinewidth\":0,\"ticks\":\"\"}},\"type\":\"scattercarpet\"}],\"scattergeo\":[{\"marker\":{\"colorbar\":{\"outlinewidth\":0,\"ticks\":\"\"}},\"type\":\"scattergeo\"}],\"scattergl\":[{\"marker\":{\"colorbar\":{\"outlinewidth\":0,\"ticks\":\"\"}},\"type\":\"scattergl\"}],\"scattermapbox\":[{\"marker\":{\"colorbar\":{\"outlinewidth\":0,\"ticks\":\"\"}},\"type\":\"scattermapbox\"}],\"scatterpolar\":[{\"marker\":{\"colorbar\":{\"outlinewidth\":0,\"ticks\":\"\"}},\"type\":\"scatterpolar\"}],\"scatterpolargl\":[{\"marker\":{\"colorbar\":{\"outlinewidth\":0,\"ticks\":\"\"}},\"type\":\"scatterpolargl\"}],\"scatterternary\":[{\"marker\":{\"colorbar\":{\"outlinewidth\":0,\"ticks\":\"\"}},\"type\":\"scatterternary\"}],\"surface\":[{\"colorbar\":{\"outlinewidth\":0,\"ticks\":\"\"},\"colorscale\":[[0.0,\"#0d0887\"],[0.1111111111111111,\"#46039f\"],[0.2222222222222222,\"#7201a8\"],[0.3333333333333333,\"#9c179e\"],[0.4444444444444444,\"#bd3786\"],[0.5555555555555556,\"#d8576b\"],[0.6666666666666666,\"#ed7953\"],[0.7777777777777778,\"#fb9f3a\"],[0.8888888888888888,\"#fdca26\"],[1.0,\"#f0f921\"]],\"type\":\"surface\"}],\"table\":[{\"cells\":{\"fill\":{\"color\":\"#EBF0F8\"},\"line\":{\"color\":\"white\"}},\"header\":{\"fill\":{\"color\":\"#C8D4E3\"},\"line\":{\"color\":\"white\"}},\"type\":\"table\"}]},\"layout\":{\"annotationdefaults\":{\"arrowcolor\":\"#2a3f5f\",\"arrowhead\":0,\"arrowwidth\":1},\"autotypenumbers\":\"strict\",\"coloraxis\":{\"colorbar\":{\"outlinewidth\":0,\"ticks\":\"\"}},\"colorscale\":{\"diverging\":[[0,\"#8e0152\"],[0.1,\"#c51b7d\"],[0.2,\"#de77ae\"],[0.3,\"#f1b6da\"],[0.4,\"#fde0ef\"],[0.5,\"#f7f7f7\"],[0.6,\"#e6f5d0\"],[0.7,\"#b8e186\"],[0.8,\"#7fbc41\"],[0.9,\"#4d9221\"],[1,\"#276419\"]],\"sequential\":[[0.0,\"#0d0887\"],[0.1111111111111111,\"#46039f\"],[0.2222222222222222,\"#7201a8\"],[0.3333333333333333,\"#9c179e\"],[0.4444444444444444,\"#bd3786\"],[0.5555555555555556,\"#d8576b\"],[0.6666666666666666,\"#ed7953\"],[0.7777777777777778,\"#fb9f3a\"],[0.8888888888888888,\"#fdca26\"],[1.0,\"#f0f921\"]],\"sequentialminus\":[[0.0,\"#0d0887\"],[0.1111111111111111,\"#46039f\"],[0.2222222222222222,\"#7201a8\"],[0.3333333333333333,\"#9c179e\"],[0.4444444444444444,\"#bd3786\"],[0.5555555555555556,\"#d8576b\"],[0.6666666666666666,\"#ed7953\"],[0.7777777777777778,\"#fb9f3a\"],[0.8888888888888888,\"#fdca26\"],[1.0,\"#f0f921\"]]},\"colorway\":[\"#636efa\",\"#EF553B\",\"#00cc96\",\"#ab63fa\",\"#FFA15A\",\"#19d3f3\",\"#FF6692\",\"#B6E880\",\"#FF97FF\",\"#FECB52\"],\"font\":{\"color\":\"#2a3f5f\"},\"geo\":{\"bgcolor\":\"white\",\"lakecolor\":\"white\",\"landcolor\":\"#E5ECF6\",\"showlakes\":true,\"showland\":true,\"subunitcolor\":\"white\"},\"hoverlabel\":{\"align\":\"left\"},\"hovermode\":\"closest\",\"mapbox\":{\"style\":\"light\"},\"paper_bgcolor\":\"white\",\"plot_bgcolor\":\"#E5ECF6\",\"polar\":{\"angularaxis\":{\"gridcolor\":\"white\",\"linecolor\":\"white\",\"ticks\":\"\"},\"bgcolor\":\"#E5ECF6\",\"radialaxis\":{\"gridcolor\":\"white\",\"linecolor\":\"white\",\"ticks\":\"\"}},\"scene\":{\"xaxis\":{\"backgroundcolor\":\"#E5ECF6\",\"gridcolor\":\"white\",\"gridwidth\":2,\"linecolor\":\"white\",\"showbackground\":true,\"ticks\":\"\",\"zerolinecolor\":\"white\"},\"yaxis\":{\"backgroundcolor\":\"#E5ECF6\",\"gridcolor\":\"white\",\"gridwidth\":2,\"linecolor\":\"white\",\"showbackground\":true,\"ticks\":\"\",\"zerolinecolor\":\"white\"},\"zaxis\":{\"backgroundcolor\":\"#E5ECF6\",\"gridcolor\":\"white\",\"gridwidth\":2,\"linecolor\":\"white\",\"showbackground\":true,\"ticks\":\"\",\"zerolinecolor\":\"white\"}},\"shapedefaults\":{\"line\":{\"color\":\"#2a3f5f\"}},\"ternary\":{\"aaxis\":{\"gridcolor\":\"white\",\"linecolor\":\"white\",\"ticks\":\"\"},\"baxis\":{\"gridcolor\":\"white\",\"linecolor\":\"white\",\"ticks\":\"\"},\"bgcolor\":\"#E5ECF6\",\"caxis\":{\"gridcolor\":\"white\",\"linecolor\":\"white\",\"ticks\":\"\"}},\"title\":{\"x\":0.05},\"xaxis\":{\"automargin\":true,\"gridcolor\":\"white\",\"linecolor\":\"white\",\"ticks\":\"\",\"title\":{\"standoff\":15},\"zerolinecolor\":\"white\",\"zerolinewidth\":2},\"yaxis\":{\"automargin\":true,\"gridcolor\":\"white\",\"linecolor\":\"white\",\"ticks\":\"\",\"title\":{\"standoff\":15},\"zerolinecolor\":\"white\",\"zerolinewidth\":2}}},\"title\":{\"text\":\"Quantidade de dados x percentual nulos\"},\"xaxis\":{\"anchor\":\"y\",\"domain\":[0.0,0.94],\"title\":{\"text\":\"Mes/Ano\"}},\"yaxis\":{\"anchor\":\"x\",\"domain\":[0.0,1.0],\"range\":[-1000000,40000000],\"title\":{\"text\":\"Quantidade\"}},\"yaxis2\":{\"anchor\":\"x\",\"overlaying\":\"y\",\"range\":[-2.4,100],\"side\":\"right\",\"title\":{\"text\":\"Percentual\"}}},                        {\"responsive\": true}                    ).then(function(){\n",
       "                            \n",
       "var gd = document.getElementById('4c6e29a8-c9ad-4cb4-aefb-c3deae3563e3');\n",
       "var x = new MutationObserver(function (mutations, observer) {{\n",
       "        var display = window.getComputedStyle(gd).display;\n",
       "        if (!display || display === 'none') {{\n",
       "            console.log([gd, 'removed!']);\n",
       "            Plotly.purge(gd);\n",
       "            observer.disconnect();\n",
       "        }}\n",
       "}});\n",
       "\n",
       "// Listen for the removal of the full notebook cells\n",
       "var notebookContainer = gd.closest('#notebook-container');\n",
       "if (notebookContainer) {{\n",
       "    x.observe(notebookContainer, {childList: true});\n",
       "}}\n",
       "\n",
       "// Listen for the clearing of the current output cell\n",
       "var outputEl = gd.closest('.output');\n",
       "if (outputEl) {{\n",
       "    x.observe(outputEl, {childList: true});\n",
       "}}\n",
       "\n",
       "                        })                };                });            </script>        </div>"
      ]
     },
     "metadata": {},
     "output_type": "display_data"
    }
   ],
   "source": [
    "# Criando figura com eixo y secundário y-axis\n",
    "fig = make_subplots(specs=[[{\"secondary_y\": True}]])\n",
    "\n",
    "# Adicionando traces\n",
    "fig.add_trace(\n",
    "    go.Scatter(x = plotar['mesAno'], y = plotar['totalDados'], name=\"Quantidade de Dados\"),\n",
    "    secondary_y=False,\n",
    ")\n",
    "\n",
    "fig.add_trace(\n",
    "    go.Scatter(x = plotar['mesAno'], y = plotar['percentualNulos'], name=\"Percentual Nulos\"),\n",
    "    secondary_y=True,\n",
    ")\n",
    "\n",
    "# Adicionando título da figura\n",
    "fig.update_layout(\n",
    "    title_text=\"Quantidade de dados x percentual nulos\"\n",
    ")\n",
    "\n",
    "# Ajustando a escala do eixo secundário\n",
    "\n",
    "fig.update_layout(yaxis2_range=[-2.4,100])\n",
    "fig.update_layout(yaxis_range=[-1000000,40000000])\n",
    "\n",
    "# Colocando título do eixo x\n",
    "fig.update_xaxes(title_text=\"Mes/Ano\")\n",
    "\n",
    "# Colocando título dos eixos y\n",
    "fig.update_yaxes(title_text=\"Quantidade\", secondary_y=False)\n",
    "fig.update_yaxes(title_text=\"Percentual\", secondary_y=True)\n",
    "\n",
    "\n",
    "fig.show()"
   ]
  },
  {
   "cell_type": "markdown",
   "metadata": {},
   "source": [
    "## Colunas de preenchimento obrigatório condicional"
   ]
  },
  {
   "cell_type": "code",
   "execution_count": 146,
   "metadata": {},
   "outputs": [],
   "source": [
    "#Criando novo dataset para receber as informações de cada coluna\n",
    "\n",
    "colunas = StructType([StructField('Coluna',StringType(), True)\\\n",
    "                      ,StructField('QuantidadeNulos',StringType(), True)\n",
    "                      ,StructField('QuantidadeNaoNulos',StringType(), True)])\n",
    "tabela = spark.createDataFrame(data = [],schema = colunas)"
   ]
  },
  {
   "cell_type": "code",
   "execution_count": 147,
   "metadata": {},
   "outputs": [
    {
     "name": "stdout",
     "output_type": "stream",
     "text": [
      "+------+---------------+------------------+\n",
      "|Coluna|QuantidadeNulos|QuantidadeNaoNulos|\n",
      "+------+---------------+------------------+\n",
      "+------+---------------+------------------+\n",
      "\n"
     ]
    }
   ],
   "source": [
    "tabela.show()"
   ]
  },
  {
   "cell_type": "markdown",
   "metadata": {},
   "source": [
    "### Criando funções para avaliar cada coluna"
   ]
  },
  {
   "cell_type": "code",
   "execution_count": 219,
   "metadata": {},
   "outputs": [],
   "source": [
    "# Criando funções para calcular a quantidade de nulos e não nulos de cada coluna\n",
    "\n",
    "#Função para calcular valores nulos considerando todos os valores preenchidos da coluna condicional\n",
    "def cont_null_cond(colunaFiltro, colunaVerificacao):\n",
    "    filtro = df.filter((col(colunaFiltro).isNotNull()))\n",
    "    \n",
    "    linha = filtro\\\n",
    "        .select([count(when(col(colunaVerificacao).isNull(), colunaVerificacao)).alias('QuantidadeNulos')])\\\n",
    "        .withColumn('QuantidadeNaoNulos', lit(filtro.select(col(colunaVerificacao)).filter(col(colunaVerificacao).isNotNull()).count()))\\\n",
    "        .withColumn('NomeColuna', lit(colunaVerificacao))\\\n",
    "        .select(['NomeColuna', 'QuantidadeNulos', 'QuantidadeNaoNulos'])\n",
    "    \n",
    "    return linha\n",
    "\n",
    "\n",
    "#Função para calcular valores nulos com apenas uma condição de filtro\n",
    "\n",
    "def cont_null_1cond(colunaFiltro, condicao, colunaVerificacao):\n",
    "    filtro1 = df.filter((col(colunaFiltro)==condicao))\n",
    "    \n",
    "    linha1 = filtro1\\\n",
    "        .select([count(when(col(colunaVerificacao).isNull(), colunaVerificacao)).alias('QuantidadeNulos')])\\\n",
    "        .withColumn('QuantidadeNaoNulos', lit(filtro1.select(col(colunaVerificacao)).filter(col(colunaVerificacao).isNotNull()).count()))\\\n",
    "        .withColumn('NomeColuna', lit(colunaVerificacao))\\\n",
    "        .select(['NomeColuna', 'QuantidadeNulos', 'QuantidadeNaoNulos'])\n",
    "    \n",
    "    return linha1\n",
    "\n",
    "\n",
    "#Função para calcular valores nulos com duas condições de filtro\n",
    "\n",
    "def cont_null_2cond(colunaFiltro, condicao1, condicao2, colunaVerificacao):\n",
    "    filtro2 = df.filter((col(colunaFiltro)==condicao1)|(col(colunaFiltro)==condicao2))\n",
    "    \n",
    "    linha2 = filtro2\\\n",
    "        .select([count(when(col(colunaVerificacao).isNull(), colunaVerificacao)).alias('QuantidadeNulos')])\\\n",
    "        .withColumn('QuantidadeNaoNulos', lit(filtro2.select(col(colunaVerificacao)).filter(col(colunaVerificacao).isNotNull()).count()))\\\n",
    "        .withColumn('NomeColuna', lit(colunaVerificacao))\\\n",
    "        .select(['NomeColuna', 'QuantidadeNulos', 'QuantidadeNaoNulos'])\n",
    "    \n",
    "    return linha2\n",
    "\n",
    "\n",
    "#Função para calcular valores nulos em colunas que contenham a primeira, segunda ou terceira dose\n",
    "\n",
    "def cont_null_1cond_auto (colunaFiltro, condicao, colunaVerificacao):\n",
    "    filtro3 = df.filter((col(colunaFiltro).contains(condicao)))\n",
    "    \n",
    "    linha3 = filtro3\\\n",
    "        .select([count(when(col(colunaVerificacao).isNull(), colunaVerificacao)).alias('QuantidadeNulos')])\\\n",
    "        .withColumn('QuantidadeNaoNulos', lit(filtro3.select(col(colunaVerificacao)).filter(col(colunaVerificacao).isNotNull()).count()))\\\n",
    "        .withColumn('NomeColuna', lit(colunaVerificacao))\\\n",
    "        .select(['NomeColuna', 'QuantidadeNulos', 'QuantidadeNaoNulos'])\n",
    "    \n",
    "    return linha3"
   ]
  },
  {
   "cell_type": "markdown",
   "metadata": {},
   "source": [
    "### CBO"
   ]
  },
  {
   "cell_type": "code",
   "execution_count": 153,
   "metadata": {},
   "outputs": [],
   "source": [
    "CBO = cont_null_1cond('profissionalSaude','Sim','CBO')"
   ]
  },
  {
   "cell_type": "code",
   "execution_count": 154,
   "metadata": {
    "scrolled": true
   },
   "outputs": [
    {
     "name": "stdout",
     "output_type": "stream",
     "text": [
      "+----------+---------------+------------------+\n",
      "|NomeColuna|QuantidadeNulos|QuantidadeNaoNulos|\n",
      "+----------+---------------+------------------+\n",
      "|       CBO|           3244|            243546|\n",
      "+----------+---------------+------------------+\n",
      "\n"
     ]
    }
   ],
   "source": [
    "CBO.show()"
   ]
  },
  {
   "cell_type": "markdown",
   "metadata": {},
   "source": [
    "### codigoBuscaAtivaAssintomatico"
   ]
  },
  {
   "cell_type": "code",
   "execution_count": 155,
   "metadata": {},
   "outputs": [],
   "source": [
    "codigoBuscaAtivaAssintomatico = cont_null_1cond('codigoEstrategiaCovid','2','codigoBuscaAtivaAssintomatico')"
   ]
  },
  {
   "cell_type": "code",
   "execution_count": 156,
   "metadata": {},
   "outputs": [
    {
     "name": "stdout",
     "output_type": "stream",
     "text": [
      "+--------------------+---------------+------------------+\n",
      "|          NomeColuna|QuantidadeNulos|QuantidadeNaoNulos|\n",
      "+--------------------+---------------+------------------+\n",
      "|codigoBuscaAtivaA...|             21|            824951|\n",
      "+--------------------+---------------+------------------+\n",
      "\n"
     ]
    }
   ],
   "source": [
    "codigoBuscaAtivaAssintomatico.show()"
   ]
  },
  {
   "cell_type": "markdown",
   "metadata": {},
   "source": [
    "### outroBuscaAtivaAssintomatico"
   ]
  },
  {
   "cell_type": "code",
   "execution_count": 157,
   "metadata": {},
   "outputs": [],
   "source": [
    "outroBuscaAtivaAssintomatico = cont_null_1cond('codigoBuscaAtivaAssintomatico','4','outroBuscaAtivaAssintomatico')"
   ]
  },
  {
   "cell_type": "code",
   "execution_count": 158,
   "metadata": {},
   "outputs": [
    {
     "name": "stdout",
     "output_type": "stream",
     "text": [
      "+--------------------+---------------+------------------+\n",
      "|          NomeColuna|QuantidadeNulos|QuantidadeNaoNulos|\n",
      "+--------------------+---------------+------------------+\n",
      "|outroBuscaAtivaAs...|            778|            137439|\n",
      "+--------------------+---------------+------------------+\n",
      "\n"
     ]
    }
   ],
   "source": [
    "outroBuscaAtivaAssintomatico.show()"
   ]
  },
  {
   "cell_type": "markdown",
   "metadata": {},
   "source": [
    "### codigoTriagemPopulacaoEspecifica"
   ]
  },
  {
   "cell_type": "code",
   "execution_count": 159,
   "metadata": {},
   "outputs": [],
   "source": [
    "codigoTriagemPopulacaoEspecifica = cont_null_1cond('codigoEstrategiaCovid','3','codigoTriagemPopulacaoEspecifica')"
   ]
  },
  {
   "cell_type": "code",
   "execution_count": 160,
   "metadata": {},
   "outputs": [
    {
     "name": "stdout",
     "output_type": "stream",
     "text": [
      "+--------------------+---------------+------------------+\n",
      "|          NomeColuna|QuantidadeNulos|QuantidadeNaoNulos|\n",
      "+--------------------+---------------+------------------+\n",
      "|codigoTriagemPopu...|              3|            108772|\n",
      "+--------------------+---------------+------------------+\n",
      "\n"
     ]
    }
   ],
   "source": [
    "codigoTriagemPopulacaoEspecifica.show()"
   ]
  },
  {
   "cell_type": "markdown",
   "metadata": {},
   "source": [
    "### outroTriagemPopulacaoEspecifica"
   ]
  },
  {
   "cell_type": "code",
   "execution_count": 161,
   "metadata": {},
   "outputs": [],
   "source": [
    "outroTriagemPopulacaoEspecifica = cont_null_1cond('codigoTriagemPopulacaoEspecifica','5','outroTriagemPopulacaoEspecifica')"
   ]
  },
  {
   "cell_type": "code",
   "execution_count": 162,
   "metadata": {},
   "outputs": [
    {
     "name": "stdout",
     "output_type": "stream",
     "text": [
      "+--------------------+---------------+------------------+\n",
      "|          NomeColuna|QuantidadeNulos|QuantidadeNaoNulos|\n",
      "+--------------------+---------------+------------------+\n",
      "|outroTriagemPopul...|            277|             35161|\n",
      "+--------------------+---------------+------------------+\n",
      "\n"
     ]
    }
   ],
   "source": [
    "outroTriagemPopulacaoEspecifica.show()"
   ]
  },
  {
   "cell_type": "markdown",
   "metadata": {},
   "source": [
    "### outroLocalRealizacaoTestagem "
   ]
  },
  {
   "cell_type": "code",
   "execution_count": 163,
   "metadata": {},
   "outputs": [],
   "source": [
    "outroLocalRealizacaoTestagem = cont_null_1cond('codigoLocalRealizacaoTestagem','7','outroLocalRealizacaoTestagem')"
   ]
  },
  {
   "cell_type": "code",
   "execution_count": 164,
   "metadata": {},
   "outputs": [
    {
     "name": "stdout",
     "output_type": "stream",
     "text": [
      "+--------------------+---------------+------------------+\n",
      "|          NomeColuna|QuantidadeNulos|QuantidadeNaoNulos|\n",
      "+--------------------+---------------+------------------+\n",
      "|outroLocalRealiza...|             29|            445225|\n",
      "+--------------------+---------------+------------------+\n",
      "\n"
     ]
    }
   ],
   "source": [
    "outroLocalRealizacaoTestagem.show()"
   ]
  },
  {
   "cell_type": "markdown",
   "metadata": {},
   "source": [
    "### outrosSintomas"
   ]
  },
  {
   "cell_type": "code",
   "execution_count": 165,
   "metadata": {},
   "outputs": [],
   "source": [
    "outrosSintomas = cont_null_1cond('Sintomas','Outros','outrosSintomas')"
   ]
  },
  {
   "cell_type": "code",
   "execution_count": 166,
   "metadata": {},
   "outputs": [
    {
     "name": "stdout",
     "output_type": "stream",
     "text": [
      "+--------------+---------------+------------------+\n",
      "|    NomeColuna|QuantidadeNulos|QuantidadeNaoNulos|\n",
      "+--------------+---------------+------------------+\n",
      "|outrosSintomas|           4261|            418336|\n",
      "+--------------+---------------+------------------+\n",
      "\n"
     ]
    }
   ],
   "source": [
    "outrosSintomas.show()"
   ]
  },
  {
   "cell_type": "markdown",
   "metadata": {},
   "source": [
    "### outrasCondicoes"
   ]
  },
  {
   "cell_type": "code",
   "execution_count": 167,
   "metadata": {},
   "outputs": [],
   "source": [
    "outrasCondicoes = cont_null_1cond('condicoes','Outros','outrasCondicoes')"
   ]
  },
  {
   "cell_type": "code",
   "execution_count": 168,
   "metadata": {},
   "outputs": [
    {
     "name": "stdout",
     "output_type": "stream",
     "text": [
      "+---------------+---------------+------------------+\n",
      "|     NomeColuna|QuantidadeNulos|QuantidadeNaoNulos|\n",
      "+---------------+---------------+------------------+\n",
      "|outrasCondicoes|           6660|            388973|\n",
      "+---------------+---------------+------------------+\n",
      "\n"
     ]
    }
   ],
   "source": [
    "outrasCondicoes.show()"
   ]
  },
  {
   "cell_type": "markdown",
   "metadata": {},
   "source": [
    "### dataColetaTeste1"
   ]
  },
  {
   "cell_type": "code",
   "execution_count": 169,
   "metadata": {},
   "outputs": [],
   "source": [
    "dataColetaTeste1 = cont_null_2cond('codigoEstadoTeste1','3', '2','dataColetaTeste1')"
   ]
  },
  {
   "cell_type": "code",
   "execution_count": 170,
   "metadata": {},
   "outputs": [
    {
     "name": "stdout",
     "output_type": "stream",
     "text": [
      "+----------------+---------------+------------------+\n",
      "|      NomeColuna|QuantidadeNulos|QuantidadeNaoNulos|\n",
      "+----------------+---------------+------------------+\n",
      "|dataColetaTeste1|           3402|          13209931|\n",
      "+----------------+---------------+------------------+\n",
      "\n"
     ]
    }
   ],
   "source": [
    "dataColetaTeste1.show()"
   ]
  },
  {
   "cell_type": "code",
   "execution_count": 194,
   "metadata": {},
   "outputs": [
    {
     "name": "stdout",
     "output_type": "stream",
     "text": [
      "+---------------------+-------+\n",
      "|codigoResultadoTeste1|  count|\n",
      "+---------------------+-------+\n",
      "|                    2|7874196|\n",
      "|                    1|4240873|\n",
      "|                 null|3443906|\n",
      "|                    3|  14917|\n",
      "+---------------------+-------+\n",
      "\n"
     ]
    }
   ],
   "source": [
    "df.groupby('codigoResultadoTeste1').count().orderBy(col('count').desc()).show()"
   ]
  },
  {
   "cell_type": "markdown",
   "metadata": {},
   "source": [
    "### codigoResultadoTeste1"
   ]
  },
  {
   "cell_type": "code",
   "execution_count": 203,
   "metadata": {},
   "outputs": [],
   "source": [
    "#ao contrário do que foi sugerido pelo dataset, o código de maior compatibilidade foi o código \"3\" e não o \"2\"\n",
    "\n",
    "codigoResultadoTeste1 = cont_null_1cond('codigoEstadoTeste1','3','codigoResultadoTeste1')"
   ]
  },
  {
   "cell_type": "code",
   "execution_count": 204,
   "metadata": {},
   "outputs": [
    {
     "name": "stdout",
     "output_type": "stream",
     "text": [
      "+--------------------+---------------+------------------+\n",
      "|          NomeColuna|QuantidadeNulos|QuantidadeNaoNulos|\n",
      "+--------------------+---------------+------------------+\n",
      "|codigoResultadoTe...|           2367|          12129962|\n",
      "+--------------------+---------------+------------------+\n",
      "\n"
     ]
    }
   ],
   "source": [
    "codigoResultadoTeste1.show()"
   ]
  },
  {
   "cell_type": "markdown",
   "metadata": {},
   "source": [
    "### codigoFabricanteTeste1"
   ]
  },
  {
   "cell_type": "code",
   "execution_count": 214,
   "metadata": {},
   "outputs": [],
   "source": [
    "codigoFabricanteTeste1 = cont_null_1cond('codigoTipoTeste1','3','codigoFabricanteTeste1')"
   ]
  },
  {
   "cell_type": "code",
   "execution_count": 215,
   "metadata": {},
   "outputs": [
    {
     "name": "stdout",
     "output_type": "stream",
     "text": [
      "+--------------------+---------------+------------------+\n",
      "|          NomeColuna|QuantidadeNulos|QuantidadeNaoNulos|\n",
      "+--------------------+---------------+------------------+\n",
      "|codigoFabricanteT...|         913164|           9125219|\n",
      "+--------------------+---------------+------------------+\n",
      "\n"
     ]
    }
   ],
   "source": [
    "codigoFabricanteTeste1.show()"
   ]
  },
  {
   "cell_type": "markdown",
   "metadata": {},
   "source": [
    "### dataColetaTeste2"
   ]
  },
  {
   "cell_type": "code",
   "execution_count": 216,
   "metadata": {},
   "outputs": [],
   "source": [
    "dataColetaTeste2 = cont_null_2cond('codigoEstadoTeste2','3', '2','dataColetaTeste2')"
   ]
  },
  {
   "cell_type": "code",
   "execution_count": 217,
   "metadata": {},
   "outputs": [
    {
     "name": "stdout",
     "output_type": "stream",
     "text": [
      "+----------------+---------------+------------------+\n",
      "|      NomeColuna|QuantidadeNulos|QuantidadeNaoNulos|\n",
      "+----------------+---------------+------------------+\n",
      "|dataColetaTeste2|            184|            640886|\n",
      "+----------------+---------------+------------------+\n",
      "\n"
     ]
    }
   ],
   "source": [
    "dataColetaTeste2.show()"
   ]
  },
  {
   "cell_type": "markdown",
   "metadata": {},
   "source": [
    "### codigoResultadoTeste2"
   ]
  },
  {
   "cell_type": "code",
   "execution_count": 205,
   "metadata": {},
   "outputs": [],
   "source": [
    "#ao contrário do que foi sugerido pelo dataset, o código de maior compatibilidade foi o código \"3\" e não o \"2\"\n",
    "\n",
    "codigoResultadoTeste2 = cont_null_1cond('codigoEstadoTeste2','3','codigoResultadoTeste2')"
   ]
  },
  {
   "cell_type": "code",
   "execution_count": 206,
   "metadata": {},
   "outputs": [
    {
     "name": "stdout",
     "output_type": "stream",
     "text": [
      "+--------------------+---------------+------------------+\n",
      "|          NomeColuna|QuantidadeNulos|QuantidadeNaoNulos|\n",
      "+--------------------+---------------+------------------+\n",
      "|codigoResultadoTe...|            564|            524256|\n",
      "+--------------------+---------------+------------------+\n",
      "\n"
     ]
    }
   ],
   "source": [
    "codigoResultadoTeste2.show()"
   ]
  },
  {
   "cell_type": "markdown",
   "metadata": {},
   "source": [
    "### codigoFabricanteTeste2"
   ]
  },
  {
   "cell_type": "code",
   "execution_count": 179,
   "metadata": {},
   "outputs": [],
   "source": [
    "codigoFabricanteTeste2 = cont_null_1cond('codigoTipoTeste2','3','codigoFabricanteTeste2')"
   ]
  },
  {
   "cell_type": "code",
   "execution_count": 180,
   "metadata": {},
   "outputs": [
    {
     "name": "stdout",
     "output_type": "stream",
     "text": [
      "+--------------------+---------------+------------------+\n",
      "|          NomeColuna|QuantidadeNulos|QuantidadeNaoNulos|\n",
      "+--------------------+---------------+------------------+\n",
      "|codigoFabricanteT...|          69461|            231080|\n",
      "+--------------------+---------------+------------------+\n",
      "\n"
     ]
    }
   ],
   "source": [
    "codigoFabricanteTeste2.show()"
   ]
  },
  {
   "cell_type": "markdown",
   "metadata": {},
   "source": [
    "### dataColetaTeste3"
   ]
  },
  {
   "cell_type": "code",
   "execution_count": 181,
   "metadata": {},
   "outputs": [],
   "source": [
    "dataColetaTeste3 = cont_null_2cond('codigoEstadoTeste3','3', '2','dataColetaTeste3')"
   ]
  },
  {
   "cell_type": "code",
   "execution_count": 182,
   "metadata": {},
   "outputs": [
    {
     "name": "stdout",
     "output_type": "stream",
     "text": [
      "+----------------+---------------+------------------+\n",
      "|      NomeColuna|QuantidadeNulos|QuantidadeNaoNulos|\n",
      "+----------------+---------------+------------------+\n",
      "|dataColetaTeste3|             69|             32658|\n",
      "+----------------+---------------+------------------+\n",
      "\n"
     ]
    }
   ],
   "source": [
    "dataColetaTeste3.show()"
   ]
  },
  {
   "cell_type": "markdown",
   "metadata": {},
   "source": [
    "### codigoResultadoTeste3"
   ]
  },
  {
   "cell_type": "code",
   "execution_count": 207,
   "metadata": {},
   "outputs": [],
   "source": [
    "#ao contrário do que foi sugerido pelo dataset, o código de maior compatibilidade foi o código \"3\" e não o \"2\"\n",
    "\n",
    "codigoResultadoTeste3 = cont_null_1cond('codigoEstadoTeste3','3','codigoResultadoTeste3')"
   ]
  },
  {
   "cell_type": "code",
   "execution_count": 208,
   "metadata": {},
   "outputs": [
    {
     "name": "stdout",
     "output_type": "stream",
     "text": [
      "+--------------------+---------------+------------------+\n",
      "|          NomeColuna|QuantidadeNulos|QuantidadeNaoNulos|\n",
      "+--------------------+---------------+------------------+\n",
      "|codigoResultadoTe...|            148|             28732|\n",
      "+--------------------+---------------+------------------+\n",
      "\n"
     ]
    }
   ],
   "source": [
    "codigoResultadoTeste3.show()"
   ]
  },
  {
   "cell_type": "markdown",
   "metadata": {},
   "source": [
    "### codigoFabricanteTeste3"
   ]
  },
  {
   "cell_type": "code",
   "execution_count": 185,
   "metadata": {},
   "outputs": [],
   "source": [
    "codigoFabricanteTeste3 = cont_null_1cond('codigoTipoTeste3','3','codigoFabricanteTeste3')"
   ]
  },
  {
   "cell_type": "code",
   "execution_count": 186,
   "metadata": {},
   "outputs": [
    {
     "name": "stdout",
     "output_type": "stream",
     "text": [
      "+--------------------+---------------+------------------+\n",
      "|          NomeColuna|QuantidadeNulos|QuantidadeNaoNulos|\n",
      "+--------------------+---------------+------------------+\n",
      "|codigoFabricanteT...|           9940|              9933|\n",
      "+--------------------+---------------+------------------+\n",
      "\n"
     ]
    }
   ],
   "source": [
    "codigoFabricanteTeste3.show()"
   ]
  },
  {
   "cell_type": "markdown",
   "metadata": {},
   "source": [
    "### dataColetaTeste4"
   ]
  },
  {
   "cell_type": "code",
   "execution_count": 187,
   "metadata": {},
   "outputs": [],
   "source": [
    "dataColetaTeste4 = cont_null_2cond('codigoEstadoTeste4','3', '2','dataColetaTeste4')"
   ]
  },
  {
   "cell_type": "code",
   "execution_count": 188,
   "metadata": {},
   "outputs": [
    {
     "name": "stdout",
     "output_type": "stream",
     "text": [
      "+----------------+---------------+------------------+\n",
      "|      NomeColuna|QuantidadeNulos|QuantidadeNaoNulos|\n",
      "+----------------+---------------+------------------+\n",
      "|dataColetaTeste4|              2|              4409|\n",
      "+----------------+---------------+------------------+\n",
      "\n"
     ]
    }
   ],
   "source": [
    "dataColetaTeste4.show()"
   ]
  },
  {
   "cell_type": "markdown",
   "metadata": {},
   "source": [
    "### codigoResultadoTeste4"
   ]
  },
  {
   "cell_type": "code",
   "execution_count": 209,
   "metadata": {},
   "outputs": [],
   "source": [
    "#ao contrário do que foi sugerido pelo dataset, o código de maior compatibilidade foi o código \"3\" e não o \"2\"\n",
    "\n",
    "codigoResultadoTeste4 = cont_null_1cond('codigoEstadoTeste4','3','codigoResultadoTeste4')"
   ]
  },
  {
   "cell_type": "code",
   "execution_count": 210,
   "metadata": {},
   "outputs": [
    {
     "name": "stdout",
     "output_type": "stream",
     "text": [
      "+--------------------+---------------+------------------+\n",
      "|          NomeColuna|QuantidadeNulos|QuantidadeNaoNulos|\n",
      "+--------------------+---------------+------------------+\n",
      "|codigoResultadoTe...|             14|              3881|\n",
      "+--------------------+---------------+------------------+\n",
      "\n"
     ]
    }
   ],
   "source": [
    "codigoResultadoTeste4.show()"
   ]
  },
  {
   "cell_type": "markdown",
   "metadata": {},
   "source": [
    "### codigoFabricanteTeste4"
   ]
  },
  {
   "cell_type": "code",
   "execution_count": 191,
   "metadata": {},
   "outputs": [],
   "source": [
    "codigoFabricanteTeste4 = cont_null_1cond('codigoTipoTeste4','3','codigoFabricanteTeste4')"
   ]
  },
  {
   "cell_type": "code",
   "execution_count": 192,
   "metadata": {},
   "outputs": [
    {
     "name": "stdout",
     "output_type": "stream",
     "text": [
      "+--------------------+---------------+------------------+\n",
      "|          NomeColuna|QuantidadeNulos|QuantidadeNaoNulos|\n",
      "+--------------------+---------------+------------------+\n",
      "|codigoFabricanteT...|            552|              1607|\n",
      "+--------------------+---------------+------------------+\n",
      "\n"
     ]
    }
   ],
   "source": [
    "codigoFabricanteTeste4.show()"
   ]
  },
  {
   "cell_type": "markdown",
   "metadata": {},
   "source": [
    "### dataEncerramento"
   ]
  },
  {
   "cell_type": "code",
   "execution_count": 221,
   "metadata": {},
   "outputs": [],
   "source": [
    "dataEncerramento = cont_null_cond('evolucaoCaso', 'dataEncerramento')"
   ]
  },
  {
   "cell_type": "code",
   "execution_count": 222,
   "metadata": {},
   "outputs": [
    {
     "name": "stdout",
     "output_type": "stream",
     "text": [
      "+----------------+---------------+------------------+\n",
      "|      NomeColuna|QuantidadeNulos|QuantidadeNaoNulos|\n",
      "+----------------+---------------+------------------+\n",
      "|dataEncerramento|              5|           7498083|\n",
      "+----------------+---------------+------------------+\n",
      "\n"
     ]
    }
   ],
   "source": [
    "dataEncerramento.show()"
   ]
  },
  {
   "cell_type": "code",
   "execution_count": 235,
   "metadata": {},
   "outputs": [],
   "source": [
    "#Unir dados de cada coluna\n",
    "\n",
    "obr_cond = tabela.union(CBO)\\\n",
    "        .union(codigoBuscaAtivaAssintomatico)\\\n",
    "        .union(outroBuscaAtivaAssintomatico)\\\n",
    "        .union(codigoTriagemPopulacaoEspecifica)\\\n",
    "        .union(outroTriagemPopulacaoEspecifica)\\\n",
    "        .union(outroLocalRealizacaoTestagem)\\\n",
    "        .union(outrosSintomas)\\\n",
    "        .union(outrasCondicoes)\\\n",
    "        .union(dataColetaTeste1)\\\n",
    "        .union(codigoResultadoTeste1)\\\n",
    "        .union(codigoFabricanteTeste1)\\\n",
    "        .union(dataColetaTeste2)\\\n",
    "        .union(codigoResultadoTeste2)\\\n",
    "        .union(codigoFabricanteTeste2)\\\n",
    "        .union(dataColetaTeste3)\\\n",
    "        .union(codigoResultadoTeste3)\\\n",
    "        .union(codigoFabricanteTeste3)\\\n",
    "        .union(dataColetaTeste4)\\\n",
    "        .union(codigoResultadoTeste4)\\\n",
    "        .union(codigoFabricanteTeste4)\\\n",
    "        .union(dataEncerramento)\\\n",
    "        .toPandas()"
   ]
  },
  {
   "cell_type": "code",
   "execution_count": 284,
   "metadata": {},
   "outputs": [],
   "source": [
    "#Tansformando valores em float\n",
    "obr_cond['QuantidadeNulos'] = obr_cond['QuantidadeNulos'].astype(int)\n",
    "obr_cond['QuantidadeNaoNulos'] = obr_cond['QuantidadeNaoNulos'].astype(int)"
   ]
  },
  {
   "cell_type": "code",
   "execution_count": 308,
   "metadata": {},
   "outputs": [
    {
     "data": {
      "text/html": [
       "<div>\n",
       "<style scoped>\n",
       "    .dataframe tbody tr th:only-of-type {\n",
       "        vertical-align: middle;\n",
       "    }\n",
       "\n",
       "    .dataframe tbody tr th {\n",
       "        vertical-align: top;\n",
       "    }\n",
       "\n",
       "    .dataframe thead th {\n",
       "        text-align: right;\n",
       "    }\n",
       "</style>\n",
       "<table border=\"1\" class=\"dataframe\">\n",
       "  <thead>\n",
       "    <tr style=\"text-align: right;\">\n",
       "      <th></th>\n",
       "      <th>Coluna</th>\n",
       "      <th>Quantidade de Nulos</th>\n",
       "      <th>% Valores Completos</th>\n",
       "    </tr>\n",
       "  </thead>\n",
       "  <tbody>\n",
       "    <tr>\n",
       "      <th>0</th>\n",
       "      <td>CBO</td>\n",
       "      <td>3244</td>\n",
       "      <td>98.69</td>\n",
       "    </tr>\n",
       "    <tr>\n",
       "      <th>1</th>\n",
       "      <td>codigoBuscaAtivaAssintomatico</td>\n",
       "      <td>21</td>\n",
       "      <td>100.00</td>\n",
       "    </tr>\n",
       "    <tr>\n",
       "      <th>2</th>\n",
       "      <td>outroBuscaAtivaAssintomatico</td>\n",
       "      <td>778</td>\n",
       "      <td>99.44</td>\n",
       "    </tr>\n",
       "    <tr>\n",
       "      <th>3</th>\n",
       "      <td>codigoTriagemPopulacaoEspecifica</td>\n",
       "      <td>3</td>\n",
       "      <td>100.00</td>\n",
       "    </tr>\n",
       "    <tr>\n",
       "      <th>4</th>\n",
       "      <td>outroTriagemPopulacaoEspecifica</td>\n",
       "      <td>277</td>\n",
       "      <td>99.22</td>\n",
       "    </tr>\n",
       "    <tr>\n",
       "      <th>5</th>\n",
       "      <td>outroLocalRealizacaoTestagem</td>\n",
       "      <td>29</td>\n",
       "      <td>99.99</td>\n",
       "    </tr>\n",
       "    <tr>\n",
       "      <th>6</th>\n",
       "      <td>outrosSintomas</td>\n",
       "      <td>4261</td>\n",
       "      <td>98.99</td>\n",
       "    </tr>\n",
       "    <tr>\n",
       "      <th>7</th>\n",
       "      <td>outrasCondicoes</td>\n",
       "      <td>6660</td>\n",
       "      <td>98.32</td>\n",
       "    </tr>\n",
       "    <tr>\n",
       "      <th>8</th>\n",
       "      <td>dataColetaTeste1</td>\n",
       "      <td>3402</td>\n",
       "      <td>99.97</td>\n",
       "    </tr>\n",
       "    <tr>\n",
       "      <th>9</th>\n",
       "      <td>codigoResultadoTeste1</td>\n",
       "      <td>2367</td>\n",
       "      <td>99.98</td>\n",
       "    </tr>\n",
       "    <tr>\n",
       "      <th>10</th>\n",
       "      <td>codigoFabricanteTeste1</td>\n",
       "      <td>913164</td>\n",
       "      <td>90.90</td>\n",
       "    </tr>\n",
       "    <tr>\n",
       "      <th>11</th>\n",
       "      <td>dataColetaTeste2</td>\n",
       "      <td>184</td>\n",
       "      <td>99.97</td>\n",
       "    </tr>\n",
       "    <tr>\n",
       "      <th>12</th>\n",
       "      <td>codigoResultadoTeste2</td>\n",
       "      <td>564</td>\n",
       "      <td>99.89</td>\n",
       "    </tr>\n",
       "    <tr>\n",
       "      <th>13</th>\n",
       "      <td>codigoFabricanteTeste2</td>\n",
       "      <td>69461</td>\n",
       "      <td>76.89</td>\n",
       "    </tr>\n",
       "    <tr>\n",
       "      <th>14</th>\n",
       "      <td>dataColetaTeste3</td>\n",
       "      <td>69</td>\n",
       "      <td>99.79</td>\n",
       "    </tr>\n",
       "    <tr>\n",
       "      <th>15</th>\n",
       "      <td>codigoResultadoTeste3</td>\n",
       "      <td>148</td>\n",
       "      <td>99.49</td>\n",
       "    </tr>\n",
       "    <tr>\n",
       "      <th>16</th>\n",
       "      <td>codigoFabricanteTeste3</td>\n",
       "      <td>9940</td>\n",
       "      <td>49.98</td>\n",
       "    </tr>\n",
       "    <tr>\n",
       "      <th>17</th>\n",
       "      <td>dataColetaTeste4</td>\n",
       "      <td>2</td>\n",
       "      <td>99.95</td>\n",
       "    </tr>\n",
       "    <tr>\n",
       "      <th>18</th>\n",
       "      <td>codigoResultadoTeste4</td>\n",
       "      <td>14</td>\n",
       "      <td>99.64</td>\n",
       "    </tr>\n",
       "    <tr>\n",
       "      <th>19</th>\n",
       "      <td>codigoFabricanteTeste4</td>\n",
       "      <td>552</td>\n",
       "      <td>74.43</td>\n",
       "    </tr>\n",
       "    <tr>\n",
       "      <th>20</th>\n",
       "      <td>dataEncerramento</td>\n",
       "      <td>5</td>\n",
       "      <td>100.00</td>\n",
       "    </tr>\n",
       "  </tbody>\n",
       "</table>\n",
       "</div>"
      ],
      "text/plain": [
       "                              Coluna  Quantidade de Nulos  % Valores Completos\n",
       "0                                CBO                 3244                98.69\n",
       "1      codigoBuscaAtivaAssintomatico                   21               100.00\n",
       "2       outroBuscaAtivaAssintomatico                  778                99.44\n",
       "3   codigoTriagemPopulacaoEspecifica                    3               100.00\n",
       "4    outroTriagemPopulacaoEspecifica                  277                99.22\n",
       "5       outroLocalRealizacaoTestagem                   29                99.99\n",
       "6                     outrosSintomas                 4261                98.99\n",
       "7                    outrasCondicoes                 6660                98.32\n",
       "8                   dataColetaTeste1                 3402                99.97\n",
       "9              codigoResultadoTeste1                 2367                99.98\n",
       "10            codigoFabricanteTeste1               913164                90.90\n",
       "11                  dataColetaTeste2                  184                99.97\n",
       "12             codigoResultadoTeste2                  564                99.89\n",
       "13            codigoFabricanteTeste2                69461                76.89\n",
       "14                  dataColetaTeste3                   69                99.79\n",
       "15             codigoResultadoTeste3                  148                99.49\n",
       "16            codigoFabricanteTeste3                 9940                49.98\n",
       "17                  dataColetaTeste4                    2                99.95\n",
       "18             codigoResultadoTeste4                   14                99.64\n",
       "19            codigoFabricanteTeste4                  552                74.43\n",
       "20                  dataEncerramento                    5               100.00"
      ]
     },
     "execution_count": 308,
     "metadata": {},
     "output_type": "execute_result"
    }
   ],
   "source": [
    "#Calculando percentual de nulos\n",
    "\n",
    "obr_cond['% Valores Completos'] = (obr_cond['QuantidadeNaoNulos'] / (obr_cond['QuantidadeNulos'] + obr_cond['QuantidadeNaoNulos']) * 100).round(decimals = 2)\n",
    "obr_cond.rename(columns = {'QuantidadeNulos':'Quantidade de Nulos'}, inplace = True)\n",
    "obr_cond.drop('QuantidadeNaoNulos', axis=1)"
   ]
  },
  {
   "cell_type": "markdown",
   "metadata": {},
   "source": [
    "## Colunas de preenchimento obrigatório condicional e automático"
   ]
  },
  {
   "cell_type": "markdown",
   "metadata": {},
   "source": [
    "### dataPrimeiraDose"
   ]
  },
  {
   "cell_type": "code",
   "execution_count": 223,
   "metadata": {},
   "outputs": [],
   "source": [
    "dataPrimeiraDose = cont_null_1cond_auto('codigoDosesVacina','1','dataPrimeiraDose')"
   ]
  },
  {
   "cell_type": "code",
   "execution_count": 224,
   "metadata": {},
   "outputs": [
    {
     "name": "stdout",
     "output_type": "stream",
     "text": [
      "+----------------+---------------+------------------+\n",
      "|      NomeColuna|QuantidadeNulos|QuantidadeNaoNulos|\n",
      "+----------------+---------------+------------------+\n",
      "|dataPrimeiraDose|              0|           9314161|\n",
      "+----------------+---------------+------------------+\n",
      "\n"
     ]
    }
   ],
   "source": [
    "dataPrimeiraDose.show()"
   ]
  },
  {
   "cell_type": "markdown",
   "metadata": {},
   "source": [
    "### lotePrimeiraDose"
   ]
  },
  {
   "cell_type": "code",
   "execution_count": 225,
   "metadata": {},
   "outputs": [],
   "source": [
    "lotePrimeiraDose = cont_null_1cond_auto('codigoDosesVacina','1','lotePrimeiraDose')"
   ]
  },
  {
   "cell_type": "code",
   "execution_count": 226,
   "metadata": {},
   "outputs": [
    {
     "name": "stdout",
     "output_type": "stream",
     "text": [
      "+----------------+---------------+------------------+\n",
      "|      NomeColuna|QuantidadeNulos|QuantidadeNaoNulos|\n",
      "+----------------+---------------+------------------+\n",
      "|lotePrimeiraDose|          69113|           9245048|\n",
      "+----------------+---------------+------------------+\n",
      "\n"
     ]
    }
   ],
   "source": [
    "lotePrimeiraDose.show()"
   ]
  },
  {
   "cell_type": "markdown",
   "metadata": {},
   "source": [
    "### codigoLaboratorioPrimeiraDose"
   ]
  },
  {
   "cell_type": "code",
   "execution_count": 227,
   "metadata": {},
   "outputs": [],
   "source": [
    "codigoLaboratorioPrimeiraDose = cont_null_1cond_auto('codigoDosesVacina','1','codigoLaboratorioPrimeiraDose')"
   ]
  },
  {
   "cell_type": "code",
   "execution_count": 228,
   "metadata": {},
   "outputs": [
    {
     "name": "stdout",
     "output_type": "stream",
     "text": [
      "+--------------------+---------------+------------------+\n",
      "|          NomeColuna|QuantidadeNulos|QuantidadeNaoNulos|\n",
      "+--------------------+---------------+------------------+\n",
      "|codigoLaboratorio...|          69106|           9245055|\n",
      "+--------------------+---------------+------------------+\n",
      "\n"
     ]
    }
   ],
   "source": [
    "codigoLaboratorioPrimeiraDose.show()"
   ]
  },
  {
   "cell_type": "markdown",
   "metadata": {},
   "source": [
    "### dataSegundaDose"
   ]
  },
  {
   "cell_type": "code",
   "execution_count": 229,
   "metadata": {},
   "outputs": [],
   "source": [
    "dataSegundaDose = cont_null_1cond_auto('codigoDosesVacina','2','dataSegundaDose')"
   ]
  },
  {
   "cell_type": "code",
   "execution_count": 230,
   "metadata": {},
   "outputs": [
    {
     "name": "stdout",
     "output_type": "stream",
     "text": [
      "+---------------+---------------+------------------+\n",
      "|     NomeColuna|QuantidadeNulos|QuantidadeNaoNulos|\n",
      "+---------------+---------------+------------------+\n",
      "|dataSegundaDose|              0|           8102116|\n",
      "+---------------+---------------+------------------+\n",
      "\n"
     ]
    }
   ],
   "source": [
    "dataSegundaDose.show()"
   ]
  },
  {
   "cell_type": "markdown",
   "metadata": {},
   "source": [
    "### codigoLaboratorioSegundaDose"
   ]
  },
  {
   "cell_type": "code",
   "execution_count": 231,
   "metadata": {},
   "outputs": [],
   "source": [
    "codigoLaboratorioSegundaDose = cont_null_1cond_auto('codigoDosesVacina','2','codigoLaboratorioSegundaDose')"
   ]
  },
  {
   "cell_type": "code",
   "execution_count": 232,
   "metadata": {},
   "outputs": [
    {
     "name": "stdout",
     "output_type": "stream",
     "text": [
      "+--------------------+---------------+------------------+\n",
      "|          NomeColuna|QuantidadeNulos|QuantidadeNaoNulos|\n",
      "+--------------------+---------------+------------------+\n",
      "|codigoLaboratorio...|          78076|           8024040|\n",
      "+--------------------+---------------+------------------+\n",
      "\n"
     ]
    }
   ],
   "source": [
    "codigoLaboratorioSegundaDose.show()"
   ]
  },
  {
   "cell_type": "markdown",
   "metadata": {},
   "source": [
    "### loteSegundaDose"
   ]
  },
  {
   "cell_type": "code",
   "execution_count": 233,
   "metadata": {},
   "outputs": [],
   "source": [
    "loteSegundaDose = cont_null_1cond_auto('codigoDosesVacina','2','loteSegundaDose')"
   ]
  },
  {
   "cell_type": "code",
   "execution_count": 234,
   "metadata": {},
   "outputs": [
    {
     "name": "stdout",
     "output_type": "stream",
     "text": [
      "+---------------+---------------+------------------+\n",
      "|     NomeColuna|QuantidadeNulos|QuantidadeNaoNulos|\n",
      "+---------------+---------------+------------------+\n",
      "|loteSegundaDose|          78107|           8024009|\n",
      "+---------------+---------------+------------------+\n",
      "\n"
     ]
    }
   ],
   "source": [
    "loteSegundaDose.show()"
   ]
  },
  {
   "cell_type": "code",
   "execution_count": 236,
   "metadata": {},
   "outputs": [],
   "source": [
    "#Unir dados de cada coluna\n",
    "\n",
    "obr_cond_aut = tabela.union(dataPrimeiraDose)\\\n",
    "        .union(lotePrimeiraDose)\\\n",
    "        .union(codigoLaboratorioPrimeiraDose)\\\n",
    "        .union(dataSegundaDose)\\\n",
    "        .union(codigoLaboratorioSegundaDose)\\\n",
    "        .union(loteSegundaDose)\\\n",
    "        .toPandas()"
   ]
  },
  {
   "cell_type": "code",
   "execution_count": 286,
   "metadata": {},
   "outputs": [],
   "source": [
    "#Tansformando valores em float\n",
    "obr_cond_aut['QuantidadeNulos'] = obr_cond_aut['QuantidadeNulos'].astype(int)\n",
    "obr_cond_aut['QuantidadeNaoNulos'] = obr_cond_aut['QuantidadeNaoNulos'].astype(int)"
   ]
  },
  {
   "cell_type": "code",
   "execution_count": 309,
   "metadata": {},
   "outputs": [
    {
     "data": {
      "text/html": [
       "<div>\n",
       "<style scoped>\n",
       "    .dataframe tbody tr th:only-of-type {\n",
       "        vertical-align: middle;\n",
       "    }\n",
       "\n",
       "    .dataframe tbody tr th {\n",
       "        vertical-align: top;\n",
       "    }\n",
       "\n",
       "    .dataframe thead th {\n",
       "        text-align: right;\n",
       "    }\n",
       "</style>\n",
       "<table border=\"1\" class=\"dataframe\">\n",
       "  <thead>\n",
       "    <tr style=\"text-align: right;\">\n",
       "      <th></th>\n",
       "      <th>Coluna</th>\n",
       "      <th>Quantidade de Nulos</th>\n",
       "      <th>% Valores Completos</th>\n",
       "    </tr>\n",
       "  </thead>\n",
       "  <tbody>\n",
       "    <tr>\n",
       "      <th>0</th>\n",
       "      <td>dataPrimeiraDose</td>\n",
       "      <td>0</td>\n",
       "      <td>100.00</td>\n",
       "    </tr>\n",
       "    <tr>\n",
       "      <th>1</th>\n",
       "      <td>lotePrimeiraDose</td>\n",
       "      <td>69113</td>\n",
       "      <td>99.26</td>\n",
       "    </tr>\n",
       "    <tr>\n",
       "      <th>2</th>\n",
       "      <td>codigoLaboratorioPrimeiraDose</td>\n",
       "      <td>69106</td>\n",
       "      <td>99.26</td>\n",
       "    </tr>\n",
       "    <tr>\n",
       "      <th>3</th>\n",
       "      <td>dataSegundaDose</td>\n",
       "      <td>0</td>\n",
       "      <td>100.00</td>\n",
       "    </tr>\n",
       "    <tr>\n",
       "      <th>4</th>\n",
       "      <td>codigoLaboratorioSegundaDose</td>\n",
       "      <td>78076</td>\n",
       "      <td>99.04</td>\n",
       "    </tr>\n",
       "    <tr>\n",
       "      <th>5</th>\n",
       "      <td>loteSegundaDose</td>\n",
       "      <td>78107</td>\n",
       "      <td>99.04</td>\n",
       "    </tr>\n",
       "  </tbody>\n",
       "</table>\n",
       "</div>"
      ],
      "text/plain": [
       "                          Coluna  Quantidade de Nulos  % Valores Completos\n",
       "0               dataPrimeiraDose                    0               100.00\n",
       "1               lotePrimeiraDose                69113                99.26\n",
       "2  codigoLaboratorioPrimeiraDose                69106                99.26\n",
       "3                dataSegundaDose                    0               100.00\n",
       "4   codigoLaboratorioSegundaDose                78076                99.04\n",
       "5                loteSegundaDose                78107                99.04"
      ]
     },
     "execution_count": 309,
     "metadata": {},
     "output_type": "execute_result"
    }
   ],
   "source": [
    "#Calculando percentual de nulos\n",
    "\n",
    "obr_cond_aut['% Valores Completos'] = (obr_cond_aut['QuantidadeNaoNulos'] / (obr_cond_aut['QuantidadeNulos'] + obr_cond_aut['QuantidadeNaoNulos']) * 100).round(decimals = 2)\n",
    "obr_cond_aut.rename(columns = {'QuantidadeNulos':'Quantidade de Nulos'}, inplace = True)\n",
    "obr_cond_aut.drop('QuantidadeNaoNulos', axis=1)"
   ]
  }
 ],
 "metadata": {
  "kernelspec": {
   "display_name": "Python 3 (ipykernel)",
   "language": "python",
   "name": "python3"
  },
  "language_info": {
   "codemirror_mode": {
    "name": "ipython",
    "version": 3
   },
   "file_extension": ".py",
   "mimetype": "text/x-python",
   "name": "python",
   "nbconvert_exporter": "python",
   "pygments_lexer": "ipython3",
   "version": "3.9.7"
  }
 },
 "nbformat": 4,
 "nbformat_minor": 4
}
